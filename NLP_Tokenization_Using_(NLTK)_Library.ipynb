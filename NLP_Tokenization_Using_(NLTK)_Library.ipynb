{
  "nbformat": 4,
  "nbformat_minor": 0,
  "metadata": {
    "colab": {
      "provenance": []
    },
    "kernelspec": {
      "name": "python3",
      "display_name": "Python 3"
    },
    "language_info": {
      "name": "python"
    }
  },
  "cells": [
    {
      "cell_type": "markdown",
      "source": [
        "# **1.) Using NLTK library we experimented on how the Tokenization is perform.**"
      ],
      "metadata": {
        "id": "C86w3kh798bw"
      }
    },
    {
      "cell_type": "code",
      "execution_count": 441,
      "metadata": {
        "id": "Mnc7OYoB1703",
        "colab": {
          "base_uri": "https://localhost:8080/"
        },
        "outputId": "2aede19b-4b8f-41bc-e7ed-6c3a29a33111"
      },
      "outputs": [
        {
          "output_type": "stream",
          "name": "stdout",
          "text": [
            "Requirement already satisfied: nltk in /usr/local/lib/python3.10/dist-packages (3.8.1)\n",
            "Requirement already satisfied: click in /usr/local/lib/python3.10/dist-packages (from nltk) (8.1.7)\n",
            "Requirement already satisfied: joblib in /usr/local/lib/python3.10/dist-packages (from nltk) (1.3.2)\n",
            "Requirement already satisfied: regex>=2021.8.3 in /usr/local/lib/python3.10/dist-packages (from nltk) (2023.12.25)\n",
            "Requirement already satisfied: tqdm in /usr/local/lib/python3.10/dist-packages (from nltk) (4.66.2)\n"
          ]
        }
      ],
      "source": [
        "# Installing the \"nltk\" library\n",
        "!pip install nltk"
      ]
    },
    {
      "cell_type": "code",
      "source": [
        "!pip install spacy"
      ],
      "metadata": {
        "colab": {
          "base_uri": "https://localhost:8080/"
        },
        "id": "zhGxOtR85tLr",
        "outputId": "59b2f7c7-39f7-492a-f5bc-b50ea74a9328"
      },
      "execution_count": 442,
      "outputs": [
        {
          "output_type": "stream",
          "name": "stdout",
          "text": [
            "Requirement already satisfied: spacy in /usr/local/lib/python3.10/dist-packages (3.7.4)\n",
            "Requirement already satisfied: spacy-legacy<3.1.0,>=3.0.11 in /usr/local/lib/python3.10/dist-packages (from spacy) (3.0.12)\n",
            "Requirement already satisfied: spacy-loggers<2.0.0,>=1.0.0 in /usr/local/lib/python3.10/dist-packages (from spacy) (1.0.5)\n",
            "Requirement already satisfied: murmurhash<1.1.0,>=0.28.0 in /usr/local/lib/python3.10/dist-packages (from spacy) (1.0.10)\n",
            "Requirement already satisfied: cymem<2.1.0,>=2.0.2 in /usr/local/lib/python3.10/dist-packages (from spacy) (2.0.8)\n",
            "Requirement already satisfied: preshed<3.1.0,>=3.0.2 in /usr/local/lib/python3.10/dist-packages (from spacy) (3.0.9)\n",
            "Requirement already satisfied: thinc<8.3.0,>=8.2.2 in /usr/local/lib/python3.10/dist-packages (from spacy) (8.2.3)\n",
            "Requirement already satisfied: wasabi<1.2.0,>=0.9.1 in /usr/local/lib/python3.10/dist-packages (from spacy) (1.1.2)\n",
            "Requirement already satisfied: srsly<3.0.0,>=2.4.3 in /usr/local/lib/python3.10/dist-packages (from spacy) (2.4.8)\n",
            "Requirement already satisfied: catalogue<2.1.0,>=2.0.6 in /usr/local/lib/python3.10/dist-packages (from spacy) (2.0.10)\n",
            "Requirement already satisfied: weasel<0.4.0,>=0.1.0 in /usr/local/lib/python3.10/dist-packages (from spacy) (0.3.4)\n",
            "Requirement already satisfied: typer<0.10.0,>=0.3.0 in /usr/local/lib/python3.10/dist-packages (from spacy) (0.9.0)\n",
            "Requirement already satisfied: smart-open<7.0.0,>=5.2.1 in /usr/local/lib/python3.10/dist-packages (from spacy) (6.4.0)\n",
            "Requirement already satisfied: tqdm<5.0.0,>=4.38.0 in /usr/local/lib/python3.10/dist-packages (from spacy) (4.66.2)\n",
            "Requirement already satisfied: requests<3.0.0,>=2.13.0 in /usr/local/lib/python3.10/dist-packages (from spacy) (2.31.0)\n",
            "Requirement already satisfied: pydantic!=1.8,!=1.8.1,<3.0.0,>=1.7.4 in /usr/local/lib/python3.10/dist-packages (from spacy) (2.6.3)\n",
            "Requirement already satisfied: jinja2 in /usr/local/lib/python3.10/dist-packages (from spacy) (3.1.3)\n",
            "Requirement already satisfied: setuptools in /usr/local/lib/python3.10/dist-packages (from spacy) (67.7.2)\n",
            "Requirement already satisfied: packaging>=20.0 in /usr/local/lib/python3.10/dist-packages (from spacy) (23.2)\n",
            "Requirement already satisfied: langcodes<4.0.0,>=3.2.0 in /usr/local/lib/python3.10/dist-packages (from spacy) (3.3.0)\n",
            "Requirement already satisfied: numpy>=1.19.0 in /usr/local/lib/python3.10/dist-packages (from spacy) (1.25.2)\n",
            "Requirement already satisfied: annotated-types>=0.4.0 in /usr/local/lib/python3.10/dist-packages (from pydantic!=1.8,!=1.8.1,<3.0.0,>=1.7.4->spacy) (0.6.0)\n",
            "Requirement already satisfied: pydantic-core==2.16.3 in /usr/local/lib/python3.10/dist-packages (from pydantic!=1.8,!=1.8.1,<3.0.0,>=1.7.4->spacy) (2.16.3)\n",
            "Requirement already satisfied: typing-extensions>=4.6.1 in /usr/local/lib/python3.10/dist-packages (from pydantic!=1.8,!=1.8.1,<3.0.0,>=1.7.4->spacy) (4.10.0)\n",
            "Requirement already satisfied: charset-normalizer<4,>=2 in /usr/local/lib/python3.10/dist-packages (from requests<3.0.0,>=2.13.0->spacy) (3.3.2)\n",
            "Requirement already satisfied: idna<4,>=2.5 in /usr/local/lib/python3.10/dist-packages (from requests<3.0.0,>=2.13.0->spacy) (3.6)\n",
            "Requirement already satisfied: urllib3<3,>=1.21.1 in /usr/local/lib/python3.10/dist-packages (from requests<3.0.0,>=2.13.0->spacy) (2.0.7)\n",
            "Requirement already satisfied: certifi>=2017.4.17 in /usr/local/lib/python3.10/dist-packages (from requests<3.0.0,>=2.13.0->spacy) (2024.2.2)\n",
            "Requirement already satisfied: blis<0.8.0,>=0.7.8 in /usr/local/lib/python3.10/dist-packages (from thinc<8.3.0,>=8.2.2->spacy) (0.7.11)\n",
            "Requirement already satisfied: confection<1.0.0,>=0.0.1 in /usr/local/lib/python3.10/dist-packages (from thinc<8.3.0,>=8.2.2->spacy) (0.1.4)\n",
            "Requirement already satisfied: click<9.0.0,>=7.1.1 in /usr/local/lib/python3.10/dist-packages (from typer<0.10.0,>=0.3.0->spacy) (8.1.7)\n",
            "Requirement already satisfied: cloudpathlib<0.17.0,>=0.7.0 in /usr/local/lib/python3.10/dist-packages (from weasel<0.4.0,>=0.1.0->spacy) (0.16.0)\n",
            "Requirement already satisfied: MarkupSafe>=2.0 in /usr/local/lib/python3.10/dist-packages (from jinja2->spacy) (2.1.5)\n"
          ]
        }
      ]
    },
    {
      "cell_type": "code",
      "source": [
        "!python -m spacy download en\n"
      ],
      "metadata": {
        "colab": {
          "base_uri": "https://localhost:8080/"
        },
        "id": "tg6rYnx85xbt",
        "outputId": "325a2c68-2e78-42c4-d3ce-b995dbc4f71d"
      },
      "execution_count": 443,
      "outputs": [
        {
          "output_type": "stream",
          "name": "stdout",
          "text": [
            "\u001b[38;5;3m⚠ As of spaCy v3.0, shortcuts like 'en' are deprecated. Please use the\n",
            "full pipeline package name 'en_core_web_sm' instead.\u001b[0m\n",
            "Collecting en-core-web-sm==3.7.1\n",
            "  Downloading https://github.com/explosion/spacy-models/releases/download/en_core_web_sm-3.7.1/en_core_web_sm-3.7.1-py3-none-any.whl (12.8 MB)\n",
            "\u001b[2K     \u001b[90m━━━━━━━━━━━━━━━━━━━━━━━━━━━━━━━━━━━━━━━━\u001b[0m \u001b[32m12.8/12.8 MB\u001b[0m \u001b[31m101.2 MB/s\u001b[0m eta \u001b[36m0:00:00\u001b[0m\n",
            "\u001b[?25hRequirement already satisfied: spacy<3.8.0,>=3.7.2 in /usr/local/lib/python3.10/dist-packages (from en-core-web-sm==3.7.1) (3.7.4)\n",
            "Requirement already satisfied: spacy-legacy<3.1.0,>=3.0.11 in /usr/local/lib/python3.10/dist-packages (from spacy<3.8.0,>=3.7.2->en-core-web-sm==3.7.1) (3.0.12)\n",
            "Requirement already satisfied: spacy-loggers<2.0.0,>=1.0.0 in /usr/local/lib/python3.10/dist-packages (from spacy<3.8.0,>=3.7.2->en-core-web-sm==3.7.1) (1.0.5)\n",
            "Requirement already satisfied: murmurhash<1.1.0,>=0.28.0 in /usr/local/lib/python3.10/dist-packages (from spacy<3.8.0,>=3.7.2->en-core-web-sm==3.7.1) (1.0.10)\n",
            "Requirement already satisfied: cymem<2.1.0,>=2.0.2 in /usr/local/lib/python3.10/dist-packages (from spacy<3.8.0,>=3.7.2->en-core-web-sm==3.7.1) (2.0.8)\n",
            "Requirement already satisfied: preshed<3.1.0,>=3.0.2 in /usr/local/lib/python3.10/dist-packages (from spacy<3.8.0,>=3.7.2->en-core-web-sm==3.7.1) (3.0.9)\n",
            "Requirement already satisfied: thinc<8.3.0,>=8.2.2 in /usr/local/lib/python3.10/dist-packages (from spacy<3.8.0,>=3.7.2->en-core-web-sm==3.7.1) (8.2.3)\n",
            "Requirement already satisfied: wasabi<1.2.0,>=0.9.1 in /usr/local/lib/python3.10/dist-packages (from spacy<3.8.0,>=3.7.2->en-core-web-sm==3.7.1) (1.1.2)\n",
            "Requirement already satisfied: srsly<3.0.0,>=2.4.3 in /usr/local/lib/python3.10/dist-packages (from spacy<3.8.0,>=3.7.2->en-core-web-sm==3.7.1) (2.4.8)\n",
            "Requirement already satisfied: catalogue<2.1.0,>=2.0.6 in /usr/local/lib/python3.10/dist-packages (from spacy<3.8.0,>=3.7.2->en-core-web-sm==3.7.1) (2.0.10)\n",
            "Requirement already satisfied: weasel<0.4.0,>=0.1.0 in /usr/local/lib/python3.10/dist-packages (from spacy<3.8.0,>=3.7.2->en-core-web-sm==3.7.1) (0.3.4)\n",
            "Requirement already satisfied: typer<0.10.0,>=0.3.0 in /usr/local/lib/python3.10/dist-packages (from spacy<3.8.0,>=3.7.2->en-core-web-sm==3.7.1) (0.9.0)\n",
            "Requirement already satisfied: smart-open<7.0.0,>=5.2.1 in /usr/local/lib/python3.10/dist-packages (from spacy<3.8.0,>=3.7.2->en-core-web-sm==3.7.1) (6.4.0)\n",
            "Requirement already satisfied: tqdm<5.0.0,>=4.38.0 in /usr/local/lib/python3.10/dist-packages (from spacy<3.8.0,>=3.7.2->en-core-web-sm==3.7.1) (4.66.2)\n",
            "Requirement already satisfied: requests<3.0.0,>=2.13.0 in /usr/local/lib/python3.10/dist-packages (from spacy<3.8.0,>=3.7.2->en-core-web-sm==3.7.1) (2.31.0)\n",
            "Requirement already satisfied: pydantic!=1.8,!=1.8.1,<3.0.0,>=1.7.4 in /usr/local/lib/python3.10/dist-packages (from spacy<3.8.0,>=3.7.2->en-core-web-sm==3.7.1) (2.6.3)\n",
            "Requirement already satisfied: jinja2 in /usr/local/lib/python3.10/dist-packages (from spacy<3.8.0,>=3.7.2->en-core-web-sm==3.7.1) (3.1.3)\n",
            "Requirement already satisfied: setuptools in /usr/local/lib/python3.10/dist-packages (from spacy<3.8.0,>=3.7.2->en-core-web-sm==3.7.1) (67.7.2)\n",
            "Requirement already satisfied: packaging>=20.0 in /usr/local/lib/python3.10/dist-packages (from spacy<3.8.0,>=3.7.2->en-core-web-sm==3.7.1) (23.2)\n",
            "Requirement already satisfied: langcodes<4.0.0,>=3.2.0 in /usr/local/lib/python3.10/dist-packages (from spacy<3.8.0,>=3.7.2->en-core-web-sm==3.7.1) (3.3.0)\n",
            "Requirement already satisfied: numpy>=1.19.0 in /usr/local/lib/python3.10/dist-packages (from spacy<3.8.0,>=3.7.2->en-core-web-sm==3.7.1) (1.25.2)\n",
            "Requirement already satisfied: annotated-types>=0.4.0 in /usr/local/lib/python3.10/dist-packages (from pydantic!=1.8,!=1.8.1,<3.0.0,>=1.7.4->spacy<3.8.0,>=3.7.2->en-core-web-sm==3.7.1) (0.6.0)\n",
            "Requirement already satisfied: pydantic-core==2.16.3 in /usr/local/lib/python3.10/dist-packages (from pydantic!=1.8,!=1.8.1,<3.0.0,>=1.7.4->spacy<3.8.0,>=3.7.2->en-core-web-sm==3.7.1) (2.16.3)\n",
            "Requirement already satisfied: typing-extensions>=4.6.1 in /usr/local/lib/python3.10/dist-packages (from pydantic!=1.8,!=1.8.1,<3.0.0,>=1.7.4->spacy<3.8.0,>=3.7.2->en-core-web-sm==3.7.1) (4.10.0)\n",
            "Requirement already satisfied: charset-normalizer<4,>=2 in /usr/local/lib/python3.10/dist-packages (from requests<3.0.0,>=2.13.0->spacy<3.8.0,>=3.7.2->en-core-web-sm==3.7.1) (3.3.2)\n",
            "Requirement already satisfied: idna<4,>=2.5 in /usr/local/lib/python3.10/dist-packages (from requests<3.0.0,>=2.13.0->spacy<3.8.0,>=3.7.2->en-core-web-sm==3.7.1) (3.6)\n",
            "Requirement already satisfied: urllib3<3,>=1.21.1 in /usr/local/lib/python3.10/dist-packages (from requests<3.0.0,>=2.13.0->spacy<3.8.0,>=3.7.2->en-core-web-sm==3.7.1) (2.0.7)\n",
            "Requirement already satisfied: certifi>=2017.4.17 in /usr/local/lib/python3.10/dist-packages (from requests<3.0.0,>=2.13.0->spacy<3.8.0,>=3.7.2->en-core-web-sm==3.7.1) (2024.2.2)\n",
            "Requirement already satisfied: blis<0.8.0,>=0.7.8 in /usr/local/lib/python3.10/dist-packages (from thinc<8.3.0,>=8.2.2->spacy<3.8.0,>=3.7.2->en-core-web-sm==3.7.1) (0.7.11)\n",
            "Requirement already satisfied: confection<1.0.0,>=0.0.1 in /usr/local/lib/python3.10/dist-packages (from thinc<8.3.0,>=8.2.2->spacy<3.8.0,>=3.7.2->en-core-web-sm==3.7.1) (0.1.4)\n",
            "Requirement already satisfied: click<9.0.0,>=7.1.1 in /usr/local/lib/python3.10/dist-packages (from typer<0.10.0,>=0.3.0->spacy<3.8.0,>=3.7.2->en-core-web-sm==3.7.1) (8.1.7)\n",
            "Requirement already satisfied: cloudpathlib<0.17.0,>=0.7.0 in /usr/local/lib/python3.10/dist-packages (from weasel<0.4.0,>=0.1.0->spacy<3.8.0,>=3.7.2->en-core-web-sm==3.7.1) (0.16.0)\n",
            "Requirement already satisfied: MarkupSafe>=2.0 in /usr/local/lib/python3.10/dist-packages (from jinja2->spacy<3.8.0,>=3.7.2->en-core-web-sm==3.7.1) (2.1.5)\n",
            "\u001b[38;5;2m✔ Download and installation successful\u001b[0m\n",
            "You can now load the package via spacy.load('en_core_web_sm')\n",
            "\u001b[38;5;3m⚠ Restart to reload dependencies\u001b[0m\n",
            "If you are in a Jupyter or Colab notebook, you may need to restart Python in\n",
            "order to load all the package's dependencies. You can do this by selecting the\n",
            "'Restart kernel' or 'Restart runtime' option.\n"
          ]
        }
      ]
    },
    {
      "cell_type": "code",
      "source": [
        "import spacy"
      ],
      "metadata": {
        "id": "k0zQXtVC56A8"
      },
      "execution_count": 444,
      "outputs": []
    },
    {
      "cell_type": "code",
      "source": [
        "import nltk\n",
        "nltk.download('punkt')"
      ],
      "metadata": {
        "colab": {
          "base_uri": "https://localhost:8080/"
        },
        "id": "E9cP9GvU5qz-",
        "outputId": "30a54fa6-ab1d-4cf3-8767-71a1b76bdbc8"
      },
      "execution_count": 445,
      "outputs": [
        {
          "output_type": "stream",
          "name": "stderr",
          "text": [
            "[nltk_data] Downloading package punkt to /root/nltk_data...\n",
            "[nltk_data]   Package punkt is already up-to-date!\n"
          ]
        },
        {
          "output_type": "execute_result",
          "data": {
            "text/plain": [
              "True"
            ]
          },
          "metadata": {},
          "execution_count": 445
        }
      ]
    },
    {
      "cell_type": "code",
      "source": [
        "corpus=\"\"\" Hello my name is krishna. I am BSc,MBA graduate! I am looking for Machine Learning role's. \"\"\""
      ],
      "metadata": {
        "id": "n6NFLNCB3z2q"
      },
      "execution_count": 446,
      "outputs": []
    },
    {
      "cell_type": "code",
      "source": [
        "print(corpus)"
      ],
      "metadata": {
        "colab": {
          "base_uri": "https://localhost:8080/"
        },
        "id": "HC-RdxDJ4q_A",
        "outputId": "787d74df-8f6b-4365-9ed4-cd20f69d429a"
      },
      "execution_count": 447,
      "outputs": [
        {
          "output_type": "stream",
          "name": "stdout",
          "text": [
            " Hello my name is krishna. I am BSc,MBA graduate! I am looking for Machine Learning role's. \n"
          ]
        }
      ]
    },
    {
      "cell_type": "code",
      "source": [
        "# Tokenization - Converting sentence into paragraphs\n",
        "from nltk.tokenize import sent_tokenize     # Sent_tokenize helps to convert a paragrapgh into sentences."
      ],
      "metadata": {
        "id": "YqXhKIY24tpO"
      },
      "execution_count": 448,
      "outputs": []
    },
    {
      "cell_type": "code",
      "source": [
        "documents=sent_tokenize(corpus)"
      ],
      "metadata": {
        "id": "hAFFpMfI5R2I"
      },
      "execution_count": 449,
      "outputs": []
    },
    {
      "cell_type": "code",
      "source": [
        "type(documents)"
      ],
      "metadata": {
        "colab": {
          "base_uri": "https://localhost:8080/"
        },
        "id": "msAZj-af5cgu",
        "outputId": "f2088075-1e4c-4767-91d9-0805909b9642"
      },
      "execution_count": 450,
      "outputs": [
        {
          "output_type": "execute_result",
          "data": {
            "text/plain": [
              "list"
            ]
          },
          "metadata": {},
          "execution_count": 450
        }
      ]
    },
    {
      "cell_type": "code",
      "source": [
        "for sentence in documents:\n",
        "  print(sentence)"
      ],
      "metadata": {
        "colab": {
          "base_uri": "https://localhost:8080/"
        },
        "id": "pUeTLchp6WY5",
        "outputId": "433b7163-d479-4590-963a-5ad977fcfc91"
      },
      "execution_count": 451,
      "outputs": [
        {
          "output_type": "stream",
          "name": "stdout",
          "text": [
            " Hello my name is krishna.\n",
            "I am BSc,MBA graduate!\n",
            "I am looking for Machine Learning role's.\n"
          ]
        }
      ]
    },
    {
      "cell_type": "code",
      "source": [
        "# Tokenization - Converting the paragraph into words\n",
        "from nltk.tokenize import word_tokenize"
      ],
      "metadata": {
        "id": "9qxCM2wT6fuL"
      },
      "execution_count": 452,
      "outputs": []
    },
    {
      "cell_type": "code",
      "source": [
        "word_tokenize(corpus)"
      ],
      "metadata": {
        "colab": {
          "base_uri": "https://localhost:8080/"
        },
        "id": "Oc3XO1y-7Hkw",
        "outputId": "6f6cf833-53e1-425c-c845-10164cd17fbe"
      },
      "execution_count": 453,
      "outputs": [
        {
          "output_type": "execute_result",
          "data": {
            "text/plain": [
              "['Hello',\n",
              " 'my',\n",
              " 'name',\n",
              " 'is',\n",
              " 'krishna',\n",
              " '.',\n",
              " 'I',\n",
              " 'am',\n",
              " 'BSc',\n",
              " ',',\n",
              " 'MBA',\n",
              " 'graduate',\n",
              " '!',\n",
              " 'I',\n",
              " 'am',\n",
              " 'looking',\n",
              " 'for',\n",
              " 'Machine',\n",
              " 'Learning',\n",
              " 'role',\n",
              " \"'s\",\n",
              " '.']"
            ]
          },
          "metadata": {},
          "execution_count": 453
        }
      ]
    },
    {
      "cell_type": "code",
      "source": [
        "for sentence in documents:\n",
        "  print(word_tokenize(sentence))"
      ],
      "metadata": {
        "colab": {
          "base_uri": "https://localhost:8080/"
        },
        "id": "uuijY7eM7MjY",
        "outputId": "d1c0798d-563d-4199-bfc7-4d8ee03f0ffb"
      },
      "execution_count": 454,
      "outputs": [
        {
          "output_type": "stream",
          "name": "stdout",
          "text": [
            "['Hello', 'my', 'name', 'is', 'krishna', '.']\n",
            "['I', 'am', 'BSc', ',', 'MBA', 'graduate', '!']\n",
            "['I', 'am', 'looking', 'for', 'Machine', 'Learning', 'role', \"'s\", '.']\n"
          ]
        }
      ]
    },
    {
      "cell_type": "code",
      "source": [
        "from nltk.tokenize import wordpunct_tokenize"
      ],
      "metadata": {
        "id": "4c4fnuC_73LY"
      },
      "execution_count": 455,
      "outputs": []
    },
    {
      "cell_type": "code",
      "source": [
        "wordpunct_tokenize(corpus)"
      ],
      "metadata": {
        "colab": {
          "base_uri": "https://localhost:8080/"
        },
        "id": "tEhJWtJX8RaE",
        "outputId": "2eef064c-929e-4ea7-e467-70d617005bfb"
      },
      "execution_count": 456,
      "outputs": [
        {
          "output_type": "execute_result",
          "data": {
            "text/plain": [
              "['Hello',\n",
              " 'my',\n",
              " 'name',\n",
              " 'is',\n",
              " 'krishna',\n",
              " '.',\n",
              " 'I',\n",
              " 'am',\n",
              " 'BSc',\n",
              " ',',\n",
              " 'MBA',\n",
              " 'graduate',\n",
              " '!',\n",
              " 'I',\n",
              " 'am',\n",
              " 'looking',\n",
              " 'for',\n",
              " 'Machine',\n",
              " 'Learning',\n",
              " 'role',\n",
              " \"'\",\n",
              " 's',\n",
              " '.']"
            ]
          },
          "metadata": {},
          "execution_count": 456
        }
      ]
    },
    {
      "cell_type": "code",
      "source": [
        "from nltk.tokenize import TreebankWordTokenizer"
      ],
      "metadata": {
        "id": "Yi6ihX1v8dM2"
      },
      "execution_count": 457,
      "outputs": []
    },
    {
      "cell_type": "code",
      "source": [
        "tokenizer=TreebankWordTokenizer()"
      ],
      "metadata": {
        "id": "bepPbzwQ9IAs"
      },
      "execution_count": 458,
      "outputs": []
    },
    {
      "cell_type": "code",
      "source": [
        "tokenizer.tokenize(corpus)"
      ],
      "metadata": {
        "colab": {
          "base_uri": "https://localhost:8080/"
        },
        "id": "hVerStJQ9N89",
        "outputId": "2292a047-8363-433e-8a46-dad24fb126bb"
      },
      "execution_count": 459,
      "outputs": [
        {
          "output_type": "execute_result",
          "data": {
            "text/plain": [
              "['Hello',\n",
              " 'my',\n",
              " 'name',\n",
              " 'is',\n",
              " 'krishna.',\n",
              " 'I',\n",
              " 'am',\n",
              " 'BSc',\n",
              " ',',\n",
              " 'MBA',\n",
              " 'graduate',\n",
              " '!',\n",
              " 'I',\n",
              " 'am',\n",
              " 'looking',\n",
              " 'for',\n",
              " 'Machine',\n",
              " 'Learning',\n",
              " 'role',\n",
              " \"'s\",\n",
              " '.']"
            ]
          },
          "metadata": {},
          "execution_count": 459
        }
      ]
    },
    {
      "cell_type": "markdown",
      "source": [
        "# **2.) Stemming**\n",
        "\n"
      ],
      "metadata": {
        "id": "BOWELG2k-R1Z"
      }
    },
    {
      "cell_type": "code",
      "source": [
        "words=[\"eating\",\"eats\",\"eaten\",\"playing\",\"plays\",\"play\",\"jumping\",\"jump\",\"jumps\",\"Mechanical\",\"Mechanic\",\"Mechanics\"]"
      ],
      "metadata": {
        "id": "N2PqMN3O9Shm"
      },
      "execution_count": 460,
      "outputs": []
    },
    {
      "cell_type": "markdown",
      "source": [
        "# **PorterStemming**"
      ],
      "metadata": {
        "id": "eYWfh3QPAd0h"
      }
    },
    {
      "cell_type": "code",
      "source": [
        "from nltk.stem import PorterStemmer"
      ],
      "metadata": {
        "id": "gm_jxcDdAbjV"
      },
      "execution_count": 461,
      "outputs": []
    },
    {
      "cell_type": "code",
      "source": [
        "stemming=PorterStemmer()"
      ],
      "metadata": {
        "id": "abqaMGaNAqqK"
      },
      "execution_count": 462,
      "outputs": []
    },
    {
      "cell_type": "code",
      "source": [
        "for word in words:\n",
        "  print(word+\"---->\"+stemming.stem(word))"
      ],
      "metadata": {
        "colab": {
          "base_uri": "https://localhost:8080/"
        },
        "id": "_g9EPSLfAxxl",
        "outputId": "0d88cef2-d4cd-412e-ea26-04b26a741223"
      },
      "execution_count": 463,
      "outputs": [
        {
          "output_type": "stream",
          "name": "stdout",
          "text": [
            "eating---->eat\n",
            "eats---->eat\n",
            "eaten---->eaten\n",
            "playing---->play\n",
            "plays---->play\n",
            "play---->play\n",
            "jumping---->jump\n",
            "jump---->jump\n",
            "jumps---->jump\n",
            "Mechanical---->mechan\n",
            "Mechanic---->mechan\n",
            "Mechanics---->mechan\n"
          ]
        }
      ]
    },
    {
      "cell_type": "code",
      "source": [
        "stemming.stem(\"amazing\")"
      ],
      "metadata": {
        "colab": {
          "base_uri": "https://localhost:8080/",
          "height": 36
        },
        "id": "KwZbcDUHBC9j",
        "outputId": "7ce504cb-a418-4b7d-a9d3-9d9d65b33499"
      },
      "execution_count": 464,
      "outputs": [
        {
          "output_type": "execute_result",
          "data": {
            "text/plain": [
              "'amaz'"
            ],
            "application/vnd.google.colaboratory.intrinsic+json": {
              "type": "string"
            }
          },
          "metadata": {},
          "execution_count": 464
        }
      ]
    },
    {
      "cell_type": "code",
      "source": [
        "stemming.stem(\"Advantages\")"
      ],
      "metadata": {
        "colab": {
          "base_uri": "https://localhost:8080/",
          "height": 36
        },
        "id": "3m2GT294Cfce",
        "outputId": "f08e6150-c534-409c-eb2c-e71e184d82f0"
      },
      "execution_count": 465,
      "outputs": [
        {
          "output_type": "execute_result",
          "data": {
            "text/plain": [
              "'advantag'"
            ],
            "application/vnd.google.colaboratory.intrinsic+json": {
              "type": "string"
            }
          },
          "metadata": {},
          "execution_count": 465
        }
      ]
    },
    {
      "cell_type": "markdown",
      "source": [
        "# **Regular Expression (RegEx) Stemmer Class**"
      ],
      "metadata": {
        "id": "89rW8m_qDDBy"
      }
    },
    {
      "cell_type": "code",
      "source": [
        "from nltk.stem import RegexpStemmer\n"
      ],
      "metadata": {
        "id": "m6NDm_JCC18M"
      },
      "execution_count": 466,
      "outputs": []
    },
    {
      "cell_type": "code",
      "source": [
        "reg_stemmer=RegexpStemmer(\"ing$|s$|e$|able$\",min=4)"
      ],
      "metadata": {
        "id": "qNSOsuUsMRve"
      },
      "execution_count": 467,
      "outputs": []
    },
    {
      "cell_type": "code",
      "source": [
        "reg_stemmer.stem(\"eating\")"
      ],
      "metadata": {
        "colab": {
          "base_uri": "https://localhost:8080/",
          "height": 36
        },
        "id": "pQYejxGEMxLX",
        "outputId": "338681ef-fd81-4bde-be0e-815bd7326f0c"
      },
      "execution_count": 468,
      "outputs": [
        {
          "output_type": "execute_result",
          "data": {
            "text/plain": [
              "'eat'"
            ],
            "application/vnd.google.colaboratory.intrinsic+json": {
              "type": "string"
            }
          },
          "metadata": {},
          "execution_count": 468
        }
      ]
    },
    {
      "cell_type": "code",
      "source": [
        "reg_stemmer.stem(\"ingeating\")"
      ],
      "metadata": {
        "colab": {
          "base_uri": "https://localhost:8080/",
          "height": 36
        },
        "id": "imAdU7lING2O",
        "outputId": "814a5cb1-20b4-442a-9644-b0010ea09d36"
      },
      "execution_count": 469,
      "outputs": [
        {
          "output_type": "execute_result",
          "data": {
            "text/plain": [
              "'ingeat'"
            ],
            "application/vnd.google.colaboratory.intrinsic+json": {
              "type": "string"
            }
          },
          "metadata": {},
          "execution_count": 469
        }
      ]
    },
    {
      "cell_type": "markdown",
      "source": [
        "# **SnowballStemmer**"
      ],
      "metadata": {
        "id": "uQxKJA0NN0Gv"
      }
    },
    {
      "cell_type": "code",
      "source": [
        "from nltk.stem import SnowballStemmer"
      ],
      "metadata": {
        "id": "lDBTjmrANcQU"
      },
      "execution_count": 470,
      "outputs": []
    },
    {
      "cell_type": "code",
      "source": [
        "snowballstemmer=SnowballStemmer(\"english\")"
      ],
      "metadata": {
        "id": "z5TPxogGOX__"
      },
      "execution_count": 471,
      "outputs": []
    },
    {
      "cell_type": "code",
      "source": [
        "for word in words:\n",
        "  print(word+\"---->\"+snowballstemmer.stem(word))"
      ],
      "metadata": {
        "colab": {
          "base_uri": "https://localhost:8080/"
        },
        "id": "2yOifk2cObbT",
        "outputId": "898640af-69a6-45f5-983c-c8f6abfa6c34"
      },
      "execution_count": 472,
      "outputs": [
        {
          "output_type": "stream",
          "name": "stdout",
          "text": [
            "eating---->eat\n",
            "eats---->eat\n",
            "eaten---->eaten\n",
            "playing---->play\n",
            "plays---->play\n",
            "play---->play\n",
            "jumping---->jump\n",
            "jump---->jump\n",
            "jumps---->jump\n",
            "Mechanical---->mechan\n",
            "Mechanic---->mechan\n",
            "Mechanics---->mechan\n"
          ]
        }
      ]
    },
    {
      "cell_type": "code",
      "source": [
        "# Compare the PorterStemmer & SnowballStemmer\n",
        "stemming.stem(\"abruptly\"),stemming.stem(\"conditionally\")"
      ],
      "metadata": {
        "colab": {
          "base_uri": "https://localhost:8080/"
        },
        "id": "xdY7DgsXOoGw",
        "outputId": "6b22160e-a81f-47e1-d03b-9618469b5ba8"
      },
      "execution_count": 473,
      "outputs": [
        {
          "output_type": "execute_result",
          "data": {
            "text/plain": [
              "('abruptli', 'condit')"
            ]
          },
          "metadata": {},
          "execution_count": 473
        }
      ]
    },
    {
      "cell_type": "code",
      "source": [
        "snowballstemmer.stem(\"Conciously\"),snowballstemmer.stem(\"sportingly\")"
      ],
      "metadata": {
        "colab": {
          "base_uri": "https://localhost:8080/"
        },
        "id": "7nVlpVQtQTLd",
        "outputId": "c6398910-2c52-44b1-8284-d8d70ccaa6e2"
      },
      "execution_count": 474,
      "outputs": [
        {
          "output_type": "execute_result",
          "data": {
            "text/plain": [
              "('concious', 'sport')"
            ]
          },
          "metadata": {},
          "execution_count": 474
        }
      ]
    },
    {
      "cell_type": "markdown",
      "source": [
        "# **Lemmatization**"
      ],
      "metadata": {
        "id": "xra8KabhRyvs"
      }
    },
    {
      "cell_type": "markdown",
      "source": [
        "Wordnet Lemmatization\n",
        "\n"
      ],
      "metadata": {
        "id": "tb5tYWjjR3Ff"
      }
    },
    {
      "cell_type": "code",
      "source": [
        "!pip install wordnet"
      ],
      "metadata": {
        "colab": {
          "base_uri": "https://localhost:8080/"
        },
        "id": "ehcFQv6IYv-A",
        "outputId": "c12215c0-422c-47f1-9c61-999bf1db9eaf"
      },
      "execution_count": 475,
      "outputs": [
        {
          "output_type": "stream",
          "name": "stdout",
          "text": [
            "Requirement already satisfied: wordnet in /usr/local/lib/python3.10/dist-packages (0.0.1b2)\n",
            "Requirement already satisfied: colorama==0.3.9 in /usr/local/lib/python3.10/dist-packages (from wordnet) (0.3.9)\n"
          ]
        }
      ]
    },
    {
      "cell_type": "code",
      "source": [
        "import nltk\n",
        "\n",
        "# Download the WordNet corpus\n",
        "nltk.download('wordnet')\n"
      ],
      "metadata": {
        "colab": {
          "base_uri": "https://localhost:8080/"
        },
        "id": "nX6JufIvZBkj",
        "outputId": "7b39642e-1281-4d8c-ee73-7ae0be7627ab"
      },
      "execution_count": 476,
      "outputs": [
        {
          "output_type": "stream",
          "name": "stderr",
          "text": [
            "[nltk_data] Downloading package wordnet to /root/nltk_data...\n",
            "[nltk_data]   Package wordnet is already up-to-date!\n"
          ]
        },
        {
          "output_type": "execute_result",
          "data": {
            "text/plain": [
              "True"
            ]
          },
          "metadata": {},
          "execution_count": 476
        }
      ]
    },
    {
      "cell_type": "code",
      "source": [
        "from nltk.stem import WordNetLemmatizer\n"
      ],
      "metadata": {
        "id": "ScIObHVDQlbc"
      },
      "execution_count": 477,
      "outputs": []
    },
    {
      "cell_type": "code",
      "source": [
        "lemmatizer=WordNetLemmatizer()"
      ],
      "metadata": {
        "id": "6hNwCUIjShDS"
      },
      "execution_count": 478,
      "outputs": []
    },
    {
      "cell_type": "code",
      "source": [
        "lemmatizer.lemmatize(\"eating\",pos=\"v\")"
      ],
      "metadata": {
        "colab": {
          "base_uri": "https://localhost:8080/",
          "height": 36
        },
        "id": "_CaWD3yySoAi",
        "outputId": "e9c1d3f1-8a3a-400f-8569-7fbb43f521a1"
      },
      "execution_count": 479,
      "outputs": [
        {
          "output_type": "execute_result",
          "data": {
            "text/plain": [
              "'eat'"
            ],
            "application/vnd.google.colaboratory.intrinsic+json": {
              "type": "string"
            }
          },
          "metadata": {},
          "execution_count": 479
        }
      ]
    },
    {
      "cell_type": "code",
      "source": [
        "words=[\"eating\",\"eats\",\"eaten\",\"playing\",\"plays\",\"play\",\"jumping\",\"jump\",\"jumps\",\"Mechanical\",\"Mechanic\",\"Mechanics\"]"
      ],
      "metadata": {
        "id": "JTB9Lq0KUUmF"
      },
      "execution_count": 480,
      "outputs": []
    },
    {
      "cell_type": "code",
      "source": [
        "for word in words:\n",
        "  print(word+\"---->\"+lemmatizer.lemmatize(word,pos=\"n\"))"
      ],
      "metadata": {
        "colab": {
          "base_uri": "https://localhost:8080/"
        },
        "id": "p02Ut2PyZrIC",
        "outputId": "fba851d4-ef7e-4e0b-a1ca-8341e301e6df"
      },
      "execution_count": 481,
      "outputs": [
        {
          "output_type": "stream",
          "name": "stdout",
          "text": [
            "eating---->eating\n",
            "eats---->eats\n",
            "eaten---->eaten\n",
            "playing---->playing\n",
            "plays---->play\n",
            "play---->play\n",
            "jumping---->jumping\n",
            "jump---->jump\n",
            "jumps---->jump\n",
            "Mechanical---->Mechanical\n",
            "Mechanic---->Mechanic\n",
            "Mechanics---->Mechanics\n"
          ]
        }
      ]
    },
    {
      "cell_type": "code",
      "source": [
        "lemmatizer.lemmatize(\"plays\")"
      ],
      "metadata": {
        "colab": {
          "base_uri": "https://localhost:8080/",
          "height": 36
        },
        "id": "sEJD2rJnZ8PD",
        "outputId": "1c146070-333e-487a-f554-3e6263af0295"
      },
      "execution_count": 482,
      "outputs": [
        {
          "output_type": "execute_result",
          "data": {
            "text/plain": [
              "'play'"
            ],
            "application/vnd.google.colaboratory.intrinsic+json": {
              "type": "string"
            }
          },
          "metadata": {},
          "execution_count": 482
        }
      ]
    },
    {
      "cell_type": "code",
      "source": [
        "stemming.stem(\"abruptly\"),stemming.stem(\"conditionally\")"
      ],
      "metadata": {
        "colab": {
          "base_uri": "https://localhost:8080/"
        },
        "id": "C87LfLx2aem2",
        "outputId": "0fe1f8f9-d489-44cb-fc63-e7db8a175f74"
      },
      "execution_count": 483,
      "outputs": [
        {
          "output_type": "execute_result",
          "data": {
            "text/plain": [
              "('abruptli', 'condit')"
            ]
          },
          "metadata": {},
          "execution_count": 483
        }
      ]
    },
    {
      "cell_type": "code",
      "source": [
        "stemming.stem(\"abruptly\"),stemming.stem(\"conditionally\")\n"
      ],
      "metadata": {
        "colab": {
          "base_uri": "https://localhost:8080/"
        },
        "id": "fLLH6ZuBauBz",
        "outputId": "62b72e7f-014c-462b-a881-3a6811d73a58"
      },
      "execution_count": 484,
      "outputs": [
        {
          "output_type": "execute_result",
          "data": {
            "text/plain": [
              "('abruptli', 'condit')"
            ]
          },
          "metadata": {},
          "execution_count": 484
        }
      ]
    },
    {
      "cell_type": "code",
      "source": [
        "lemmatizer.lemmatize(\"abruptly\"),lemmatizer.lemmatize(\"conditionally\")"
      ],
      "metadata": {
        "colab": {
          "base_uri": "https://localhost:8080/"
        },
        "id": "ylKBSovIazwu",
        "outputId": "bfc2b8db-f5b8-46ab-c441-648562762a24"
      },
      "execution_count": 485,
      "outputs": [
        {
          "output_type": "execute_result",
          "data": {
            "text/plain": [
              "('abruptly', 'conditionally')"
            ]
          },
          "metadata": {},
          "execution_count": 485
        }
      ]
    },
    {
      "cell_type": "markdown",
      "source": [
        "From the above three comparison lemmatizer performs well and gives the accurate results."
      ],
      "metadata": {
        "id": "pnbfq8HpbX6-"
      }
    },
    {
      "cell_type": "markdown",
      "source": [
        "# **Stop Words**"
      ],
      "metadata": {
        "id": "f4l3gONfbjjU"
      }
    },
    {
      "cell_type": "code",
      "source": [
        "paragraph=\"\"\" Good Morning Ladies and Gentlemen!\n",
        "\n",
        "Today, we all are gathered here for the opening ceremony of this orphanage and I as its director want to thank all of you for your huge support in the creation of this institution. We all know that today is children’s day and this is the reason for choosing this day for the opening ceremony because this institution is created for the welfare of many orphans children. Before this event begins, I would like to say a few words for children’s day. We already know the reason for the celebration of children’s day. On the same day on November 14, 1889 Shri Jawaharlal Nehru was born. He was our first prime minister of the independent India.\n",
        "\n",
        "This day is celebrated as children’s day because of his love for children. He is known by many names like pandit Nehru and chacha Nehru.\n",
        "\n",
        "He was the son of Motilal Nehru, a prominent lawyer and nationalist statesman and Swaroop Rani. He got graduated from Trinity College, Cambridge and the Inner Temple. When he returned to India, he enrolled at the Allahabad High Court as an advocate.\n",
        "\n",
        "He grew up in an atmosphere of privilege at wealthy homes including a palatial estate known as the Anand Bhavan. He was a committed nationalist since his teenage years. He became a rising figure in Indian politics during the convulsion of the 1910s. He became the prominent leader of the left-wing factions of the Indian National Congress.\n",
        "\n",
        "He was a central figure in Indian politics before and after independence. He came out as the chief leader of the Indian independence movement under the support of Mahatma Gandhi and ruled India from its establishment as an independent nation in 1947 until his death. He is known as the architect of the modern Indian nation-state. He introduced adult franchise, imposition of prohibition, nationalization of industries, socialism, and establishment of a secular India. He played an important role in the construction of Indian Constitution and India. As India’s first Prime minister and external affairs minister, he played a major role in shaping modern India’s government and political culture along with an outstanding foreign policy. He got praised for creating a set up providing universal primary education, reaching children in the rural India at an extent level.\n",
        "\n",
        "Though he was a great politician and a nationalist leader, he was also interested in writing. He wrote a number of books, for instance: The Discovery of India, Glimpses of World History, and his autobiography, Toward Freedom.\n",
        "\n",
        "Nehru got married to Kamala Kaul in 1916. They had only one daughter named Indira who was born a year later in 1917. He died on May 27, 1964 and on that day our country had lost a great and an honest leader. He dedicated his whole for making India a secular and a modern nation.\n",
        "\n",
        "On this note I would like to conclude my speech and I hope that this institution will achieve a great success in its future.\n",
        "\n",
        "Thank you and I wish you all a great day ahead! \"\"\"\n",
        "\n"
      ],
      "metadata": {
        "id": "H5LC77mwdBGh"
      },
      "execution_count": 486,
      "outputs": []
    },
    {
      "cell_type": "code",
      "source": [
        "from nltk.stem import PorterStemmer"
      ],
      "metadata": {
        "id": "DW51r1dSeGyb"
      },
      "execution_count": 487,
      "outputs": []
    },
    {
      "cell_type": "code",
      "source": [
        "import nltk\n",
        "nltk.download(\"stopwords\")"
      ],
      "metadata": {
        "colab": {
          "base_uri": "https://localhost:8080/"
        },
        "id": "Y2RjI_FCe5-X",
        "outputId": "6c1470fd-62ce-42e4-b4dc-61f50f9a3c3c"
      },
      "execution_count": 488,
      "outputs": [
        {
          "output_type": "stream",
          "name": "stderr",
          "text": [
            "[nltk_data] Downloading package stopwords to /root/nltk_data...\n",
            "[nltk_data]   Package stopwords is already up-to-date!\n"
          ]
        },
        {
          "output_type": "execute_result",
          "data": {
            "text/plain": [
              "True"
            ]
          },
          "metadata": {},
          "execution_count": 488
        }
      ]
    },
    {
      "cell_type": "code",
      "source": [
        "from nltk.corpus import stopwords\n"
      ],
      "metadata": {
        "id": "veTvq_QZfUaP"
      },
      "execution_count": 489,
      "outputs": []
    },
    {
      "cell_type": "code",
      "source": [
        "stopwords.words(\"english\")"
      ],
      "metadata": {
        "colab": {
          "base_uri": "https://localhost:8080/"
        },
        "id": "smKOgmdPfVkk",
        "outputId": "5ed5e3d3-53b1-49b2-bfd2-b73ea56da03b"
      },
      "execution_count": 490,
      "outputs": [
        {
          "output_type": "execute_result",
          "data": {
            "text/plain": [
              "['i',\n",
              " 'me',\n",
              " 'my',\n",
              " 'myself',\n",
              " 'we',\n",
              " 'our',\n",
              " 'ours',\n",
              " 'ourselves',\n",
              " 'you',\n",
              " \"you're\",\n",
              " \"you've\",\n",
              " \"you'll\",\n",
              " \"you'd\",\n",
              " 'your',\n",
              " 'yours',\n",
              " 'yourself',\n",
              " 'yourselves',\n",
              " 'he',\n",
              " 'him',\n",
              " 'his',\n",
              " 'himself',\n",
              " 'she',\n",
              " \"she's\",\n",
              " 'her',\n",
              " 'hers',\n",
              " 'herself',\n",
              " 'it',\n",
              " \"it's\",\n",
              " 'its',\n",
              " 'itself',\n",
              " 'they',\n",
              " 'them',\n",
              " 'their',\n",
              " 'theirs',\n",
              " 'themselves',\n",
              " 'what',\n",
              " 'which',\n",
              " 'who',\n",
              " 'whom',\n",
              " 'this',\n",
              " 'that',\n",
              " \"that'll\",\n",
              " 'these',\n",
              " 'those',\n",
              " 'am',\n",
              " 'is',\n",
              " 'are',\n",
              " 'was',\n",
              " 'were',\n",
              " 'be',\n",
              " 'been',\n",
              " 'being',\n",
              " 'have',\n",
              " 'has',\n",
              " 'had',\n",
              " 'having',\n",
              " 'do',\n",
              " 'does',\n",
              " 'did',\n",
              " 'doing',\n",
              " 'a',\n",
              " 'an',\n",
              " 'the',\n",
              " 'and',\n",
              " 'but',\n",
              " 'if',\n",
              " 'or',\n",
              " 'because',\n",
              " 'as',\n",
              " 'until',\n",
              " 'while',\n",
              " 'of',\n",
              " 'at',\n",
              " 'by',\n",
              " 'for',\n",
              " 'with',\n",
              " 'about',\n",
              " 'against',\n",
              " 'between',\n",
              " 'into',\n",
              " 'through',\n",
              " 'during',\n",
              " 'before',\n",
              " 'after',\n",
              " 'above',\n",
              " 'below',\n",
              " 'to',\n",
              " 'from',\n",
              " 'up',\n",
              " 'down',\n",
              " 'in',\n",
              " 'out',\n",
              " 'on',\n",
              " 'off',\n",
              " 'over',\n",
              " 'under',\n",
              " 'again',\n",
              " 'further',\n",
              " 'then',\n",
              " 'once',\n",
              " 'here',\n",
              " 'there',\n",
              " 'when',\n",
              " 'where',\n",
              " 'why',\n",
              " 'how',\n",
              " 'all',\n",
              " 'any',\n",
              " 'both',\n",
              " 'each',\n",
              " 'few',\n",
              " 'more',\n",
              " 'most',\n",
              " 'other',\n",
              " 'some',\n",
              " 'such',\n",
              " 'no',\n",
              " 'nor',\n",
              " 'not',\n",
              " 'only',\n",
              " 'own',\n",
              " 'same',\n",
              " 'so',\n",
              " 'than',\n",
              " 'too',\n",
              " 'very',\n",
              " 's',\n",
              " 't',\n",
              " 'can',\n",
              " 'will',\n",
              " 'just',\n",
              " 'don',\n",
              " \"don't\",\n",
              " 'should',\n",
              " \"should've\",\n",
              " 'now',\n",
              " 'd',\n",
              " 'll',\n",
              " 'm',\n",
              " 'o',\n",
              " 're',\n",
              " 've',\n",
              " 'y',\n",
              " 'ain',\n",
              " 'aren',\n",
              " \"aren't\",\n",
              " 'couldn',\n",
              " \"couldn't\",\n",
              " 'didn',\n",
              " \"didn't\",\n",
              " 'doesn',\n",
              " \"doesn't\",\n",
              " 'hadn',\n",
              " \"hadn't\",\n",
              " 'hasn',\n",
              " \"hasn't\",\n",
              " 'haven',\n",
              " \"haven't\",\n",
              " 'isn',\n",
              " \"isn't\",\n",
              " 'ma',\n",
              " 'mightn',\n",
              " \"mightn't\",\n",
              " 'mustn',\n",
              " \"mustn't\",\n",
              " 'needn',\n",
              " \"needn't\",\n",
              " 'shan',\n",
              " \"shan't\",\n",
              " 'shouldn',\n",
              " \"shouldn't\",\n",
              " 'wasn',\n",
              " \"wasn't\",\n",
              " 'weren',\n",
              " \"weren't\",\n",
              " 'won',\n",
              " \"won't\",\n",
              " 'wouldn',\n",
              " \"wouldn't\"]"
            ]
          },
          "metadata": {},
          "execution_count": 490
        }
      ]
    },
    {
      "cell_type": "code",
      "source": [
        "stopwords.words(\"arabic\")"
      ],
      "metadata": {
        "colab": {
          "base_uri": "https://localhost:8080/"
        },
        "id": "6bd9n0dXfoiH",
        "outputId": "ab329424-fb54-434b-fd07-dd3d7353b606"
      },
      "execution_count": 491,
      "outputs": [
        {
          "output_type": "execute_result",
          "data": {
            "text/plain": [
              "['إذ',\n",
              " 'إذا',\n",
              " 'إذما',\n",
              " 'إذن',\n",
              " 'أف',\n",
              " 'أقل',\n",
              " 'أكثر',\n",
              " 'ألا',\n",
              " 'إلا',\n",
              " 'التي',\n",
              " 'الذي',\n",
              " 'الذين',\n",
              " 'اللاتي',\n",
              " 'اللائي',\n",
              " 'اللتان',\n",
              " 'اللتيا',\n",
              " 'اللتين',\n",
              " 'اللذان',\n",
              " 'اللذين',\n",
              " 'اللواتي',\n",
              " 'إلى',\n",
              " 'إليك',\n",
              " 'إليكم',\n",
              " 'إليكما',\n",
              " 'إليكن',\n",
              " 'أم',\n",
              " 'أما',\n",
              " 'أما',\n",
              " 'إما',\n",
              " 'أن',\n",
              " 'إن',\n",
              " 'إنا',\n",
              " 'أنا',\n",
              " 'أنت',\n",
              " 'أنتم',\n",
              " 'أنتما',\n",
              " 'أنتن',\n",
              " 'إنما',\n",
              " 'إنه',\n",
              " 'أنى',\n",
              " 'أنى',\n",
              " 'آه',\n",
              " 'آها',\n",
              " 'أو',\n",
              " 'أولاء',\n",
              " 'أولئك',\n",
              " 'أوه',\n",
              " 'آي',\n",
              " 'أي',\n",
              " 'أيها',\n",
              " 'إي',\n",
              " 'أين',\n",
              " 'أين',\n",
              " 'أينما',\n",
              " 'إيه',\n",
              " 'بخ',\n",
              " 'بس',\n",
              " 'بعد',\n",
              " 'بعض',\n",
              " 'بك',\n",
              " 'بكم',\n",
              " 'بكم',\n",
              " 'بكما',\n",
              " 'بكن',\n",
              " 'بل',\n",
              " 'بلى',\n",
              " 'بما',\n",
              " 'بماذا',\n",
              " 'بمن',\n",
              " 'بنا',\n",
              " 'به',\n",
              " 'بها',\n",
              " 'بهم',\n",
              " 'بهما',\n",
              " 'بهن',\n",
              " 'بي',\n",
              " 'بين',\n",
              " 'بيد',\n",
              " 'تلك',\n",
              " 'تلكم',\n",
              " 'تلكما',\n",
              " 'ته',\n",
              " 'تي',\n",
              " 'تين',\n",
              " 'تينك',\n",
              " 'ثم',\n",
              " 'ثمة',\n",
              " 'حاشا',\n",
              " 'حبذا',\n",
              " 'حتى',\n",
              " 'حيث',\n",
              " 'حيثما',\n",
              " 'حين',\n",
              " 'خلا',\n",
              " 'دون',\n",
              " 'ذا',\n",
              " 'ذات',\n",
              " 'ذاك',\n",
              " 'ذان',\n",
              " 'ذانك',\n",
              " 'ذلك',\n",
              " 'ذلكم',\n",
              " 'ذلكما',\n",
              " 'ذلكن',\n",
              " 'ذه',\n",
              " 'ذو',\n",
              " 'ذوا',\n",
              " 'ذواتا',\n",
              " 'ذواتي',\n",
              " 'ذي',\n",
              " 'ذين',\n",
              " 'ذينك',\n",
              " 'ريث',\n",
              " 'سوف',\n",
              " 'سوى',\n",
              " 'شتان',\n",
              " 'عدا',\n",
              " 'عسى',\n",
              " 'عل',\n",
              " 'على',\n",
              " 'عليك',\n",
              " 'عليه',\n",
              " 'عما',\n",
              " 'عن',\n",
              " 'عند',\n",
              " 'غير',\n",
              " 'فإذا',\n",
              " 'فإن',\n",
              " 'فلا',\n",
              " 'فمن',\n",
              " 'في',\n",
              " 'فيم',\n",
              " 'فيما',\n",
              " 'فيه',\n",
              " 'فيها',\n",
              " 'قد',\n",
              " 'كأن',\n",
              " 'كأنما',\n",
              " 'كأي',\n",
              " 'كأين',\n",
              " 'كذا',\n",
              " 'كذلك',\n",
              " 'كل',\n",
              " 'كلا',\n",
              " 'كلاهما',\n",
              " 'كلتا',\n",
              " 'كلما',\n",
              " 'كليكما',\n",
              " 'كليهما',\n",
              " 'كم',\n",
              " 'كم',\n",
              " 'كما',\n",
              " 'كي',\n",
              " 'كيت',\n",
              " 'كيف',\n",
              " 'كيفما',\n",
              " 'لا',\n",
              " 'لاسيما',\n",
              " 'لدى',\n",
              " 'لست',\n",
              " 'لستم',\n",
              " 'لستما',\n",
              " 'لستن',\n",
              " 'لسن',\n",
              " 'لسنا',\n",
              " 'لعل',\n",
              " 'لك',\n",
              " 'لكم',\n",
              " 'لكما',\n",
              " 'لكن',\n",
              " 'لكنما',\n",
              " 'لكي',\n",
              " 'لكيلا',\n",
              " 'لم',\n",
              " 'لما',\n",
              " 'لن',\n",
              " 'لنا',\n",
              " 'له',\n",
              " 'لها',\n",
              " 'لهم',\n",
              " 'لهما',\n",
              " 'لهن',\n",
              " 'لو',\n",
              " 'لولا',\n",
              " 'لوما',\n",
              " 'لي',\n",
              " 'لئن',\n",
              " 'ليت',\n",
              " 'ليس',\n",
              " 'ليسا',\n",
              " 'ليست',\n",
              " 'ليستا',\n",
              " 'ليسوا',\n",
              " 'ما',\n",
              " 'ماذا',\n",
              " 'متى',\n",
              " 'مذ',\n",
              " 'مع',\n",
              " 'مما',\n",
              " 'ممن',\n",
              " 'من',\n",
              " 'منه',\n",
              " 'منها',\n",
              " 'منذ',\n",
              " 'مه',\n",
              " 'مهما',\n",
              " 'نحن',\n",
              " 'نحو',\n",
              " 'نعم',\n",
              " 'ها',\n",
              " 'هاتان',\n",
              " 'هاته',\n",
              " 'هاتي',\n",
              " 'هاتين',\n",
              " 'هاك',\n",
              " 'هاهنا',\n",
              " 'هذا',\n",
              " 'هذان',\n",
              " 'هذه',\n",
              " 'هذي',\n",
              " 'هذين',\n",
              " 'هكذا',\n",
              " 'هل',\n",
              " 'هلا',\n",
              " 'هم',\n",
              " 'هما',\n",
              " 'هن',\n",
              " 'هنا',\n",
              " 'هناك',\n",
              " 'هنالك',\n",
              " 'هو',\n",
              " 'هؤلاء',\n",
              " 'هي',\n",
              " 'هيا',\n",
              " 'هيت',\n",
              " 'هيهات',\n",
              " 'والذي',\n",
              " 'والذين',\n",
              " 'وإذ',\n",
              " 'وإذا',\n",
              " 'وإن',\n",
              " 'ولا',\n",
              " 'ولكن',\n",
              " 'ولو',\n",
              " 'وما',\n",
              " 'ومن',\n",
              " 'وهو',\n",
              " 'يا',\n",
              " 'أبٌ',\n",
              " 'أخٌ',\n",
              " 'حمٌ',\n",
              " 'فو',\n",
              " 'أنتِ',\n",
              " 'يناير',\n",
              " 'فبراير',\n",
              " 'مارس',\n",
              " 'أبريل',\n",
              " 'مايو',\n",
              " 'يونيو',\n",
              " 'يوليو',\n",
              " 'أغسطس',\n",
              " 'سبتمبر',\n",
              " 'أكتوبر',\n",
              " 'نوفمبر',\n",
              " 'ديسمبر',\n",
              " 'جانفي',\n",
              " 'فيفري',\n",
              " 'مارس',\n",
              " 'أفريل',\n",
              " 'ماي',\n",
              " 'جوان',\n",
              " 'جويلية',\n",
              " 'أوت',\n",
              " 'كانون',\n",
              " 'شباط',\n",
              " 'آذار',\n",
              " 'نيسان',\n",
              " 'أيار',\n",
              " 'حزيران',\n",
              " 'تموز',\n",
              " 'آب',\n",
              " 'أيلول',\n",
              " 'تشرين',\n",
              " 'دولار',\n",
              " 'دينار',\n",
              " 'ريال',\n",
              " 'درهم',\n",
              " 'ليرة',\n",
              " 'جنيه',\n",
              " 'قرش',\n",
              " 'مليم',\n",
              " 'فلس',\n",
              " 'هللة',\n",
              " 'سنتيم',\n",
              " 'يورو',\n",
              " 'ين',\n",
              " 'يوان',\n",
              " 'شيكل',\n",
              " 'واحد',\n",
              " 'اثنان',\n",
              " 'ثلاثة',\n",
              " 'أربعة',\n",
              " 'خمسة',\n",
              " 'ستة',\n",
              " 'سبعة',\n",
              " 'ثمانية',\n",
              " 'تسعة',\n",
              " 'عشرة',\n",
              " 'أحد',\n",
              " 'اثنا',\n",
              " 'اثني',\n",
              " 'إحدى',\n",
              " 'ثلاث',\n",
              " 'أربع',\n",
              " 'خمس',\n",
              " 'ست',\n",
              " 'سبع',\n",
              " 'ثماني',\n",
              " 'تسع',\n",
              " 'عشر',\n",
              " 'ثمان',\n",
              " 'سبت',\n",
              " 'أحد',\n",
              " 'اثنين',\n",
              " 'ثلاثاء',\n",
              " 'أربعاء',\n",
              " 'خميس',\n",
              " 'جمعة',\n",
              " 'أول',\n",
              " 'ثان',\n",
              " 'ثاني',\n",
              " 'ثالث',\n",
              " 'رابع',\n",
              " 'خامس',\n",
              " 'سادس',\n",
              " 'سابع',\n",
              " 'ثامن',\n",
              " 'تاسع',\n",
              " 'عاشر',\n",
              " 'حادي',\n",
              " 'أ',\n",
              " 'ب',\n",
              " 'ت',\n",
              " 'ث',\n",
              " 'ج',\n",
              " 'ح',\n",
              " 'خ',\n",
              " 'د',\n",
              " 'ذ',\n",
              " 'ر',\n",
              " 'ز',\n",
              " 'س',\n",
              " 'ش',\n",
              " 'ص',\n",
              " 'ض',\n",
              " 'ط',\n",
              " 'ظ',\n",
              " 'ع',\n",
              " 'غ',\n",
              " 'ف',\n",
              " 'ق',\n",
              " 'ك',\n",
              " 'ل',\n",
              " 'م',\n",
              " 'ن',\n",
              " 'ه',\n",
              " 'و',\n",
              " 'ي',\n",
              " 'ء',\n",
              " 'ى',\n",
              " 'آ',\n",
              " 'ؤ',\n",
              " 'ئ',\n",
              " 'أ',\n",
              " 'ة',\n",
              " 'ألف',\n",
              " 'باء',\n",
              " 'تاء',\n",
              " 'ثاء',\n",
              " 'جيم',\n",
              " 'حاء',\n",
              " 'خاء',\n",
              " 'دال',\n",
              " 'ذال',\n",
              " 'راء',\n",
              " 'زاي',\n",
              " 'سين',\n",
              " 'شين',\n",
              " 'صاد',\n",
              " 'ضاد',\n",
              " 'طاء',\n",
              " 'ظاء',\n",
              " 'عين',\n",
              " 'غين',\n",
              " 'فاء',\n",
              " 'قاف',\n",
              " 'كاف',\n",
              " 'لام',\n",
              " 'ميم',\n",
              " 'نون',\n",
              " 'هاء',\n",
              " 'واو',\n",
              " 'ياء',\n",
              " 'همزة',\n",
              " 'ي',\n",
              " 'نا',\n",
              " 'ك',\n",
              " 'كن',\n",
              " 'ه',\n",
              " 'إياه',\n",
              " 'إياها',\n",
              " 'إياهما',\n",
              " 'إياهم',\n",
              " 'إياهن',\n",
              " 'إياك',\n",
              " 'إياكما',\n",
              " 'إياكم',\n",
              " 'إياك',\n",
              " 'إياكن',\n",
              " 'إياي',\n",
              " 'إيانا',\n",
              " 'أولالك',\n",
              " 'تانِ',\n",
              " 'تانِك',\n",
              " 'تِه',\n",
              " 'تِي',\n",
              " 'تَيْنِ',\n",
              " 'ثمّ',\n",
              " 'ثمّة',\n",
              " 'ذانِ',\n",
              " 'ذِه',\n",
              " 'ذِي',\n",
              " 'ذَيْنِ',\n",
              " 'هَؤلاء',\n",
              " 'هَاتانِ',\n",
              " 'هَاتِه',\n",
              " 'هَاتِي',\n",
              " 'هَاتَيْنِ',\n",
              " 'هَذا',\n",
              " 'هَذانِ',\n",
              " 'هَذِه',\n",
              " 'هَذِي',\n",
              " 'هَذَيْنِ',\n",
              " 'الألى',\n",
              " 'الألاء',\n",
              " 'أل',\n",
              " 'أنّى',\n",
              " 'أيّ',\n",
              " 'ّأيّان',\n",
              " 'أنّى',\n",
              " 'أيّ',\n",
              " 'ّأيّان',\n",
              " 'ذيت',\n",
              " 'كأيّ',\n",
              " 'كأيّن',\n",
              " 'بضع',\n",
              " 'فلان',\n",
              " 'وا',\n",
              " 'آمينَ',\n",
              " 'آهِ',\n",
              " 'آهٍ',\n",
              " 'آهاً',\n",
              " 'أُفٍّ',\n",
              " 'أُفٍّ',\n",
              " 'أفٍّ',\n",
              " 'أمامك',\n",
              " 'أمامكَ',\n",
              " 'أوّهْ',\n",
              " 'إلَيْكَ',\n",
              " 'إلَيْكَ',\n",
              " 'إليكَ',\n",
              " 'إليكنّ',\n",
              " 'إيهٍ',\n",
              " 'بخٍ',\n",
              " 'بسّ',\n",
              " 'بَسْ',\n",
              " 'بطآن',\n",
              " 'بَلْهَ',\n",
              " 'حاي',\n",
              " 'حَذارِ',\n",
              " 'حيَّ',\n",
              " 'حيَّ',\n",
              " 'دونك',\n",
              " 'رويدك',\n",
              " 'سرعان',\n",
              " 'شتانَ',\n",
              " 'شَتَّانَ',\n",
              " 'صهْ',\n",
              " 'صهٍ',\n",
              " 'طاق',\n",
              " 'طَق',\n",
              " 'عَدَسْ',\n",
              " 'كِخ',\n",
              " 'مكانَك',\n",
              " 'مكانَك',\n",
              " 'مكانَك',\n",
              " 'مكانكم',\n",
              " 'مكانكما',\n",
              " 'مكانكنّ',\n",
              " 'نَخْ',\n",
              " 'هاكَ',\n",
              " 'هَجْ',\n",
              " 'هلم',\n",
              " 'هيّا',\n",
              " 'هَيْهات',\n",
              " 'وا',\n",
              " 'واهاً',\n",
              " 'وراءَك',\n",
              " 'وُشْكَانَ',\n",
              " 'وَيْ',\n",
              " 'يفعلان',\n",
              " 'تفعلان',\n",
              " 'يفعلون',\n",
              " 'تفعلون',\n",
              " 'تفعلين',\n",
              " 'اتخذ',\n",
              " 'ألفى',\n",
              " 'تخذ',\n",
              " 'ترك',\n",
              " 'تعلَّم',\n",
              " 'جعل',\n",
              " 'حجا',\n",
              " 'حبيب',\n",
              " 'خال',\n",
              " 'حسب',\n",
              " 'خال',\n",
              " 'درى',\n",
              " 'رأى',\n",
              " 'زعم',\n",
              " 'صبر',\n",
              " 'ظنَّ',\n",
              " 'عدَّ',\n",
              " 'علم',\n",
              " 'غادر',\n",
              " 'ذهب',\n",
              " 'وجد',\n",
              " 'ورد',\n",
              " 'وهب',\n",
              " 'أسكن',\n",
              " 'أطعم',\n",
              " 'أعطى',\n",
              " 'رزق',\n",
              " 'زود',\n",
              " 'سقى',\n",
              " 'كسا',\n",
              " 'أخبر',\n",
              " 'أرى',\n",
              " 'أعلم',\n",
              " 'أنبأ',\n",
              " 'حدَث',\n",
              " 'خبَّر',\n",
              " 'نبَّا',\n",
              " 'أفعل به',\n",
              " 'ما أفعله',\n",
              " 'بئس',\n",
              " 'ساء',\n",
              " 'طالما',\n",
              " 'قلما',\n",
              " 'لات',\n",
              " 'لكنَّ',\n",
              " 'ءَ',\n",
              " 'أجل',\n",
              " 'إذاً',\n",
              " 'أمّا',\n",
              " 'إمّا',\n",
              " 'إنَّ',\n",
              " 'أنًّ',\n",
              " 'أى',\n",
              " 'إى',\n",
              " 'أيا',\n",
              " 'ب',\n",
              " 'ثمَّ',\n",
              " 'جلل',\n",
              " 'جير',\n",
              " 'رُبَّ',\n",
              " 'س',\n",
              " 'علًّ',\n",
              " 'ف',\n",
              " 'كأنّ',\n",
              " 'كلَّا',\n",
              " 'كى',\n",
              " 'ل',\n",
              " 'لات',\n",
              " 'لعلَّ',\n",
              " 'لكنَّ',\n",
              " 'لكنَّ',\n",
              " 'م',\n",
              " 'نَّ',\n",
              " 'هلّا',\n",
              " 'وا',\n",
              " 'أل',\n",
              " 'إلّا',\n",
              " 'ت',\n",
              " 'ك',\n",
              " 'لمّا',\n",
              " 'ن',\n",
              " 'ه',\n",
              " 'و',\n",
              " 'ا',\n",
              " 'ي',\n",
              " 'تجاه',\n",
              " 'تلقاء',\n",
              " 'جميع',\n",
              " 'حسب',\n",
              " 'سبحان',\n",
              " 'شبه',\n",
              " 'لعمر',\n",
              " 'مثل',\n",
              " 'معاذ',\n",
              " 'أبو',\n",
              " 'أخو',\n",
              " 'حمو',\n",
              " 'فو',\n",
              " 'مئة',\n",
              " 'مئتان',\n",
              " 'ثلاثمئة',\n",
              " 'أربعمئة',\n",
              " 'خمسمئة',\n",
              " 'ستمئة',\n",
              " 'سبعمئة',\n",
              " 'ثمنمئة',\n",
              " 'تسعمئة',\n",
              " 'مائة',\n",
              " 'ثلاثمائة',\n",
              " 'أربعمائة',\n",
              " 'خمسمائة',\n",
              " 'ستمائة',\n",
              " 'سبعمائة',\n",
              " 'ثمانمئة',\n",
              " 'تسعمائة',\n",
              " 'عشرون',\n",
              " 'ثلاثون',\n",
              " 'اربعون',\n",
              " 'خمسون',\n",
              " 'ستون',\n",
              " 'سبعون',\n",
              " 'ثمانون',\n",
              " 'تسعون',\n",
              " 'عشرين',\n",
              " 'ثلاثين',\n",
              " 'اربعين',\n",
              " 'خمسين',\n",
              " 'ستين',\n",
              " 'سبعين',\n",
              " 'ثمانين',\n",
              " 'تسعين',\n",
              " 'بضع',\n",
              " 'نيف',\n",
              " 'أجمع',\n",
              " 'جميع',\n",
              " 'عامة',\n",
              " 'عين',\n",
              " 'نفس',\n",
              " 'لا سيما',\n",
              " 'أصلا',\n",
              " 'أهلا',\n",
              " 'أيضا',\n",
              " 'بؤسا',\n",
              " 'بعدا',\n",
              " 'بغتة',\n",
              " 'تعسا',\n",
              " 'حقا',\n",
              " 'حمدا',\n",
              " 'خلافا',\n",
              " 'خاصة',\n",
              " 'دواليك',\n",
              " 'سحقا',\n",
              " 'سرا',\n",
              " 'سمعا',\n",
              " 'صبرا',\n",
              " 'صدقا',\n",
              " 'صراحة',\n",
              " 'طرا',\n",
              " 'عجبا',\n",
              " 'عيانا',\n",
              " 'غالبا',\n",
              " 'فرادى',\n",
              " 'فضلا',\n",
              " 'قاطبة',\n",
              " 'كثيرا',\n",
              " 'لبيك',\n",
              " 'معاذ',\n",
              " 'أبدا',\n",
              " 'إزاء',\n",
              " 'أصلا',\n",
              " 'الآن',\n",
              " 'أمد',\n",
              " 'أمس',\n",
              " 'آنفا',\n",
              " 'آناء',\n",
              " 'أنّى',\n",
              " 'أول',\n",
              " 'أيّان',\n",
              " 'تارة',\n",
              " 'ثمّ',\n",
              " 'ثمّة',\n",
              " 'حقا',\n",
              " 'صباح',\n",
              " 'مساء',\n",
              " 'ضحوة',\n",
              " 'عوض',\n",
              " 'غدا',\n",
              " 'غداة',\n",
              " 'قطّ',\n",
              " 'كلّما',\n",
              " 'لدن',\n",
              " 'لمّا',\n",
              " 'مرّة',\n",
              " 'قبل',\n",
              " 'خلف',\n",
              " 'أمام',\n",
              " 'فوق',\n",
              " 'تحت',\n",
              " 'يمين',\n",
              " 'شمال',\n",
              " 'ارتدّ',\n",
              " 'استحال',\n",
              " 'أصبح',\n",
              " 'أضحى',\n",
              " 'آض',\n",
              " 'أمسى',\n",
              " 'انقلب',\n",
              " 'بات',\n",
              " 'تبدّل',\n",
              " 'تحوّل',\n",
              " 'حار',\n",
              " 'رجع',\n",
              " 'راح',\n",
              " 'صار',\n",
              " 'ظلّ',\n",
              " 'عاد',\n",
              " 'غدا',\n",
              " 'كان',\n",
              " 'ما انفك',\n",
              " 'ما برح',\n",
              " 'مادام',\n",
              " 'مازال',\n",
              " 'مافتئ',\n",
              " 'ابتدأ',\n",
              " 'أخذ',\n",
              " 'اخلولق',\n",
              " 'أقبل',\n",
              " 'انبرى',\n",
              " 'أنشأ',\n",
              " 'أوشك',\n",
              " 'جعل',\n",
              " 'حرى',\n",
              " 'شرع',\n",
              " 'طفق',\n",
              " 'علق',\n",
              " 'قام',\n",
              " 'كرب',\n",
              " 'كاد',\n",
              " 'هبّ']"
            ]
          },
          "metadata": {},
          "execution_count": 491
        }
      ]
    },
    {
      "cell_type": "code",
      "source": [
        "stopwords.words(\"dutch\")"
      ],
      "metadata": {
        "colab": {
          "base_uri": "https://localhost:8080/"
        },
        "id": "AyLfdNvcheXk",
        "outputId": "fdcd5956-83d2-416d-cea3-75f11af2eeb9"
      },
      "execution_count": 492,
      "outputs": [
        {
          "output_type": "execute_result",
          "data": {
            "text/plain": [
              "['de',\n",
              " 'en',\n",
              " 'van',\n",
              " 'ik',\n",
              " 'te',\n",
              " 'dat',\n",
              " 'die',\n",
              " 'in',\n",
              " 'een',\n",
              " 'hij',\n",
              " 'het',\n",
              " 'niet',\n",
              " 'zijn',\n",
              " 'is',\n",
              " 'was',\n",
              " 'op',\n",
              " 'aan',\n",
              " 'met',\n",
              " 'als',\n",
              " 'voor',\n",
              " 'had',\n",
              " 'er',\n",
              " 'maar',\n",
              " 'om',\n",
              " 'hem',\n",
              " 'dan',\n",
              " 'zou',\n",
              " 'of',\n",
              " 'wat',\n",
              " 'mijn',\n",
              " 'men',\n",
              " 'dit',\n",
              " 'zo',\n",
              " 'door',\n",
              " 'over',\n",
              " 'ze',\n",
              " 'zich',\n",
              " 'bij',\n",
              " 'ook',\n",
              " 'tot',\n",
              " 'je',\n",
              " 'mij',\n",
              " 'uit',\n",
              " 'der',\n",
              " 'daar',\n",
              " 'haar',\n",
              " 'naar',\n",
              " 'heb',\n",
              " 'hoe',\n",
              " 'heeft',\n",
              " 'hebben',\n",
              " 'deze',\n",
              " 'u',\n",
              " 'want',\n",
              " 'nog',\n",
              " 'zal',\n",
              " 'me',\n",
              " 'zij',\n",
              " 'nu',\n",
              " 'ge',\n",
              " 'geen',\n",
              " 'omdat',\n",
              " 'iets',\n",
              " 'worden',\n",
              " 'toch',\n",
              " 'al',\n",
              " 'waren',\n",
              " 'veel',\n",
              " 'meer',\n",
              " 'doen',\n",
              " 'toen',\n",
              " 'moet',\n",
              " 'ben',\n",
              " 'zonder',\n",
              " 'kan',\n",
              " 'hun',\n",
              " 'dus',\n",
              " 'alles',\n",
              " 'onder',\n",
              " 'ja',\n",
              " 'eens',\n",
              " 'hier',\n",
              " 'wie',\n",
              " 'werd',\n",
              " 'altijd',\n",
              " 'doch',\n",
              " 'wordt',\n",
              " 'wezen',\n",
              " 'kunnen',\n",
              " 'ons',\n",
              " 'zelf',\n",
              " 'tegen',\n",
              " 'na',\n",
              " 'reeds',\n",
              " 'wil',\n",
              " 'kon',\n",
              " 'niets',\n",
              " 'uw',\n",
              " 'iemand',\n",
              " 'geweest',\n",
              " 'andere']"
            ]
          },
          "metadata": {},
          "execution_count": 492
        }
      ]
    },
    {
      "cell_type": "code",
      "source": [
        "from nltk.stem import PorterStemmer"
      ],
      "metadata": {
        "id": "mzJdJRqihhid"
      },
      "execution_count": 493,
      "outputs": []
    },
    {
      "cell_type": "code",
      "source": [
        "stemmer=PorterStemmer()"
      ],
      "metadata": {
        "id": "9-DLocTXhntq"
      },
      "execution_count": 494,
      "outputs": []
    },
    {
      "cell_type": "code",
      "source": [
        "sentences=nltk.sent_tokenize(paragraph)"
      ],
      "metadata": {
        "id": "2hBRDLA3hrqL"
      },
      "execution_count": 495,
      "outputs": []
    },
    {
      "cell_type": "code",
      "source": [
        "type(sentences)"
      ],
      "metadata": {
        "colab": {
          "base_uri": "https://localhost:8080/"
        },
        "id": "rdSv0T2khz8j",
        "outputId": "301f5ff3-0e04-4ac4-efb6-eccd6bd4076c"
      },
      "execution_count": 496,
      "outputs": [
        {
          "output_type": "execute_result",
          "data": {
            "text/plain": [
              "list"
            ]
          },
          "metadata": {},
          "execution_count": 496
        }
      ]
    },
    {
      "cell_type": "code",
      "source": [
        "# Applying the stopwords and filter and apply stemming\n",
        "for i in range (len(sentences)):\n",
        "  words=nltk.word_tokenize(sentences[i])\n",
        "  words=[stemmer.stem(word) for word in words if word not in set(stopwords.words(\"english\"))]\n",
        "  sentences[i]=\" \".join(words)      # Converting all the list of words into sentences"
      ],
      "metadata": {
        "id": "6DOU4QRziGKE"
      },
      "execution_count": 497,
      "outputs": []
    },
    {
      "cell_type": "code",
      "source": [
        "sentences"
      ],
      "metadata": {
        "colab": {
          "base_uri": "https://localhost:8080/"
        },
        "id": "qkwr67-8jubE",
        "outputId": "4edb0449-64d6-4267-b70d-00fd361bc419"
      },
      "execution_count": 498,
      "outputs": [
        {
          "output_type": "execute_result",
          "data": {
            "text/plain": [
              "['good morn ladi gentlemen !',\n",
              " 'today , gather open ceremoni orphanag i director want thank huge support creation institut .',\n",
              " 'we know today children ’ day reason choos day open ceremoni institut creat welfar mani orphan children .',\n",
              " 'befor event begin , i would like say word children ’ day .',\n",
              " 'we alreadi know reason celebr children ’ day .',\n",
              " 'on day novemb 14 , 1889 shri jawaharl nehru born .',\n",
              " 'he first prime minist independ india .',\n",
              " 'thi day celebr children ’ day love children .',\n",
              " 'he known mani name like pandit nehru chacha nehru .',\n",
              " 'he son motil nehru , promin lawyer nationalist statesman swaroop rani .',\n",
              " 'he got graduat triniti colleg , cambridg inner templ .',\n",
              " 'when return india , enrol allahabad high court advoc .',\n",
              " 'he grew atmospher privileg wealthi home includ palati estat known anand bhavan .',\n",
              " 'he commit nationalist sinc teenag year .',\n",
              " 'he becam rise figur indian polit convuls 1910 .',\n",
              " 'he becam promin leader left-w faction indian nation congress .',\n",
              " 'he central figur indian polit independ .',\n",
              " 'he came chief leader indian independ movement support mahatma gandhi rule india establish independ nation 1947 death .',\n",
              " 'he known architect modern indian nation-st .',\n",
              " 'he introduc adult franchis , imposit prohibit , nation industri , social , establish secular india .',\n",
              " 'he play import role construct indian constitut india .',\n",
              " 'as india ’ first prime minist extern affair minist , play major role shape modern india ’ govern polit cultur along outstand foreign polici .',\n",
              " 'he got prais creat set provid univers primari educ , reach children rural india extent level .',\n",
              " 'though great politician nationalist leader , also interest write .',\n",
              " 'he wrote number book , instanc : the discoveri india , glimps world histori , autobiographi , toward freedom .',\n",
              " 'nehru got marri kamala kaul 1916 .',\n",
              " 'they one daughter name indira born year later 1917 .',\n",
              " 'he die may 27 , 1964 day countri lost great honest leader .',\n",
              " 'he dedic whole make india secular modern nation .',\n",
              " 'on note i would like conclud speech i hope institut achiev great success futur .',\n",
              " 'thank i wish great day ahead !']"
            ]
          },
          "metadata": {},
          "execution_count": 498
        }
      ]
    },
    {
      "cell_type": "code",
      "source": [
        "from nltk.stem import SnowballStemmer\n",
        "snowballstemmer1=SnowballStemmer"
      ],
      "metadata": {
        "id": "b11R4vAwkq02"
      },
      "execution_count": 499,
      "outputs": []
    },
    {
      "cell_type": "code",
      "source": [
        "# Applying the stopwords and filter and apply snowball stemming\n",
        "for i in range (len(sentences)):\n",
        "  words=nltk.word_tokenize(sentences[i])\n",
        "  words=[snowballstemmer.stem(word) for word in words if word not in set(stopwords.words(\"english\"))]\n",
        "  sentences[i]=\" \".join(words)      # Converting all the list of words into sentences"
      ],
      "metadata": {
        "id": "J7tD5GoTk6s1"
      },
      "execution_count": 500,
      "outputs": []
    },
    {
      "cell_type": "code",
      "source": [
        "sentencesz=nltk.sent_tokenize(paragraph)"
      ],
      "metadata": {
        "id": "VOpivgHr60N6"
      },
      "execution_count": 501,
      "outputs": []
    },
    {
      "cell_type": "code",
      "source": [
        "sentencesz"
      ],
      "metadata": {
        "colab": {
          "base_uri": "https://localhost:8080/"
        },
        "id": "3lS8lfT4lnqa",
        "outputId": "1dd12042-0bcc-4b37-c16e-deaac6f3350e"
      },
      "execution_count": 502,
      "outputs": [
        {
          "output_type": "execute_result",
          "data": {
            "text/plain": [
              "[' Good Morning Ladies and Gentlemen!',\n",
              " 'Today, we all are gathered here for the opening ceremony of this orphanage and I as its director want to thank all of you for your huge support in the creation of this institution.',\n",
              " 'We all know that today is children’s day and this is the reason for choosing this day for the opening ceremony because this institution is created for the welfare of many orphans children.',\n",
              " 'Before this event begins, I would like to say a few words for children’s day.',\n",
              " 'We already know the reason for the celebration of children’s day.',\n",
              " 'On the same day on November 14, 1889 Shri Jawaharlal Nehru was born.',\n",
              " 'He was our first prime minister of the independent India.',\n",
              " 'This day is celebrated as children’s day because of his love for children.',\n",
              " 'He is known by many names like pandit Nehru and chacha Nehru.',\n",
              " 'He was the son of Motilal Nehru, a prominent lawyer and nationalist statesman and Swaroop Rani.',\n",
              " 'He got graduated from Trinity College, Cambridge and the Inner Temple.',\n",
              " 'When he returned to India, he enrolled at the Allahabad High Court as an advocate.',\n",
              " 'He grew up in an atmosphere of privilege at wealthy homes including a palatial estate known as the Anand Bhavan.',\n",
              " 'He was a committed nationalist since his teenage years.',\n",
              " 'He became a rising figure in Indian politics during the convulsion of the 1910s.',\n",
              " 'He became the prominent leader of the left-wing factions of the Indian National Congress.',\n",
              " 'He was a central figure in Indian politics before and after independence.',\n",
              " 'He came out as the chief leader of the Indian independence movement under the support of Mahatma Gandhi and ruled India from its establishment as an independent nation in 1947 until his death.',\n",
              " 'He is known as the architect of the modern Indian nation-state.',\n",
              " 'He introduced adult franchise, imposition of prohibition, nationalization of industries, socialism, and establishment of a secular India.',\n",
              " 'He played an important role in the construction of Indian Constitution and India.',\n",
              " 'As India’s first Prime minister and external affairs minister, he played a major role in shaping modern India’s government and political culture along with an outstanding foreign policy.',\n",
              " 'He got praised for creating a set up providing universal primary education, reaching children in the rural India at an extent level.',\n",
              " 'Though he was a great politician and a nationalist leader, he was also interested in writing.',\n",
              " 'He wrote a number of books, for instance: The Discovery of India, Glimpses of World History, and his autobiography, Toward Freedom.',\n",
              " 'Nehru got married to Kamala Kaul in 1916.',\n",
              " 'They had only one daughter named Indira who was born a year later in 1917.',\n",
              " 'He died on May 27, 1964 and on that day our country had lost a great and an honest leader.',\n",
              " 'He dedicated his whole for making India a secular and a modern nation.',\n",
              " 'On this note I would like to conclude my speech and I hope that this institution will achieve a great success in its future.',\n",
              " 'Thank you and I wish you all a great day ahead!']"
            ]
          },
          "metadata": {},
          "execution_count": 502
        }
      ]
    },
    {
      "cell_type": "code",
      "source": [
        "from nltk.stem import WordNetLemmatizer\n",
        "lemmatizer=WordNetLemmatizer()"
      ],
      "metadata": {
        "id": "sgcJAky0lpcn"
      },
      "execution_count": 503,
      "outputs": []
    },
    {
      "cell_type": "code",
      "source": [
        "# Applying the stopwords and filter and apply lemmatization\n",
        "for i in range (len(sentences)):\n",
        "  words=nltk.word_tokenize(sentences[i])\n",
        "  words=[lemmatizer.lemmatize(word.lower()) for word in words if word not in set(stopwords.words(\"english\"))]\n",
        "  sentences[i]=\" \".join(words)      # Converting all the list of words into sentences"
      ],
      "metadata": {
        "id": "_ODJxcqimt1l"
      },
      "execution_count": 504,
      "outputs": []
    },
    {
      "cell_type": "code",
      "source": [
        "sentencesx=nltk.sent_tokenize(paragraph)"
      ],
      "metadata": {
        "id": "ok_FWmkl7TXA"
      },
      "execution_count": 505,
      "outputs": []
    },
    {
      "cell_type": "code",
      "source": [
        "sentencesx"
      ],
      "metadata": {
        "colab": {
          "base_uri": "https://localhost:8080/"
        },
        "id": "V_znI5jgm9X9",
        "outputId": "2e3557f2-a739-455c-94cc-2e3fce5e91cb"
      },
      "execution_count": 506,
      "outputs": [
        {
          "output_type": "execute_result",
          "data": {
            "text/plain": [
              "[' Good Morning Ladies and Gentlemen!',\n",
              " 'Today, we all are gathered here for the opening ceremony of this orphanage and I as its director want to thank all of you for your huge support in the creation of this institution.',\n",
              " 'We all know that today is children’s day and this is the reason for choosing this day for the opening ceremony because this institution is created for the welfare of many orphans children.',\n",
              " 'Before this event begins, I would like to say a few words for children’s day.',\n",
              " 'We already know the reason for the celebration of children’s day.',\n",
              " 'On the same day on November 14, 1889 Shri Jawaharlal Nehru was born.',\n",
              " 'He was our first prime minister of the independent India.',\n",
              " 'This day is celebrated as children’s day because of his love for children.',\n",
              " 'He is known by many names like pandit Nehru and chacha Nehru.',\n",
              " 'He was the son of Motilal Nehru, a prominent lawyer and nationalist statesman and Swaroop Rani.',\n",
              " 'He got graduated from Trinity College, Cambridge and the Inner Temple.',\n",
              " 'When he returned to India, he enrolled at the Allahabad High Court as an advocate.',\n",
              " 'He grew up in an atmosphere of privilege at wealthy homes including a palatial estate known as the Anand Bhavan.',\n",
              " 'He was a committed nationalist since his teenage years.',\n",
              " 'He became a rising figure in Indian politics during the convulsion of the 1910s.',\n",
              " 'He became the prominent leader of the left-wing factions of the Indian National Congress.',\n",
              " 'He was a central figure in Indian politics before and after independence.',\n",
              " 'He came out as the chief leader of the Indian independence movement under the support of Mahatma Gandhi and ruled India from its establishment as an independent nation in 1947 until his death.',\n",
              " 'He is known as the architect of the modern Indian nation-state.',\n",
              " 'He introduced adult franchise, imposition of prohibition, nationalization of industries, socialism, and establishment of a secular India.',\n",
              " 'He played an important role in the construction of Indian Constitution and India.',\n",
              " 'As India’s first Prime minister and external affairs minister, he played a major role in shaping modern India’s government and political culture along with an outstanding foreign policy.',\n",
              " 'He got praised for creating a set up providing universal primary education, reaching children in the rural India at an extent level.',\n",
              " 'Though he was a great politician and a nationalist leader, he was also interested in writing.',\n",
              " 'He wrote a number of books, for instance: The Discovery of India, Glimpses of World History, and his autobiography, Toward Freedom.',\n",
              " 'Nehru got married to Kamala Kaul in 1916.',\n",
              " 'They had only one daughter named Indira who was born a year later in 1917.',\n",
              " 'He died on May 27, 1964 and on that day our country had lost a great and an honest leader.',\n",
              " 'He dedicated his whole for making India a secular and a modern nation.',\n",
              " 'On this note I would like to conclude my speech and I hope that this institution will achieve a great success in its future.',\n",
              " 'Thank you and I wish you all a great day ahead!']"
            ]
          },
          "metadata": {},
          "execution_count": 506
        }
      ]
    },
    {
      "cell_type": "markdown",
      "source": [
        "# **Parts of Speech (PoS) Tagging**\n",
        "\n",
        "NLTK POS Tags Examples are as below:\n",
        "\n",
        "Abbreviation\tMeaning\n",
        "\n",
        "CC\tcoordinating conjunction\n",
        "\n",
        "CD\tcardinal digit\n",
        "\n",
        "DT\tdeterminer\n",
        "\n",
        "EX\texistential there\n",
        "\n",
        "FW\tforeign word\n",
        "\n",
        "IN\tpreposition/subordinating conjunction\n",
        "\n",
        "JJ\tThis NLTK POS Tag is an adjective (large)\n",
        "\n",
        "JJR\tadjective, comparative (larger)\n",
        "\n",
        "JJS\tadjective, superlative (largest)\n",
        "\n",
        "LS\tlist market\n",
        "\n",
        "MD\tmodal (could, will)\n",
        "\n",
        "NN\tnoun, singular (cat, tree)\n",
        "\n",
        "NNS\tnoun plural (desks)\n",
        "\n",
        "NNP\tproper noun, singular (sarah)\n",
        "\n",
        "NNPS\tproper noun, plural (indians or americans)\n",
        "\n",
        "PDT\tpredeterminer (all, both, half)\n",
        "\n",
        "POS\tpossessive ending (parent\\ ‘s)\n",
        "\n",
        "PRP\tpersonal pronoun (hers, herself, him, himself)\n",
        "\n",
        "PRP$\tpossessive pronoun (her, his, mine, my, our )\n",
        "\n",
        "RB\tadverb (occasionally, swiftly)\n",
        "\n",
        "RBR\tadverb, comparative (greater)\n",
        "\n",
        "RBS\tadverb, superlative (biggest)\n",
        "\n",
        "RP\tparticle (about)\n",
        "\n",
        "TO\tinfinite marker (to)\n",
        "\n",
        "UH\tinterjection (goodbye)\n",
        "\n",
        "VB\tverb (ask)\n",
        "\n",
        "VBG\tverb gerund (judging)\n",
        "\n",
        "VBD\tverb past tense (pleaded)\n",
        "\n",
        "VBN\tverb past participle (reunified)\n",
        "\n",
        "VBP\tverb, present tense not 3rd person singular(wrap)\n",
        "\n",
        "VBZ\tverb, present tense with 3rd person singular (bases)\n",
        "\n",
        "WDT\twh-determiner (that, what)\n",
        "\n",
        "WP\twh- pronoun (who)\n",
        "\n",
        "WRB\twh- adverb (how)\n",
        "\n",
        "The above NLTK POS tag list contains all the NLTK POS Tags. NLTK POS tagger is used to assign grammatical information of each word of the sentence.\n",
        "\n",
        "Installing, Importing and downloading all the packages of POS NLTK is complete"
      ],
      "metadata": {
        "id": "3rVzldo_qBR2"
      }
    },
    {
      "cell_type": "code",
      "source": [
        "paragraph1= \"\"\" Good morning to all teachers and students present here. I am here to deliver a speech on Indian culture. India’s rich vibrant culture is our identity as a nation. Be it religion, art, traditions, humanistic discipline or intellectual achievements- they need to make us an upscale, colorful, and diverse nation. This has withstood the tests of time. India was home for invasions, be it Greeks, Arabs, Mughals all of them have only added to its already rich culture.Today, India stands as a well-liked multicultural society because it has absorbed the better of every culture and moved on. People here follow different religions, customs, and traditions. People though turning modem today, hold on to the moral values, celebrate festivals consistent with customs and wear traditional clothes. We still learn lessons from the good Indian epics- Ramayana and Mahabharata. People still assemble in temples, gurudwaras, mosques, and churches.\n",
        "\n",
        "Elements of Indian Culture\n",
        "Religion is a major component of Indian culture. Firstly, Indian origin religions are Hinduism, Buddhism, Jainism, and Sikhism. The core values of these religions are karma and dharma. Furthermore, many foreign religions are also present in India.\n",
        "\n",
        "These foreign religions include Abrahamic religions. The Abrahamic religions in India are Judaism, Christianity, and Islam. Consequently, the presence of numerous diverse religions has given rise to tolerance and secularism in Indian culture.Indian Festivals\n",
        "India celebrates numerous festivals throughout the year. These festivals are diverse due to different religious and cultural amalgamation in Indian society. Indians extremely value their festivals and celebrate them with joy and harmony.\n",
        "\n",
        "Indian Marriages\n",
        "Marriage is certainly a festive occasion in Indian culture. Arrange marriage is a traditional norm in the country. Most of Indian weddings are planned by the parents. In traditional Indian weddings, dowry is given to the bridegroom from brides parents. Though nowadays many people have abandoned the dowry system. Indian weddings are certainly big fat with beautiful decorations, music, dance, traditional attires, and mouth-watering food.\n",
        "\n",
        "Family System\n",
        "Indians value the importance of family. In India joint family system is still flourishing. All the family members live together under one roof. The family contains the parents, children, children’s spouses, and offspring.\n",
        "\n",
        "Architecture\n",
        "India is well known for its architectural masterpieces in the world. The foreign influences can be evident in Indian art and architecture due to various historical movements. From north to south, east to west, its culture is extremely much alive. We must not just believe what we see in urban malls.\n",
        "\n",
        "The art and architecture of the cave temples (Ajanta & Ellora), the carved Gopurams, the Gumbads, the intricate work of art created as a symbol of eternal love (the Taj Mahal), the Jharokas of the palaces, the forts, and their splendors still attract us and foreigners.\n",
        "\n",
        "Conclusion\n",
        "Indian culture is always a source of inspiration for several writers. India is certainly a symbol of unity in the world. Indian culture is certainly very complex. In addition to this, the conception of Indian identity poses certain difficulties but despite this, a typical Indian culture does exist. Above all, these forces are a strong Constitution, universal adult franchise, secular policy, flexible federal structure, etc.\n",
        "\n",
        "Indian culture is characterized by a strict social hierarchy. Probably, many Indians believe that gods and spirits have a task in determining their life. Earlier traditional Hindus were divided into four varnas. Now, this difference is declining.\n",
        "\n",
        "Indian culture is certainly very diverse. Also, Indian children learn and assimilate within the differences. In recent decades, massive changes have taken place in Indian culture. Above all, these changes are female empowerment, Westernization, a decline of superstition, higher literacy, improved education, etc.\n",
        "\n",
        "To sum it up, the culture of India is one of the oldest cultures within the World. Above all, many Indians till stick with the normal, Indian, culture in spite of rapid globalization. So, my friends, Indians have demonstrated strong unity regardless of the range among them. Unity in Diversity is the mantra of Indian culture.\n",
        "\n",
        "Thanks! \"\"\""
      ],
      "metadata": {
        "id": "3RoJQ-1WnPvg"
      },
      "execution_count": 507,
      "outputs": []
    },
    {
      "cell_type": "code",
      "source": [
        "import nltk\n",
        "sentences=nltk.sent_tokenize(paragraph1)"
      ],
      "metadata": {
        "id": "TqjbtmMutIqP"
      },
      "execution_count": 508,
      "outputs": []
    },
    {
      "cell_type": "code",
      "source": [
        "sentences"
      ],
      "metadata": {
        "colab": {
          "base_uri": "https://localhost:8080/"
        },
        "id": "imw-j8hetlaD",
        "outputId": "d9a6761d-9b6f-4f9d-d273-b503d35b1dca"
      },
      "execution_count": 509,
      "outputs": [
        {
          "output_type": "execute_result",
          "data": {
            "text/plain": [
              "[' Good morning to all teachers and students present here.',\n",
              " 'I am here to deliver a speech on Indian culture.',\n",
              " 'India’s rich vibrant culture is our identity as a nation.',\n",
              " 'Be it religion, art, traditions, humanistic discipline or intellectual achievements- they need to make us an upscale, colorful, and diverse nation.',\n",
              " 'This has withstood the tests of time.',\n",
              " 'India was home for invasions, be it Greeks, Arabs, Mughals all of them have only added to its already rich culture.Today, India stands as a well-liked multicultural society because it has absorbed the better of every culture and moved on.',\n",
              " 'People here follow different religions, customs, and traditions.',\n",
              " 'People though turning modem today, hold on to the moral values, celebrate festivals consistent with customs and wear traditional clothes.',\n",
              " 'We still learn lessons from the good Indian epics- Ramayana and Mahabharata.',\n",
              " 'People still assemble in temples, gurudwaras, mosques, and churches.',\n",
              " 'Elements of Indian Culture\\nReligion is a major component of Indian culture.',\n",
              " 'Firstly, Indian origin religions are Hinduism, Buddhism, Jainism, and Sikhism.',\n",
              " 'The core values of these religions are karma and dharma.',\n",
              " 'Furthermore, many foreign religions are also present in India.',\n",
              " 'These foreign religions include Abrahamic religions.',\n",
              " 'The Abrahamic religions in India are Judaism, Christianity, and Islam.',\n",
              " 'Consequently, the presence of numerous diverse religions has given rise to tolerance and secularism in Indian culture.Indian Festivals\\nIndia celebrates numerous festivals throughout the year.',\n",
              " 'These festivals are diverse due to different religious and cultural amalgamation in Indian society.',\n",
              " 'Indians extremely value their festivals and celebrate them with joy and harmony.',\n",
              " 'Indian Marriages\\nMarriage is certainly a festive occasion in Indian culture.',\n",
              " 'Arrange marriage is a traditional norm in the country.',\n",
              " 'Most of Indian weddings are planned by the parents.',\n",
              " 'In traditional Indian weddings, dowry is given to the bridegroom from brides parents.',\n",
              " 'Though nowadays many people have abandoned the dowry system.',\n",
              " 'Indian weddings are certainly big fat with beautiful decorations, music, dance, traditional attires, and mouth-watering food.',\n",
              " 'Family System\\nIndians value the importance of family.',\n",
              " 'In India joint family system is still flourishing.',\n",
              " 'All the family members live together under one roof.',\n",
              " 'The family contains the parents, children, children’s spouses, and offspring.',\n",
              " 'Architecture\\nIndia is well known for its architectural masterpieces in the world.',\n",
              " 'The foreign influences can be evident in Indian art and architecture due to various historical movements.',\n",
              " 'From north to south, east to west, its culture is extremely much alive.',\n",
              " 'We must not just believe what we see in urban malls.',\n",
              " 'The art and architecture of the cave temples (Ajanta & Ellora), the carved Gopurams, the Gumbads, the intricate work of art created as a symbol of eternal love (the Taj Mahal), the Jharokas of the palaces, the forts, and their splendors still attract us and foreigners.',\n",
              " 'Conclusion\\nIndian culture is always a source of inspiration for several writers.',\n",
              " 'India is certainly a symbol of unity in the world.',\n",
              " 'Indian culture is certainly very complex.',\n",
              " 'In addition to this, the conception of Indian identity poses certain difficulties but despite this, a typical Indian culture does exist.',\n",
              " 'Above all, these forces are a strong Constitution, universal adult franchise, secular policy, flexible federal structure, etc.',\n",
              " 'Indian culture is characterized by a strict social hierarchy.',\n",
              " 'Probably, many Indians believe that gods and spirits have a task in determining their life.',\n",
              " 'Earlier traditional Hindus were divided into four varnas.',\n",
              " 'Now, this difference is declining.',\n",
              " 'Indian culture is certainly very diverse.',\n",
              " 'Also, Indian children learn and assimilate within the differences.',\n",
              " 'In recent decades, massive changes have taken place in Indian culture.',\n",
              " 'Above all, these changes are female empowerment, Westernization, a decline of superstition, higher literacy, improved education, etc.',\n",
              " 'To sum it up, the culture of India is one of the oldest cultures within the World.',\n",
              " 'Above all, many Indians till stick with the normal, Indian, culture in spite of rapid globalization.',\n",
              " 'So, my friends, Indians have demonstrated strong unity regardless of the range among them.',\n",
              " 'Unity in Diversity is the mantra of Indian culture.',\n",
              " 'Thanks!']"
            ]
          },
          "metadata": {},
          "execution_count": 509
        }
      ]
    },
    {
      "cell_type": "code",
      "source": [
        "import nltk\n",
        "nltk.download('averaged_perceptron_tagger')"
      ],
      "metadata": {
        "colab": {
          "base_uri": "https://localhost:8080/"
        },
        "id": "nzEIQftjvX3s",
        "outputId": "58a18897-e219-4c85-8c3f-1b55f08578e3"
      },
      "execution_count": 510,
      "outputs": [
        {
          "output_type": "stream",
          "name": "stderr",
          "text": [
            "[nltk_data] Downloading package averaged_perceptron_tagger to\n",
            "[nltk_data]     /root/nltk_data...\n",
            "[nltk_data]   Package averaged_perceptron_tagger is already up-to-\n",
            "[nltk_data]       date!\n"
          ]
        },
        {
          "output_type": "execute_result",
          "data": {
            "text/plain": [
              "True"
            ]
          },
          "metadata": {},
          "execution_count": 510
        }
      ]
    },
    {
      "cell_type": "code",
      "source": [
        "# Finding the PoS tags\n",
        "\n",
        "for i in range (len(sentences)):\n",
        "  words=nltk.word_tokenize(sentences[i])\n",
        "  words=[word for word in words if word not in set(stopwords.words(\"english\"))]\n",
        "  pos_tag=nltk.pos_tag(words)\n",
        "  print(pos_tag)\n"
      ],
      "metadata": {
        "colab": {
          "base_uri": "https://localhost:8080/"
        },
        "id": "BikL4fintoYi",
        "outputId": "41aaa0e2-6f62-4010-d29a-d1c0207430f8"
      },
      "execution_count": 511,
      "outputs": [
        {
          "output_type": "stream",
          "name": "stdout",
          "text": [
            "[('Good', 'JJ'), ('morning', 'NN'), ('teachers', 'NNS'), ('students', 'NNS'), ('present', 'JJ'), ('.', '.')]\n",
            "[('I', 'PRP'), ('deliver', 'VBP'), ('speech', 'JJ'), ('Indian', 'JJ'), ('culture', 'NN'), ('.', '.')]\n",
            "[('India', 'NNP'), ('’', 'NNP'), ('rich', 'JJ'), ('vibrant', 'JJ'), ('culture', 'NN'), ('identity', 'NN'), ('nation', 'NN'), ('.', '.')]\n",
            "[('Be', 'NNP'), ('religion', 'NN'), (',', ','), ('art', 'NN'), (',', ','), ('traditions', 'NNS'), (',', ','), ('humanistic', 'JJ'), ('discipline', 'NN'), ('intellectual', 'JJ'), ('achievements-', 'JJ'), ('need', 'NN'), ('make', 'VBP'), ('us', 'PRP'), ('upscale', 'JJ'), (',', ','), ('colorful', 'JJ'), (',', ','), ('diverse', 'JJ'), ('nation', 'NN'), ('.', '.')]\n",
            "[('This', 'DT'), ('withstood', 'NN'), ('tests', 'NNS'), ('time', 'NN'), ('.', '.')]\n",
            "[('India', 'NNP'), ('home', 'NN'), ('invasions', 'NNS'), (',', ','), ('Greeks', 'NNP'), (',', ','), ('Arabs', 'NNP'), (',', ','), ('Mughals', 'NNP'), ('added', 'VBD'), ('already', 'RB'), ('rich', 'JJ'), ('culture.Today', 'NN'), (',', ','), ('India', 'NNP'), ('stands', 'VBZ'), ('well-liked', 'JJ'), ('multicultural', 'JJ'), ('society', 'NN'), ('absorbed', 'VBD'), ('better', 'JJR'), ('every', 'DT'), ('culture', 'NN'), ('moved', 'VBN'), ('.', '.')]\n",
            "[('People', 'NNS'), ('follow', 'VBP'), ('different', 'JJ'), ('religions', 'NNS'), (',', ','), ('customs', 'NNS'), (',', ','), ('traditions', 'NNS'), ('.', '.')]\n",
            "[('People', 'NNS'), ('though', 'IN'), ('turning', 'VBG'), ('modem', 'NN'), ('today', 'NN'), (',', ','), ('hold', 'VB'), ('moral', 'JJ'), ('values', 'NNS'), (',', ','), ('celebrate', 'NN'), ('festivals', 'NNS'), ('consistent', 'JJ'), ('customs', 'NNS'), ('wear', 'VBP'), ('traditional', 'JJ'), ('clothes', 'NNS'), ('.', '.')]\n",
            "[('We', 'PRP'), ('still', 'RB'), ('learn', 'VBP'), ('lessons', 'NNS'), ('good', 'JJ'), ('Indian', 'JJ'), ('epics-', 'JJ'), ('Ramayana', 'NNP'), ('Mahabharata', 'NNP'), ('.', '.')]\n",
            "[('People', 'NNS'), ('still', 'RB'), ('assemble', 'JJ'), ('temples', 'NNS'), (',', ','), ('gurudwaras', 'NNS'), (',', ','), ('mosques', 'NNS'), (',', ','), ('churches', 'NNS'), ('.', '.')]\n",
            "[('Elements', 'NNS'), ('Indian', 'JJ'), ('Culture', 'NNP'), ('Religion', 'NNP'), ('major', 'JJ'), ('component', 'NN'), ('Indian', 'JJ'), ('culture', 'NN'), ('.', '.')]\n",
            "[('Firstly', 'RB'), (',', ','), ('Indian', 'JJ'), ('origin', 'NN'), ('religions', 'NNS'), ('Hinduism', 'NNP'), (',', ','), ('Buddhism', 'NNP'), (',', ','), ('Jainism', 'NNP'), (',', ','), ('Sikhism', 'NNP'), ('.', '.')]\n",
            "[('The', 'DT'), ('core', 'NN'), ('values', 'NNS'), ('religions', 'NNS'), ('karma', 'VBP'), ('dharma', 'NN'), ('.', '.')]\n",
            "[('Furthermore', 'RB'), (',', ','), ('many', 'JJ'), ('foreign', 'JJ'), ('religions', 'NNS'), ('also', 'RB'), ('present', 'JJ'), ('India', 'NNP'), ('.', '.')]\n",
            "[('These', 'DT'), ('foreign', 'JJ'), ('religions', 'NNS'), ('include', 'VBP'), ('Abrahamic', 'NNP'), ('religions', 'NNS'), ('.', '.')]\n",
            "[('The', 'DT'), ('Abrahamic', 'NNP'), ('religions', 'NNS'), ('India', 'NNP'), ('Judaism', 'NNP'), (',', ','), ('Christianity', 'NNP'), (',', ','), ('Islam', 'NNP'), ('.', '.')]\n",
            "[('Consequently', 'RB'), (',', ','), ('presence', 'NN'), ('numerous', 'JJ'), ('diverse', 'JJ'), ('religions', 'NNS'), ('given', 'VBN'), ('rise', 'VBP'), ('tolerance', 'NN'), ('secularism', 'NN'), ('Indian', 'JJ'), ('culture.Indian', 'JJ'), ('Festivals', 'NNS'), ('India', 'NNP'), ('celebrates', 'VBZ'), ('numerous', 'JJ'), ('festivals', 'NNS'), ('throughout', 'IN'), ('year', 'NN'), ('.', '.')]\n",
            "[('These', 'DT'), ('festivals', 'NNS'), ('diverse', 'VBP'), ('due', 'JJ'), ('different', 'JJ'), ('religious', 'JJ'), ('cultural', 'JJ'), ('amalgamation', 'NN'), ('Indian', 'JJ'), ('society', 'NN'), ('.', '.')]\n",
            "[('Indians', 'NNS'), ('extremely', 'RB'), ('value', 'NN'), ('festivals', 'NNS'), ('celebrate', 'VBP'), ('joy', 'NN'), ('harmony', 'NN'), ('.', '.')]\n",
            "[('Indian', 'JJ'), ('Marriages', 'NNP'), ('Marriage', 'NNP'), ('certainly', 'RB'), ('festive', 'JJ'), ('occasion', 'NN'), ('Indian', 'JJ'), ('culture', 'NN'), ('.', '.')]\n",
            "[('Arrange', 'NNP'), ('marriage', 'NN'), ('traditional', 'JJ'), ('norm', 'JJ'), ('country', 'NN'), ('.', '.')]\n",
            "[('Most', 'JJS'), ('Indian', 'JJ'), ('weddings', 'NNS'), ('planned', 'VBD'), ('parents', 'NNS'), ('.', '.')]\n",
            "[('In', 'IN'), ('traditional', 'JJ'), ('Indian', 'JJ'), ('weddings', 'NNS'), (',', ','), ('dowry', 'VB'), ('given', 'VBN'), ('bridegroom', 'NN'), ('brides', 'VBZ'), ('parents', 'NNS'), ('.', '.')]\n",
            "[('Though', 'NNP'), ('nowadays', 'RB'), ('many', 'JJ'), ('people', 'NNS'), ('abandoned', 'VBD'), ('dowry', 'JJ'), ('system', 'NN'), ('.', '.')]\n",
            "[('Indian', 'JJ'), ('weddings', 'NNS'), ('certainly', 'RB'), ('big', 'JJ'), ('fat', 'NN'), ('beautiful', 'JJ'), ('decorations', 'NNS'), (',', ','), ('music', 'NN'), (',', ','), ('dance', 'NN'), (',', ','), ('traditional', 'JJ'), ('attires', 'NNS'), (',', ','), ('mouth-watering', 'JJ'), ('food', 'NN'), ('.', '.')]\n",
            "[('Family', 'RB'), ('System', 'NNP'), ('Indians', 'NNPS'), ('value', 'NN'), ('importance', 'NN'), ('family', 'NN'), ('.', '.')]\n",
            "[('In', 'IN'), ('India', 'NNP'), ('joint', 'JJ'), ('family', 'NN'), ('system', 'NN'), ('still', 'RB'), ('flourishing', 'VBG'), ('.', '.')]\n",
            "[('All', 'DT'), ('family', 'NN'), ('members', 'NNS'), ('live', 'VBP'), ('together', 'RB'), ('one', 'CD'), ('roof', 'NN'), ('.', '.')]\n",
            "[('The', 'DT'), ('family', 'NN'), ('contains', 'VBZ'), ('parents', 'NNS'), (',', ','), ('children', 'NNS'), (',', ','), ('children', 'NNS'), ('’', 'VBP'), ('spouses', 'NNS'), (',', ','), ('offspring', 'VBG'), ('.', '.')]\n",
            "[('Architecture', 'NN'), ('India', 'NNP'), ('well', 'RB'), ('known', 'VBZ'), ('architectural', 'JJ'), ('masterpieces', 'NNS'), ('world', 'NN'), ('.', '.')]\n",
            "[('The', 'DT'), ('foreign', 'JJ'), ('influences', 'NNS'), ('evident', 'JJ'), ('Indian', 'JJ'), ('art', 'NN'), ('architecture', 'NN'), ('due', 'JJ'), ('various', 'JJ'), ('historical', 'JJ'), ('movements', 'NNS'), ('.', '.')]\n",
            "[('From', 'IN'), ('north', 'JJ'), ('south', 'NN'), (',', ','), ('east', 'JJ'), ('west', 'NN'), (',', ','), ('culture', 'NN'), ('extremely', 'RB'), ('much', 'JJ'), ('alive', 'NN'), ('.', '.')]\n",
            "[('We', 'PRP'), ('must', 'MD'), ('believe', 'VB'), ('see', 'VB'), ('urban', 'JJ'), ('malls', 'NNS'), ('.', '.')]\n",
            "[('The', 'DT'), ('art', 'NN'), ('architecture', 'NN'), ('cave', 'VBP'), ('temples', 'NNS'), ('(', '('), ('Ajanta', 'NNP'), ('&', 'CC'), ('Ellora', 'NNP'), (')', ')'), (',', ','), ('carved', 'VBD'), ('Gopurams', 'NNP'), (',', ','), ('Gumbads', 'NNP'), (',', ','), ('intricate', 'JJ'), ('work', 'NN'), ('art', 'RB'), ('created', 'VBD'), ('symbol', 'NN'), ('eternal', 'JJ'), ('love', 'NN'), ('(', '('), ('Taj', 'NNP'), ('Mahal', 'NNP'), (')', ')'), (',', ','), ('Jharokas', 'NNP'), ('palaces', 'NNS'), (',', ','), ('forts', 'NNS'), (',', ','), ('splendors', 'NNS'), ('still', 'RB'), ('attract', 'VB'), ('us', 'PRP'), ('foreigners', 'NNS'), ('.', '.')]\n",
            "[('Conclusion', 'NN'), ('Indian', 'JJ'), ('culture', 'NN'), ('always', 'RB'), ('source', 'NN'), ('inspiration', 'NN'), ('several', 'JJ'), ('writers', 'NNS'), ('.', '.')]\n",
            "[('India', 'NNP'), ('certainly', 'RB'), ('symbol', 'VBZ'), ('unity', 'JJ'), ('world', 'NN'), ('.', '.')]\n",
            "[('Indian', 'JJ'), ('culture', 'NN'), ('certainly', 'RB'), ('complex', 'JJ'), ('.', '.')]\n",
            "[('In', 'IN'), ('addition', 'NN'), (',', ','), ('conception', 'NN'), ('Indian', 'JJ'), ('identity', 'NN'), ('poses', 'VBZ'), ('certain', 'JJ'), ('difficulties', 'NNS'), ('despite', 'IN'), (',', ','), ('typical', 'JJ'), ('Indian', 'JJ'), ('culture', 'NN'), ('exist', 'NN'), ('.', '.')]\n",
            "[('Above', 'IN'), (',', ','), ('forces', 'NNS'), ('strong', 'JJ'), ('Constitution', 'NNP'), (',', ','), ('universal', 'JJ'), ('adult', 'NN'), ('franchise', 'NN'), (',', ','), ('secular', 'JJ'), ('policy', 'NN'), (',', ','), ('flexible', 'JJ'), ('federal', 'JJ'), ('structure', 'NN'), (',', ','), ('etc', 'FW'), ('.', '.')]\n",
            "[('Indian', 'JJ'), ('culture', 'NN'), ('characterized', 'VBN'), ('strict', 'JJ'), ('social', 'JJ'), ('hierarchy', 'NN'), ('.', '.')]\n",
            "[('Probably', 'RB'), (',', ','), ('many', 'JJ'), ('Indians', 'NNPS'), ('believe', 'VBP'), ('gods', 'NNS'), ('spirits', 'NNS'), ('task', 'NN'), ('determining', 'VBG'), ('life', 'NN'), ('.', '.')]\n",
            "[('Earlier', 'RBR'), ('traditional', 'JJ'), ('Hindus', 'NNP'), ('divided', 'VBD'), ('four', 'CD'), ('varnas', 'NN'), ('.', '.')]\n",
            "[('Now', 'RB'), (',', ','), ('difference', 'NN'), ('declining', 'VBG'), ('.', '.')]\n",
            "[('Indian', 'JJ'), ('culture', 'NN'), ('certainly', 'RB'), ('diverse', 'NN'), ('.', '.')]\n",
            "[('Also', 'RB'), (',', ','), ('Indian', 'JJ'), ('children', 'NNS'), ('learn', 'VBP'), ('assimilate', 'NN'), ('within', 'IN'), ('differences', 'NNS'), ('.', '.')]\n",
            "[('In', 'IN'), ('recent', 'JJ'), ('decades', 'NNS'), (',', ','), ('massive', 'JJ'), ('changes', 'NNS'), ('taken', 'VBN'), ('place', 'NN'), ('Indian', 'JJ'), ('culture', 'NN'), ('.', '.')]\n",
            "[('Above', 'NNP'), (',', ','), ('changes', 'VBZ'), ('female', 'JJ'), ('empowerment', 'NN'), (',', ','), ('Westernization', 'NNP'), (',', ','), ('decline', 'NN'), ('superstition', 'NN'), (',', ','), ('higher', 'JJR'), ('literacy', 'NN'), (',', ','), ('improved', 'JJ'), ('education', 'NN'), (',', ','), ('etc', 'FW'), ('.', '.')]\n",
            "[('To', 'TO'), ('sum', 'VB'), (',', ','), ('culture', 'NN'), ('India', 'NNP'), ('one', 'CD'), ('oldest', 'JJS'), ('cultures', 'NNS'), ('within', 'IN'), ('World', 'NNP'), ('.', '.')]\n",
            "[('Above', 'NNP'), (',', ','), ('many', 'JJ'), ('Indians', 'NNPS'), ('till', 'VBP'), ('stick', 'VB'), ('normal', 'JJ'), (',', ','), ('Indian', 'JJ'), (',', ','), ('culture', 'NN'), ('spite', 'NN'), ('rapid', 'JJ'), ('globalization', 'NN'), ('.', '.')]\n",
            "[('So', 'RB'), (',', ','), ('friends', 'NNS'), (',', ','), ('Indians', 'NNPS'), ('demonstrated', 'VBD'), ('strong', 'JJ'), ('unity', 'NN'), ('regardless', 'RB'), ('range', 'NN'), ('among', 'IN'), ('.', '.')]\n",
            "[('Unity', 'NNP'), ('Diversity', 'NNP'), ('mantra', 'NNP'), ('Indian', 'JJ'), ('culture', 'NN'), ('.', '.')]\n",
            "[('Thanks', 'NNS'), ('!', '.')]\n"
          ]
        }
      ]
    },
    {
      "cell_type": "markdown",
      "source": [
        "# **Name Entity Recognition**"
      ],
      "metadata": {
        "id": "2TVh6V2ezZvo"
      }
    },
    {
      "cell_type": "code",
      "source": [
        "name_entity= \"\"\" Microsoft Corporation is an American multinational corporation and technology company headquartered in Redmond, Washington. It is also incorporated in Washington.[2] Microsoft's best-known software products are the Windows line of operating systems, the Microsoft 365 suite of productivity applications, and the Edge web browser. Its flagship hardware products are the Xbox video game consoles and the Microsoft Surface lineup of touchscreen personal computers. Microsoft ranked No. 14 in the 2022 Fortune 500 rankings of the largest United States corporations by total revenue;[3] and it was the world's largest software maker by revenue in 2022 according to Forbes Global 2000. It is considered one of the Big Five American information technology companies, alongside Alphabet (parent company of Google), Amazon, Apple, and Meta (parent company of Facebook).\n",
        "\n",
        "Microsoft was founded by Bill Gates and Paul Allen on April 4, 1975, to develop and sell BASIC interpreters for the Altair 8800. It rose to dominate the personal computer operating system market with MS-DOS in the mid-1980s, followed by Windows. The company's 1986 initial public offering (IPO) and subsequent rise in its share price created three billionaires and an estimated 12,000 millionaires among Microsoft employees. Since the 1990s, it has increasingly diversified from the operating system market and has made several corporate acquisitions, the largest being the acquisition of Activision Blizzard for $68.7 billion in October 2023,[4] followed by its acquisition of LinkedIn for $26.2 billion in December 2016,[5] and its acquisition of Skype Technologies for $8.5 billion in May 2011.[6]\n",
        "\n",
        "As of 2015, Microsoft is market-dominant in the IBM PC compatible operating system market and the office software suite market, although it has lost the majority of the overall operating system market to Android.[7] The company also produces a wide range of other consumer and enterprise software for desktops, laptops, tabs, gadgets, and servers, including Internet search (with Bing), the digital services market (through MSN), mixed reality (HoloLens), cloud computing (Azure), and software development (Visual Studio).\n",
        "\n",
        "Steve Ballmer replaced Gates as CEO in 2000 and later envisioned a \"devices and services\" strategy.[8] This unfolded with Microsoft acquiring Danger Inc. in 2008,[9] entering the personal computer production market for the first time in June 2012 with the launch of the Microsoft Surface line of tablet computers, and later forming Microsoft Mobile through the acquisition of Nokia's devices and services division. Since Satya Nadella took over as CEO in 2014, the company has scaled back on hardware and instead focused on cloud computing, a move that helped the company's shares reach their highest value since December 1999.[10][11] Under Nadella's direction, the company has also heavily expanded its gaming business to support the Xbox brand, establishing the Microsoft Gaming division in 2022, dedicated to operating Xbox in addition to its three subsidiaries (publishers). Microsoft Gaming is the third-largest gaming company in the world by revenue as of 2023.[12]\n",
        "\n",
        "Earlier dethroned by Apple in 2010, and in 2018, Microsoft reclaimed its position as the most valuable publicly traded company in the world.[13] In April 2019, Microsoft reached a trillion-dollar market cap, becoming the third U.S. public company to be valued at over $1 trillion after Apple and Amazon, respectively. As of 2023, Microsoft has the third-highest global brand valuation.\n",
        "\n",
        "Microsoft has been criticized for its monopolistic practices and the company's software has been criticized for problems with ease of use, robustness, and security. \"\"\""
      ],
      "metadata": {
        "id": "XJKMZaoXwZez"
      },
      "execution_count": 512,
      "outputs": []
    },
    {
      "cell_type": "code",
      "source": [
        "import nltk\n",
        "words=nltk.word_tokenize(name_entity)"
      ],
      "metadata": {
        "id": "lI5OlSfGz6_Y"
      },
      "execution_count": 513,
      "outputs": []
    },
    {
      "cell_type": "code",
      "source": [
        "words"
      ],
      "metadata": {
        "colab": {
          "base_uri": "https://localhost:8080/"
        },
        "id": "U8i2jomz03jA",
        "outputId": "9540e6de-1b91-4eb1-e577-0b0a3d0d2b09"
      },
      "execution_count": 514,
      "outputs": [
        {
          "output_type": "execute_result",
          "data": {
            "text/plain": [
              "['Microsoft',\n",
              " 'Corporation',\n",
              " 'is',\n",
              " 'an',\n",
              " 'American',\n",
              " 'multinational',\n",
              " 'corporation',\n",
              " 'and',\n",
              " 'technology',\n",
              " 'company',\n",
              " 'headquartered',\n",
              " 'in',\n",
              " 'Redmond',\n",
              " ',',\n",
              " 'Washington',\n",
              " '.',\n",
              " 'It',\n",
              " 'is',\n",
              " 'also',\n",
              " 'incorporated',\n",
              " 'in',\n",
              " 'Washington',\n",
              " '.',\n",
              " '[',\n",
              " '2',\n",
              " ']',\n",
              " 'Microsoft',\n",
              " \"'s\",\n",
              " 'best-known',\n",
              " 'software',\n",
              " 'products',\n",
              " 'are',\n",
              " 'the',\n",
              " 'Windows',\n",
              " 'line',\n",
              " 'of',\n",
              " 'operating',\n",
              " 'systems',\n",
              " ',',\n",
              " 'the',\n",
              " 'Microsoft',\n",
              " '365',\n",
              " 'suite',\n",
              " 'of',\n",
              " 'productivity',\n",
              " 'applications',\n",
              " ',',\n",
              " 'and',\n",
              " 'the',\n",
              " 'Edge',\n",
              " 'web',\n",
              " 'browser',\n",
              " '.',\n",
              " 'Its',\n",
              " 'flagship',\n",
              " 'hardware',\n",
              " 'products',\n",
              " 'are',\n",
              " 'the',\n",
              " 'Xbox',\n",
              " 'video',\n",
              " 'game',\n",
              " 'consoles',\n",
              " 'and',\n",
              " 'the',\n",
              " 'Microsoft',\n",
              " 'Surface',\n",
              " 'lineup',\n",
              " 'of',\n",
              " 'touchscreen',\n",
              " 'personal',\n",
              " 'computers',\n",
              " '.',\n",
              " 'Microsoft',\n",
              " 'ranked',\n",
              " 'No',\n",
              " '.',\n",
              " '14',\n",
              " 'in',\n",
              " 'the',\n",
              " '2022',\n",
              " 'Fortune',\n",
              " '500',\n",
              " 'rankings',\n",
              " 'of',\n",
              " 'the',\n",
              " 'largest',\n",
              " 'United',\n",
              " 'States',\n",
              " 'corporations',\n",
              " 'by',\n",
              " 'total',\n",
              " 'revenue',\n",
              " ';',\n",
              " '[',\n",
              " '3',\n",
              " ']',\n",
              " 'and',\n",
              " 'it',\n",
              " 'was',\n",
              " 'the',\n",
              " 'world',\n",
              " \"'s\",\n",
              " 'largest',\n",
              " 'software',\n",
              " 'maker',\n",
              " 'by',\n",
              " 'revenue',\n",
              " 'in',\n",
              " '2022',\n",
              " 'according',\n",
              " 'to',\n",
              " 'Forbes',\n",
              " 'Global',\n",
              " '2000',\n",
              " '.',\n",
              " 'It',\n",
              " 'is',\n",
              " 'considered',\n",
              " 'one',\n",
              " 'of',\n",
              " 'the',\n",
              " 'Big',\n",
              " 'Five',\n",
              " 'American',\n",
              " 'information',\n",
              " 'technology',\n",
              " 'companies',\n",
              " ',',\n",
              " 'alongside',\n",
              " 'Alphabet',\n",
              " '(',\n",
              " 'parent',\n",
              " 'company',\n",
              " 'of',\n",
              " 'Google',\n",
              " ')',\n",
              " ',',\n",
              " 'Amazon',\n",
              " ',',\n",
              " 'Apple',\n",
              " ',',\n",
              " 'and',\n",
              " 'Meta',\n",
              " '(',\n",
              " 'parent',\n",
              " 'company',\n",
              " 'of',\n",
              " 'Facebook',\n",
              " ')',\n",
              " '.',\n",
              " 'Microsoft',\n",
              " 'was',\n",
              " 'founded',\n",
              " 'by',\n",
              " 'Bill',\n",
              " 'Gates',\n",
              " 'and',\n",
              " 'Paul',\n",
              " 'Allen',\n",
              " 'on',\n",
              " 'April',\n",
              " '4',\n",
              " ',',\n",
              " '1975',\n",
              " ',',\n",
              " 'to',\n",
              " 'develop',\n",
              " 'and',\n",
              " 'sell',\n",
              " 'BASIC',\n",
              " 'interpreters',\n",
              " 'for',\n",
              " 'the',\n",
              " 'Altair',\n",
              " '8800',\n",
              " '.',\n",
              " 'It',\n",
              " 'rose',\n",
              " 'to',\n",
              " 'dominate',\n",
              " 'the',\n",
              " 'personal',\n",
              " 'computer',\n",
              " 'operating',\n",
              " 'system',\n",
              " 'market',\n",
              " 'with',\n",
              " 'MS-DOS',\n",
              " 'in',\n",
              " 'the',\n",
              " 'mid-1980s',\n",
              " ',',\n",
              " 'followed',\n",
              " 'by',\n",
              " 'Windows',\n",
              " '.',\n",
              " 'The',\n",
              " 'company',\n",
              " \"'s\",\n",
              " '1986',\n",
              " 'initial',\n",
              " 'public',\n",
              " 'offering',\n",
              " '(',\n",
              " 'IPO',\n",
              " ')',\n",
              " 'and',\n",
              " 'subsequent',\n",
              " 'rise',\n",
              " 'in',\n",
              " 'its',\n",
              " 'share',\n",
              " 'price',\n",
              " 'created',\n",
              " 'three',\n",
              " 'billionaires',\n",
              " 'and',\n",
              " 'an',\n",
              " 'estimated',\n",
              " '12,000',\n",
              " 'millionaires',\n",
              " 'among',\n",
              " 'Microsoft',\n",
              " 'employees',\n",
              " '.',\n",
              " 'Since',\n",
              " 'the',\n",
              " '1990s',\n",
              " ',',\n",
              " 'it',\n",
              " 'has',\n",
              " 'increasingly',\n",
              " 'diversified',\n",
              " 'from',\n",
              " 'the',\n",
              " 'operating',\n",
              " 'system',\n",
              " 'market',\n",
              " 'and',\n",
              " 'has',\n",
              " 'made',\n",
              " 'several',\n",
              " 'corporate',\n",
              " 'acquisitions',\n",
              " ',',\n",
              " 'the',\n",
              " 'largest',\n",
              " 'being',\n",
              " 'the',\n",
              " 'acquisition',\n",
              " 'of',\n",
              " 'Activision',\n",
              " 'Blizzard',\n",
              " 'for',\n",
              " '$',\n",
              " '68.7',\n",
              " 'billion',\n",
              " 'in',\n",
              " 'October',\n",
              " '2023',\n",
              " ',',\n",
              " '[',\n",
              " '4',\n",
              " ']',\n",
              " 'followed',\n",
              " 'by',\n",
              " 'its',\n",
              " 'acquisition',\n",
              " 'of',\n",
              " 'LinkedIn',\n",
              " 'for',\n",
              " '$',\n",
              " '26.2',\n",
              " 'billion',\n",
              " 'in',\n",
              " 'December',\n",
              " '2016',\n",
              " ',',\n",
              " '[',\n",
              " '5',\n",
              " ']',\n",
              " 'and',\n",
              " 'its',\n",
              " 'acquisition',\n",
              " 'of',\n",
              " 'Skype',\n",
              " 'Technologies',\n",
              " 'for',\n",
              " '$',\n",
              " '8.5',\n",
              " 'billion',\n",
              " 'in',\n",
              " 'May',\n",
              " '2011',\n",
              " '.',\n",
              " '[',\n",
              " '6',\n",
              " ']',\n",
              " 'As',\n",
              " 'of',\n",
              " '2015',\n",
              " ',',\n",
              " 'Microsoft',\n",
              " 'is',\n",
              " 'market-dominant',\n",
              " 'in',\n",
              " 'the',\n",
              " 'IBM',\n",
              " 'PC',\n",
              " 'compatible',\n",
              " 'operating',\n",
              " 'system',\n",
              " 'market',\n",
              " 'and',\n",
              " 'the',\n",
              " 'office',\n",
              " 'software',\n",
              " 'suite',\n",
              " 'market',\n",
              " ',',\n",
              " 'although',\n",
              " 'it',\n",
              " 'has',\n",
              " 'lost',\n",
              " 'the',\n",
              " 'majority',\n",
              " 'of',\n",
              " 'the',\n",
              " 'overall',\n",
              " 'operating',\n",
              " 'system',\n",
              " 'market',\n",
              " 'to',\n",
              " 'Android',\n",
              " '.',\n",
              " '[',\n",
              " '7',\n",
              " ']',\n",
              " 'The',\n",
              " 'company',\n",
              " 'also',\n",
              " 'produces',\n",
              " 'a',\n",
              " 'wide',\n",
              " 'range',\n",
              " 'of',\n",
              " 'other',\n",
              " 'consumer',\n",
              " 'and',\n",
              " 'enterprise',\n",
              " 'software',\n",
              " 'for',\n",
              " 'desktops',\n",
              " ',',\n",
              " 'laptops',\n",
              " ',',\n",
              " 'tabs',\n",
              " ',',\n",
              " 'gadgets',\n",
              " ',',\n",
              " 'and',\n",
              " 'servers',\n",
              " ',',\n",
              " 'including',\n",
              " 'Internet',\n",
              " 'search',\n",
              " '(',\n",
              " 'with',\n",
              " 'Bing',\n",
              " ')',\n",
              " ',',\n",
              " 'the',\n",
              " 'digital',\n",
              " 'services',\n",
              " 'market',\n",
              " '(',\n",
              " 'through',\n",
              " 'MSN',\n",
              " ')',\n",
              " ',',\n",
              " 'mixed',\n",
              " 'reality',\n",
              " '(',\n",
              " 'HoloLens',\n",
              " ')',\n",
              " ',',\n",
              " 'cloud',\n",
              " 'computing',\n",
              " '(',\n",
              " 'Azure',\n",
              " ')',\n",
              " ',',\n",
              " 'and',\n",
              " 'software',\n",
              " 'development',\n",
              " '(',\n",
              " 'Visual',\n",
              " 'Studio',\n",
              " ')',\n",
              " '.',\n",
              " 'Steve',\n",
              " 'Ballmer',\n",
              " 'replaced',\n",
              " 'Gates',\n",
              " 'as',\n",
              " 'CEO',\n",
              " 'in',\n",
              " '2000',\n",
              " 'and',\n",
              " 'later',\n",
              " 'envisioned',\n",
              " 'a',\n",
              " '``',\n",
              " 'devices',\n",
              " 'and',\n",
              " 'services',\n",
              " \"''\",\n",
              " 'strategy',\n",
              " '.',\n",
              " '[',\n",
              " '8',\n",
              " ']',\n",
              " 'This',\n",
              " 'unfolded',\n",
              " 'with',\n",
              " 'Microsoft',\n",
              " 'acquiring',\n",
              " 'Danger',\n",
              " 'Inc.',\n",
              " 'in',\n",
              " '2008',\n",
              " ',',\n",
              " '[',\n",
              " '9',\n",
              " ']',\n",
              " 'entering',\n",
              " 'the',\n",
              " 'personal',\n",
              " 'computer',\n",
              " 'production',\n",
              " 'market',\n",
              " 'for',\n",
              " 'the',\n",
              " 'first',\n",
              " 'time',\n",
              " 'in',\n",
              " 'June',\n",
              " '2012',\n",
              " 'with',\n",
              " 'the',\n",
              " 'launch',\n",
              " 'of',\n",
              " 'the',\n",
              " 'Microsoft',\n",
              " 'Surface',\n",
              " 'line',\n",
              " 'of',\n",
              " 'tablet',\n",
              " 'computers',\n",
              " ',',\n",
              " 'and',\n",
              " 'later',\n",
              " 'forming',\n",
              " 'Microsoft',\n",
              " 'Mobile',\n",
              " 'through',\n",
              " 'the',\n",
              " 'acquisition',\n",
              " 'of',\n",
              " 'Nokia',\n",
              " \"'s\",\n",
              " 'devices',\n",
              " 'and',\n",
              " 'services',\n",
              " 'division',\n",
              " '.',\n",
              " 'Since',\n",
              " 'Satya',\n",
              " 'Nadella',\n",
              " 'took',\n",
              " 'over',\n",
              " 'as',\n",
              " 'CEO',\n",
              " 'in',\n",
              " '2014',\n",
              " ',',\n",
              " 'the',\n",
              " 'company',\n",
              " 'has',\n",
              " 'scaled',\n",
              " 'back',\n",
              " 'on',\n",
              " 'hardware',\n",
              " 'and',\n",
              " 'instead',\n",
              " 'focused',\n",
              " 'on',\n",
              " 'cloud',\n",
              " 'computing',\n",
              " ',',\n",
              " 'a',\n",
              " 'move',\n",
              " 'that',\n",
              " 'helped',\n",
              " 'the',\n",
              " 'company',\n",
              " \"'s\",\n",
              " 'shares',\n",
              " 'reach',\n",
              " 'their',\n",
              " 'highest',\n",
              " 'value',\n",
              " 'since',\n",
              " 'December',\n",
              " '1999',\n",
              " '.',\n",
              " '[',\n",
              " '10',\n",
              " ']',\n",
              " '[',\n",
              " '11',\n",
              " ']',\n",
              " 'Under',\n",
              " 'Nadella',\n",
              " \"'s\",\n",
              " 'direction',\n",
              " ',',\n",
              " 'the',\n",
              " 'company',\n",
              " 'has',\n",
              " 'also',\n",
              " 'heavily',\n",
              " 'expanded',\n",
              " 'its',\n",
              " 'gaming',\n",
              " 'business',\n",
              " 'to',\n",
              " 'support',\n",
              " 'the',\n",
              " 'Xbox',\n",
              " 'brand',\n",
              " ',',\n",
              " 'establishing',\n",
              " 'the',\n",
              " 'Microsoft',\n",
              " 'Gaming',\n",
              " 'division',\n",
              " 'in',\n",
              " '2022',\n",
              " ',',\n",
              " 'dedicated',\n",
              " 'to',\n",
              " 'operating',\n",
              " 'Xbox',\n",
              " 'in',\n",
              " 'addition',\n",
              " 'to',\n",
              " 'its',\n",
              " 'three',\n",
              " 'subsidiaries',\n",
              " '(',\n",
              " 'publishers',\n",
              " ')',\n",
              " '.',\n",
              " 'Microsoft',\n",
              " 'Gaming',\n",
              " 'is',\n",
              " 'the',\n",
              " 'third-largest',\n",
              " 'gaming',\n",
              " 'company',\n",
              " 'in',\n",
              " 'the',\n",
              " 'world',\n",
              " 'by',\n",
              " 'revenue',\n",
              " 'as',\n",
              " 'of',\n",
              " '2023',\n",
              " '.',\n",
              " '[',\n",
              " '12',\n",
              " ']',\n",
              " 'Earlier',\n",
              " 'dethroned',\n",
              " 'by',\n",
              " 'Apple',\n",
              " 'in',\n",
              " '2010',\n",
              " ',',\n",
              " 'and',\n",
              " 'in',\n",
              " '2018',\n",
              " ',',\n",
              " 'Microsoft',\n",
              " 'reclaimed',\n",
              " 'its',\n",
              " 'position',\n",
              " 'as',\n",
              " 'the',\n",
              " 'most',\n",
              " 'valuable',\n",
              " 'publicly',\n",
              " 'traded',\n",
              " 'company',\n",
              " 'in',\n",
              " 'the',\n",
              " 'world',\n",
              " '.',\n",
              " '[',\n",
              " '13',\n",
              " ']',\n",
              " 'In',\n",
              " 'April',\n",
              " '2019',\n",
              " ',',\n",
              " 'Microsoft',\n",
              " 'reached',\n",
              " 'a',\n",
              " 'trillion-dollar',\n",
              " 'market',\n",
              " 'cap',\n",
              " ',',\n",
              " 'becoming',\n",
              " 'the',\n",
              " 'third',\n",
              " 'U.S.',\n",
              " 'public',\n",
              " 'company',\n",
              " 'to',\n",
              " 'be',\n",
              " 'valued',\n",
              " 'at',\n",
              " 'over',\n",
              " '$',\n",
              " '1',\n",
              " 'trillion',\n",
              " 'after',\n",
              " 'Apple',\n",
              " 'and',\n",
              " 'Amazon',\n",
              " ',',\n",
              " 'respectively',\n",
              " '.',\n",
              " 'As',\n",
              " 'of',\n",
              " '2023',\n",
              " ',',\n",
              " 'Microsoft',\n",
              " 'has',\n",
              " 'the',\n",
              " 'third-highest',\n",
              " 'global',\n",
              " 'brand',\n",
              " 'valuation',\n",
              " '.',\n",
              " 'Microsoft',\n",
              " 'has',\n",
              " 'been',\n",
              " 'criticized',\n",
              " 'for',\n",
              " 'its',\n",
              " 'monopolistic',\n",
              " 'practices',\n",
              " 'and',\n",
              " 'the',\n",
              " 'company',\n",
              " \"'s\",\n",
              " 'software',\n",
              " 'has',\n",
              " 'been',\n",
              " 'criticized',\n",
              " 'for',\n",
              " 'problems',\n",
              " 'with',\n",
              " 'ease',\n",
              " 'of',\n",
              " 'use',\n",
              " ',',\n",
              " 'robustness',\n",
              " ',',\n",
              " 'and',\n",
              " 'security',\n",
              " '.']"
            ]
          },
          "metadata": {},
          "execution_count": 514
        }
      ]
    },
    {
      "cell_type": "code",
      "source": [
        "nltk.pos_tag(words)"
      ],
      "metadata": {
        "colab": {
          "base_uri": "https://localhost:8080/"
        },
        "id": "4fRkHKkj0X0c",
        "outputId": "345ca80f-a71d-4b5a-d1a8-7f4788893c35"
      },
      "execution_count": 515,
      "outputs": [
        {
          "output_type": "execute_result",
          "data": {
            "text/plain": [
              "[('Microsoft', 'NNP'),\n",
              " ('Corporation', 'NNP'),\n",
              " ('is', 'VBZ'),\n",
              " ('an', 'DT'),\n",
              " ('American', 'JJ'),\n",
              " ('multinational', 'JJ'),\n",
              " ('corporation', 'NN'),\n",
              " ('and', 'CC'),\n",
              " ('technology', 'NN'),\n",
              " ('company', 'NN'),\n",
              " ('headquartered', 'VBD'),\n",
              " ('in', 'IN'),\n",
              " ('Redmond', 'NNP'),\n",
              " (',', ','),\n",
              " ('Washington', 'NNP'),\n",
              " ('.', '.'),\n",
              " ('It', 'PRP'),\n",
              " ('is', 'VBZ'),\n",
              " ('also', 'RB'),\n",
              " ('incorporated', 'VBN'),\n",
              " ('in', 'IN'),\n",
              " ('Washington', 'NNP'),\n",
              " ('.', '.'),\n",
              " ('[', 'CC'),\n",
              " ('2', 'CD'),\n",
              " (']', 'NNP'),\n",
              " ('Microsoft', 'NNP'),\n",
              " (\"'s\", 'POS'),\n",
              " ('best-known', 'JJ'),\n",
              " ('software', 'NN'),\n",
              " ('products', 'NNS'),\n",
              " ('are', 'VBP'),\n",
              " ('the', 'DT'),\n",
              " ('Windows', 'NNP'),\n",
              " ('line', 'NN'),\n",
              " ('of', 'IN'),\n",
              " ('operating', 'VBG'),\n",
              " ('systems', 'NNS'),\n",
              " (',', ','),\n",
              " ('the', 'DT'),\n",
              " ('Microsoft', 'NNP'),\n",
              " ('365', 'CD'),\n",
              " ('suite', 'NN'),\n",
              " ('of', 'IN'),\n",
              " ('productivity', 'NN'),\n",
              " ('applications', 'NNS'),\n",
              " (',', ','),\n",
              " ('and', 'CC'),\n",
              " ('the', 'DT'),\n",
              " ('Edge', 'NNP'),\n",
              " ('web', 'NN'),\n",
              " ('browser', 'NN'),\n",
              " ('.', '.'),\n",
              " ('Its', 'PRP$'),\n",
              " ('flagship', 'NN'),\n",
              " ('hardware', 'NN'),\n",
              " ('products', 'NNS'),\n",
              " ('are', 'VBP'),\n",
              " ('the', 'DT'),\n",
              " ('Xbox', 'NNP'),\n",
              " ('video', 'NN'),\n",
              " ('game', 'NN'),\n",
              " ('consoles', 'NNS'),\n",
              " ('and', 'CC'),\n",
              " ('the', 'DT'),\n",
              " ('Microsoft', 'NNP'),\n",
              " ('Surface', 'NNP'),\n",
              " ('lineup', 'NN'),\n",
              " ('of', 'IN'),\n",
              " ('touchscreen', 'JJ'),\n",
              " ('personal', 'JJ'),\n",
              " ('computers', 'NNS'),\n",
              " ('.', '.'),\n",
              " ('Microsoft', 'NNP'),\n",
              " ('ranked', 'VBD'),\n",
              " ('No', 'NNP'),\n",
              " ('.', '.'),\n",
              " ('14', 'CD'),\n",
              " ('in', 'IN'),\n",
              " ('the', 'DT'),\n",
              " ('2022', 'CD'),\n",
              " ('Fortune', 'NNP'),\n",
              " ('500', 'CD'),\n",
              " ('rankings', 'NNS'),\n",
              " ('of', 'IN'),\n",
              " ('the', 'DT'),\n",
              " ('largest', 'JJS'),\n",
              " ('United', 'NNP'),\n",
              " ('States', 'NNPS'),\n",
              " ('corporations', 'NNS'),\n",
              " ('by', 'IN'),\n",
              " ('total', 'JJ'),\n",
              " ('revenue', 'NN'),\n",
              " (';', ':'),\n",
              " ('[', 'CC'),\n",
              " ('3', 'CD'),\n",
              " (']', 'NN'),\n",
              " ('and', 'CC'),\n",
              " ('it', 'PRP'),\n",
              " ('was', 'VBD'),\n",
              " ('the', 'DT'),\n",
              " ('world', 'NN'),\n",
              " (\"'s\", 'POS'),\n",
              " ('largest', 'JJS'),\n",
              " ('software', 'NN'),\n",
              " ('maker', 'NN'),\n",
              " ('by', 'IN'),\n",
              " ('revenue', 'NN'),\n",
              " ('in', 'IN'),\n",
              " ('2022', 'CD'),\n",
              " ('according', 'VBG'),\n",
              " ('to', 'TO'),\n",
              " ('Forbes', 'NNP'),\n",
              " ('Global', 'NNP'),\n",
              " ('2000', 'CD'),\n",
              " ('.', '.'),\n",
              " ('It', 'PRP'),\n",
              " ('is', 'VBZ'),\n",
              " ('considered', 'VBN'),\n",
              " ('one', 'CD'),\n",
              " ('of', 'IN'),\n",
              " ('the', 'DT'),\n",
              " ('Big', 'NNP'),\n",
              " ('Five', 'CD'),\n",
              " ('American', 'NNP'),\n",
              " ('information', 'NN'),\n",
              " ('technology', 'NN'),\n",
              " ('companies', 'NNS'),\n",
              " (',', ','),\n",
              " ('alongside', 'RB'),\n",
              " ('Alphabet', 'NNP'),\n",
              " ('(', '('),\n",
              " ('parent', 'JJ'),\n",
              " ('company', 'NN'),\n",
              " ('of', 'IN'),\n",
              " ('Google', 'NNP'),\n",
              " (')', ')'),\n",
              " (',', ','),\n",
              " ('Amazon', 'NNP'),\n",
              " (',', ','),\n",
              " ('Apple', 'NNP'),\n",
              " (',', ','),\n",
              " ('and', 'CC'),\n",
              " ('Meta', 'NNP'),\n",
              " ('(', '('),\n",
              " ('parent', 'JJ'),\n",
              " ('company', 'NN'),\n",
              " ('of', 'IN'),\n",
              " ('Facebook', 'NNP'),\n",
              " (')', ')'),\n",
              " ('.', '.'),\n",
              " ('Microsoft', 'NNP'),\n",
              " ('was', 'VBD'),\n",
              " ('founded', 'VBN'),\n",
              " ('by', 'IN'),\n",
              " ('Bill', 'NNP'),\n",
              " ('Gates', 'NNP'),\n",
              " ('and', 'CC'),\n",
              " ('Paul', 'NNP'),\n",
              " ('Allen', 'NNP'),\n",
              " ('on', 'IN'),\n",
              " ('April', 'NNP'),\n",
              " ('4', 'CD'),\n",
              " (',', ','),\n",
              " ('1975', 'CD'),\n",
              " (',', ','),\n",
              " ('to', 'TO'),\n",
              " ('develop', 'VB'),\n",
              " ('and', 'CC'),\n",
              " ('sell', 'VB'),\n",
              " ('BASIC', 'NNP'),\n",
              " ('interpreters', 'NNS'),\n",
              " ('for', 'IN'),\n",
              " ('the', 'DT'),\n",
              " ('Altair', 'NNP'),\n",
              " ('8800', 'CD'),\n",
              " ('.', '.'),\n",
              " ('It', 'PRP'),\n",
              " ('rose', 'VBD'),\n",
              " ('to', 'TO'),\n",
              " ('dominate', 'VB'),\n",
              " ('the', 'DT'),\n",
              " ('personal', 'JJ'),\n",
              " ('computer', 'NN'),\n",
              " ('operating', 'VBG'),\n",
              " ('system', 'NN'),\n",
              " ('market', 'NN'),\n",
              " ('with', 'IN'),\n",
              " ('MS-DOS', 'NNP'),\n",
              " ('in', 'IN'),\n",
              " ('the', 'DT'),\n",
              " ('mid-1980s', 'NN'),\n",
              " (',', ','),\n",
              " ('followed', 'VBN'),\n",
              " ('by', 'IN'),\n",
              " ('Windows', 'NNP'),\n",
              " ('.', '.'),\n",
              " ('The', 'DT'),\n",
              " ('company', 'NN'),\n",
              " (\"'s\", 'POS'),\n",
              " ('1986', 'CD'),\n",
              " ('initial', 'JJ'),\n",
              " ('public', 'JJ'),\n",
              " ('offering', 'NN'),\n",
              " ('(', '('),\n",
              " ('IPO', 'NNP'),\n",
              " (')', ')'),\n",
              " ('and', 'CC'),\n",
              " ('subsequent', 'JJ'),\n",
              " ('rise', 'NN'),\n",
              " ('in', 'IN'),\n",
              " ('its', 'PRP$'),\n",
              " ('share', 'NN'),\n",
              " ('price', 'NN'),\n",
              " ('created', 'VBD'),\n",
              " ('three', 'CD'),\n",
              " ('billionaires', 'NNS'),\n",
              " ('and', 'CC'),\n",
              " ('an', 'DT'),\n",
              " ('estimated', 'VBN'),\n",
              " ('12,000', 'CD'),\n",
              " ('millionaires', 'NNS'),\n",
              " ('among', 'IN'),\n",
              " ('Microsoft', 'NNP'),\n",
              " ('employees', 'NNS'),\n",
              " ('.', '.'),\n",
              " ('Since', 'IN'),\n",
              " ('the', 'DT'),\n",
              " ('1990s', 'CD'),\n",
              " (',', ','),\n",
              " ('it', 'PRP'),\n",
              " ('has', 'VBZ'),\n",
              " ('increasingly', 'RB'),\n",
              " ('diversified', 'VBN'),\n",
              " ('from', 'IN'),\n",
              " ('the', 'DT'),\n",
              " ('operating', 'NN'),\n",
              " ('system', 'NN'),\n",
              " ('market', 'NN'),\n",
              " ('and', 'CC'),\n",
              " ('has', 'VBZ'),\n",
              " ('made', 'VBN'),\n",
              " ('several', 'JJ'),\n",
              " ('corporate', 'JJ'),\n",
              " ('acquisitions', 'NNS'),\n",
              " (',', ','),\n",
              " ('the', 'DT'),\n",
              " ('largest', 'JJS'),\n",
              " ('being', 'VBG'),\n",
              " ('the', 'DT'),\n",
              " ('acquisition', 'NN'),\n",
              " ('of', 'IN'),\n",
              " ('Activision', 'NNP'),\n",
              " ('Blizzard', 'NNP'),\n",
              " ('for', 'IN'),\n",
              " ('$', '$'),\n",
              " ('68.7', 'CD'),\n",
              " ('billion', 'CD'),\n",
              " ('in', 'IN'),\n",
              " ('October', 'NNP'),\n",
              " ('2023', 'CD'),\n",
              " (',', ','),\n",
              " ('[', 'VBD'),\n",
              " ('4', 'CD'),\n",
              " (']', 'NN'),\n",
              " ('followed', 'VBN'),\n",
              " ('by', 'IN'),\n",
              " ('its', 'PRP$'),\n",
              " ('acquisition', 'NN'),\n",
              " ('of', 'IN'),\n",
              " ('LinkedIn', 'NNP'),\n",
              " ('for', 'IN'),\n",
              " ('$', '$'),\n",
              " ('26.2', 'CD'),\n",
              " ('billion', 'CD'),\n",
              " ('in', 'IN'),\n",
              " ('December', 'NNP'),\n",
              " ('2016', 'CD'),\n",
              " (',', ','),\n",
              " ('[', 'VBD'),\n",
              " ('5', 'CD'),\n",
              " (']', 'NN'),\n",
              " ('and', 'CC'),\n",
              " ('its', 'PRP$'),\n",
              " ('acquisition', 'NN'),\n",
              " ('of', 'IN'),\n",
              " ('Skype', 'NNP'),\n",
              " ('Technologies', 'NNPS'),\n",
              " ('for', 'IN'),\n",
              " ('$', '$'),\n",
              " ('8.5', 'CD'),\n",
              " ('billion', 'CD'),\n",
              " ('in', 'IN'),\n",
              " ('May', 'NNP'),\n",
              " ('2011', 'CD'),\n",
              " ('.', '.'),\n",
              " ('[', 'VB'),\n",
              " ('6', 'CD'),\n",
              " (']', 'NNP'),\n",
              " ('As', 'IN'),\n",
              " ('of', 'IN'),\n",
              " ('2015', 'CD'),\n",
              " (',', ','),\n",
              " ('Microsoft', 'NNP'),\n",
              " ('is', 'VBZ'),\n",
              " ('market-dominant', 'JJ'),\n",
              " ('in', 'IN'),\n",
              " ('the', 'DT'),\n",
              " ('IBM', 'NNP'),\n",
              " ('PC', 'NNP'),\n",
              " ('compatible', 'JJ'),\n",
              " ('operating', 'VBG'),\n",
              " ('system', 'NN'),\n",
              " ('market', 'NN'),\n",
              " ('and', 'CC'),\n",
              " ('the', 'DT'),\n",
              " ('office', 'NN'),\n",
              " ('software', 'NN'),\n",
              " ('suite', 'NN'),\n",
              " ('market', 'NN'),\n",
              " (',', ','),\n",
              " ('although', 'IN'),\n",
              " ('it', 'PRP'),\n",
              " ('has', 'VBZ'),\n",
              " ('lost', 'VBN'),\n",
              " ('the', 'DT'),\n",
              " ('majority', 'NN'),\n",
              " ('of', 'IN'),\n",
              " ('the', 'DT'),\n",
              " ('overall', 'JJ'),\n",
              " ('operating', 'NN'),\n",
              " ('system', 'NN'),\n",
              " ('market', 'NN'),\n",
              " ('to', 'TO'),\n",
              " ('Android', 'NNP'),\n",
              " ('.', '.'),\n",
              " ('[', 'CC'),\n",
              " ('7', 'CD'),\n",
              " (']', 'IN'),\n",
              " ('The', 'DT'),\n",
              " ('company', 'NN'),\n",
              " ('also', 'RB'),\n",
              " ('produces', 'VBZ'),\n",
              " ('a', 'DT'),\n",
              " ('wide', 'JJ'),\n",
              " ('range', 'NN'),\n",
              " ('of', 'IN'),\n",
              " ('other', 'JJ'),\n",
              " ('consumer', 'NN'),\n",
              " ('and', 'CC'),\n",
              " ('enterprise', 'NN'),\n",
              " ('software', 'NN'),\n",
              " ('for', 'IN'),\n",
              " ('desktops', 'NNS'),\n",
              " (',', ','),\n",
              " ('laptops', 'NNS'),\n",
              " (',', ','),\n",
              " ('tabs', 'NNS'),\n",
              " (',', ','),\n",
              " ('gadgets', 'NNS'),\n",
              " (',', ','),\n",
              " ('and', 'CC'),\n",
              " ('servers', 'NNS'),\n",
              " (',', ','),\n",
              " ('including', 'VBG'),\n",
              " ('Internet', 'NNP'),\n",
              " ('search', 'NN'),\n",
              " ('(', '('),\n",
              " ('with', 'IN'),\n",
              " ('Bing', 'NNP'),\n",
              " (')', ')'),\n",
              " (',', ','),\n",
              " ('the', 'DT'),\n",
              " ('digital', 'JJ'),\n",
              " ('services', 'NNS'),\n",
              " ('market', 'NN'),\n",
              " ('(', '('),\n",
              " ('through', 'IN'),\n",
              " ('MSN', 'NNP'),\n",
              " (')', ')'),\n",
              " (',', ','),\n",
              " ('mixed', 'JJ'),\n",
              " ('reality', 'NN'),\n",
              " ('(', '('),\n",
              " ('HoloLens', 'NNP'),\n",
              " (')', ')'),\n",
              " (',', ','),\n",
              " ('cloud', 'JJ'),\n",
              " ('computing', 'NN'),\n",
              " ('(', '('),\n",
              " ('Azure', 'NNP'),\n",
              " (')', ')'),\n",
              " (',', ','),\n",
              " ('and', 'CC'),\n",
              " ('software', 'NN'),\n",
              " ('development', 'NN'),\n",
              " ('(', '('),\n",
              " ('Visual', 'JJ'),\n",
              " ('Studio', 'NNP'),\n",
              " (')', ')'),\n",
              " ('.', '.'),\n",
              " ('Steve', 'NNP'),\n",
              " ('Ballmer', 'NNP'),\n",
              " ('replaced', 'VBD'),\n",
              " ('Gates', 'NNP'),\n",
              " ('as', 'IN'),\n",
              " ('CEO', 'NNP'),\n",
              " ('in', 'IN'),\n",
              " ('2000', 'CD'),\n",
              " ('and', 'CC'),\n",
              " ('later', 'RB'),\n",
              " ('envisioned', 'VBD'),\n",
              " ('a', 'DT'),\n",
              " ('``', '``'),\n",
              " ('devices', 'NNS'),\n",
              " ('and', 'CC'),\n",
              " ('services', 'NNS'),\n",
              " (\"''\", \"''\"),\n",
              " ('strategy', 'NN'),\n",
              " ('.', '.'),\n",
              " ('[', 'CC'),\n",
              " ('8', 'CD'),\n",
              " (']', 'NN'),\n",
              " ('This', 'DT'),\n",
              " ('unfolded', 'JJ'),\n",
              " ('with', 'IN'),\n",
              " ('Microsoft', 'NNP'),\n",
              " ('acquiring', 'VBG'),\n",
              " ('Danger', 'NNP'),\n",
              " ('Inc.', 'NNP'),\n",
              " ('in', 'IN'),\n",
              " ('2008', 'CD'),\n",
              " (',', ','),\n",
              " ('[', 'VBD'),\n",
              " ('9', 'CD'),\n",
              " (']', 'NN'),\n",
              " ('entering', 'VBG'),\n",
              " ('the', 'DT'),\n",
              " ('personal', 'JJ'),\n",
              " ('computer', 'NN'),\n",
              " ('production', 'NN'),\n",
              " ('market', 'NN'),\n",
              " ('for', 'IN'),\n",
              " ('the', 'DT'),\n",
              " ('first', 'JJ'),\n",
              " ('time', 'NN'),\n",
              " ('in', 'IN'),\n",
              " ('June', 'NNP'),\n",
              " ('2012', 'CD'),\n",
              " ('with', 'IN'),\n",
              " ('the', 'DT'),\n",
              " ('launch', 'NN'),\n",
              " ('of', 'IN'),\n",
              " ('the', 'DT'),\n",
              " ('Microsoft', 'NNP'),\n",
              " ('Surface', 'NNP'),\n",
              " ('line', 'NN'),\n",
              " ('of', 'IN'),\n",
              " ('tablet', 'NN'),\n",
              " ('computers', 'NNS'),\n",
              " (',', ','),\n",
              " ('and', 'CC'),\n",
              " ('later', 'RB'),\n",
              " ('forming', 'VBG'),\n",
              " ('Microsoft', 'NNP'),\n",
              " ('Mobile', 'NNP'),\n",
              " ('through', 'IN'),\n",
              " ('the', 'DT'),\n",
              " ('acquisition', 'NN'),\n",
              " ('of', 'IN'),\n",
              " ('Nokia', 'NNP'),\n",
              " (\"'s\", 'POS'),\n",
              " ('devices', 'NNS'),\n",
              " ('and', 'CC'),\n",
              " ('services', 'NNS'),\n",
              " ('division', 'NN'),\n",
              " ('.', '.'),\n",
              " ('Since', 'IN'),\n",
              " ('Satya', 'NNP'),\n",
              " ('Nadella', 'NNP'),\n",
              " ('took', 'VBD'),\n",
              " ('over', 'RP'),\n",
              " ('as', 'IN'),\n",
              " ('CEO', 'NNP'),\n",
              " ('in', 'IN'),\n",
              " ('2014', 'CD'),\n",
              " (',', ','),\n",
              " ('the', 'DT'),\n",
              " ('company', 'NN'),\n",
              " ('has', 'VBZ'),\n",
              " ('scaled', 'VBN'),\n",
              " ('back', 'RP'),\n",
              " ('on', 'IN'),\n",
              " ('hardware', 'NN'),\n",
              " ('and', 'CC'),\n",
              " ('instead', 'RB'),\n",
              " ('focused', 'VBD'),\n",
              " ('on', 'IN'),\n",
              " ('cloud', 'NN'),\n",
              " ('computing', 'NN'),\n",
              " (',', ','),\n",
              " ('a', 'DT'),\n",
              " ('move', 'NN'),\n",
              " ('that', 'WDT'),\n",
              " ('helped', 'VBD'),\n",
              " ('the', 'DT'),\n",
              " ('company', 'NN'),\n",
              " (\"'s\", 'POS'),\n",
              " ('shares', 'NNS'),\n",
              " ('reach', 'VBP'),\n",
              " ('their', 'PRP$'),\n",
              " ('highest', 'JJS'),\n",
              " ('value', 'NN'),\n",
              " ('since', 'IN'),\n",
              " ('December', 'NNP'),\n",
              " ('1999', 'CD'),\n",
              " ('.', '.'),\n",
              " ('[', 'VB'),\n",
              " ('10', 'CD'),\n",
              " (']', 'NNP'),\n",
              " ('[', 'VBD'),\n",
              " ('11', 'CD'),\n",
              " (']', 'NN'),\n",
              " ('Under', 'IN'),\n",
              " ('Nadella', 'NNP'),\n",
              " (\"'s\", 'POS'),\n",
              " ('direction', 'NN'),\n",
              " (',', ','),\n",
              " ('the', 'DT'),\n",
              " ('company', 'NN'),\n",
              " ('has', 'VBZ'),\n",
              " ('also', 'RB'),\n",
              " ('heavily', 'RB'),\n",
              " ('expanded', 'VBD'),\n",
              " ('its', 'PRP$'),\n",
              " ('gaming', 'NN'),\n",
              " ('business', 'NN'),\n",
              " ('to', 'TO'),\n",
              " ('support', 'VB'),\n",
              " ('the', 'DT'),\n",
              " ('Xbox', 'NNP'),\n",
              " ('brand', 'NN'),\n",
              " (',', ','),\n",
              " ('establishing', 'VBG'),\n",
              " ('the', 'DT'),\n",
              " ('Microsoft', 'NNP'),\n",
              " ('Gaming', 'NNP'),\n",
              " ('division', 'NN'),\n",
              " ('in', 'IN'),\n",
              " ('2022', 'CD'),\n",
              " (',', ','),\n",
              " ('dedicated', 'VBN'),\n",
              " ('to', 'TO'),\n",
              " ('operating', 'VBG'),\n",
              " ('Xbox', 'NN'),\n",
              " ('in', 'IN'),\n",
              " ('addition', 'NN'),\n",
              " ('to', 'TO'),\n",
              " ('its', 'PRP$'),\n",
              " ('three', 'CD'),\n",
              " ('subsidiaries', 'NNS'),\n",
              " ('(', '('),\n",
              " ('publishers', 'NNS'),\n",
              " (')', ')'),\n",
              " ('.', '.'),\n",
              " ('Microsoft', 'NNP'),\n",
              " ('Gaming', 'NNP'),\n",
              " ('is', 'VBZ'),\n",
              " ('the', 'DT'),\n",
              " ('third-largest', 'JJ'),\n",
              " ('gaming', 'NN'),\n",
              " ('company', 'NN'),\n",
              " ('in', 'IN'),\n",
              " ('the', 'DT'),\n",
              " ('world', 'NN'),\n",
              " ('by', 'IN'),\n",
              " ('revenue', 'NN'),\n",
              " ('as', 'IN'),\n",
              " ('of', 'IN'),\n",
              " ('2023', 'CD'),\n",
              " ('.', '.'),\n",
              " ('[', 'VB'),\n",
              " ('12', 'CD'),\n",
              " (']', 'NNS'),\n",
              " ('Earlier', 'RBR'),\n",
              " ('dethroned', 'VBN'),\n",
              " ('by', 'IN'),\n",
              " ('Apple', 'NNP'),\n",
              " ('in', 'IN'),\n",
              " ('2010', 'CD'),\n",
              " (',', ','),\n",
              " ('and', 'CC'),\n",
              " ('in', 'IN'),\n",
              " ('2018', 'CD'),\n",
              " (',', ','),\n",
              " ('Microsoft', 'NNP'),\n",
              " ('reclaimed', 'VBD'),\n",
              " ('its', 'PRP$'),\n",
              " ('position', 'NN'),\n",
              " ('as', 'IN'),\n",
              " ('the', 'DT'),\n",
              " ('most', 'RBS'),\n",
              " ('valuable', 'JJ'),\n",
              " ('publicly', 'RB'),\n",
              " ('traded', 'VBN'),\n",
              " ('company', 'NN'),\n",
              " ('in', 'IN'),\n",
              " ('the', 'DT'),\n",
              " ('world', 'NN'),\n",
              " ('.', '.'),\n",
              " ('[', 'CC'),\n",
              " ('13', 'CD'),\n",
              " (']', 'NN'),\n",
              " ('In', 'IN'),\n",
              " ('April', 'NNP'),\n",
              " ('2019', 'CD'),\n",
              " (',', ','),\n",
              " ('Microsoft', 'NNP'),\n",
              " ('reached', 'VBD'),\n",
              " ('a', 'DT'),\n",
              " ('trillion-dollar', 'JJ'),\n",
              " ('market', 'NN'),\n",
              " ('cap', 'NN'),\n",
              " (',', ','),\n",
              " ('becoming', 'VBG'),\n",
              " ('the', 'DT'),\n",
              " ('third', 'JJ'),\n",
              " ('U.S.', 'NNP'),\n",
              " ('public', 'JJ'),\n",
              " ('company', 'NN'),\n",
              " ('to', 'TO'),\n",
              " ('be', 'VB'),\n",
              " ('valued', 'VBN'),\n",
              " ('at', 'IN'),\n",
              " ('over', 'IN'),\n",
              " ('$', '$'),\n",
              " ('1', 'CD'),\n",
              " ('trillion', 'CD'),\n",
              " ('after', 'IN'),\n",
              " ('Apple', 'NNP'),\n",
              " ('and', 'CC'),\n",
              " ('Amazon', 'NNP'),\n",
              " (',', ','),\n",
              " ('respectively', 'RB'),\n",
              " ('.', '.'),\n",
              " ('As', 'IN'),\n",
              " ('of', 'IN'),\n",
              " ('2023', 'CD'),\n",
              " (',', ','),\n",
              " ('Microsoft', 'NNP'),\n",
              " ('has', 'VBZ'),\n",
              " ('the', 'DT'),\n",
              " ('third-highest', 'JJ'),\n",
              " ('global', 'JJ'),\n",
              " ('brand', 'NN'),\n",
              " ('valuation', 'NN'),\n",
              " ('.', '.'),\n",
              " ('Microsoft', 'NNP'),\n",
              " ('has', 'VBZ'),\n",
              " ('been', 'VBN'),\n",
              " ('criticized', 'VBN'),\n",
              " ('for', 'IN'),\n",
              " ('its', 'PRP$'),\n",
              " ('monopolistic', 'JJ'),\n",
              " ('practices', 'NNS'),\n",
              " ('and', 'CC'),\n",
              " ('the', 'DT'),\n",
              " ('company', 'NN'),\n",
              " (\"'s\", 'POS'),\n",
              " ('software', 'NN'),\n",
              " ('has', 'VBZ'),\n",
              " ('been', 'VBN'),\n",
              " ('criticized', 'VBN'),\n",
              " ('for', 'IN'),\n",
              " ('problems', 'NNS'),\n",
              " ('with', 'IN'),\n",
              " ('ease', 'NN'),\n",
              " ('of', 'IN'),\n",
              " ('use', 'NN'),\n",
              " (',', ','),\n",
              " ('robustness', 'NN'),\n",
              " (',', ','),\n",
              " ('and', 'CC'),\n",
              " ('security', 'NN'),\n",
              " ('.', '.')]"
            ]
          },
          "metadata": {},
          "execution_count": 515
        }
      ]
    },
    {
      "cell_type": "code",
      "source": [
        "tag_elements=nltk.pos_tag(words)"
      ],
      "metadata": {
        "id": "UtiNqjn70hCR"
      },
      "execution_count": 516,
      "outputs": []
    },
    {
      "cell_type": "code",
      "source": [
        "import nltk\n",
        "nltk.download('words')"
      ],
      "metadata": {
        "colab": {
          "base_uri": "https://localhost:8080/"
        },
        "id": "wP0FLVOu2I8y",
        "outputId": "cb7fa864-2f48-462f-e02a-43f931c57a94"
      },
      "execution_count": 517,
      "outputs": [
        {
          "output_type": "stream",
          "name": "stderr",
          "text": [
            "[nltk_data] Downloading package words to /root/nltk_data...\n",
            "[nltk_data]   Package words is already up-to-date!\n"
          ]
        },
        {
          "output_type": "execute_result",
          "data": {
            "text/plain": [
              "True"
            ]
          },
          "metadata": {},
          "execution_count": 517
        }
      ]
    },
    {
      "cell_type": "code",
      "source": [
        "import nltk\n",
        "nltk.download('maxent_ne_chunker')"
      ],
      "metadata": {
        "colab": {
          "base_uri": "https://localhost:8080/"
        },
        "id": "GLnMezZK1jWT",
        "outputId": "c7d4ff5c-2cda-4e7a-a0b5-0bcb8521114d"
      },
      "execution_count": 518,
      "outputs": [
        {
          "output_type": "stream",
          "name": "stderr",
          "text": [
            "[nltk_data] Downloading package maxent_ne_chunker to\n",
            "[nltk_data]     /root/nltk_data...\n",
            "[nltk_data]   Package maxent_ne_chunker is already up-to-date!\n"
          ]
        },
        {
          "output_type": "execute_result",
          "data": {
            "text/plain": [
              "True"
            ]
          },
          "metadata": {},
          "execution_count": 518
        }
      ]
    },
    {
      "cell_type": "code",
      "source": [
        "# Entity Tagging\n",
        "nlp=spacy.load(\"en_core_web_sm\")\n",
        "doc_block=nlp(name_entity)\n",
        "spacy.displacy.render(doc_block,style=\"ent\",jupyter=True)"
      ],
      "metadata": {
        "colab": {
          "base_uri": "https://localhost:8080/",
          "height": 1000
        },
        "id": "ajADKdzu41v-",
        "outputId": "3466d07a-0d73-4b45-f42d-d43edc174bfe"
      },
      "execution_count": 519,
      "outputs": [
        {
          "output_type": "display_data",
          "data": {
            "text/plain": [
              "<IPython.core.display.HTML object>"
            ],
            "text/html": [
              "<span class=\"tex2jax_ignore\"><div class=\"entities\" style=\"line-height: 2.5; direction: ltr\"> \n",
              "<mark class=\"entity\" style=\"background: #7aecec; padding: 0.45em 0.6em; margin: 0 0.25em; line-height: 1; border-radius: 0.35em;\">\n",
              "    Microsoft Corporation\n",
              "    <span style=\"font-size: 0.8em; font-weight: bold; line-height: 1; border-radius: 0.35em; vertical-align: middle; margin-left: 0.5rem\">ORG</span>\n",
              "</mark>\n",
              " is an \n",
              "<mark class=\"entity\" style=\"background: #c887fb; padding: 0.45em 0.6em; margin: 0 0.25em; line-height: 1; border-radius: 0.35em;\">\n",
              "    American\n",
              "    <span style=\"font-size: 0.8em; font-weight: bold; line-height: 1; border-radius: 0.35em; vertical-align: middle; margin-left: 0.5rem\">NORP</span>\n",
              "</mark>\n",
              " multinational corporation and technology company headquartered in \n",
              "<mark class=\"entity\" style=\"background: #feca74; padding: 0.45em 0.6em; margin: 0 0.25em; line-height: 1; border-radius: 0.35em;\">\n",
              "    Redmond\n",
              "    <span style=\"font-size: 0.8em; font-weight: bold; line-height: 1; border-radius: 0.35em; vertical-align: middle; margin-left: 0.5rem\">GPE</span>\n",
              "</mark>\n",
              ", \n",
              "<mark class=\"entity\" style=\"background: #feca74; padding: 0.45em 0.6em; margin: 0 0.25em; line-height: 1; border-radius: 0.35em;\">\n",
              "    Washington\n",
              "    <span style=\"font-size: 0.8em; font-weight: bold; line-height: 1; border-radius: 0.35em; vertical-align: middle; margin-left: 0.5rem\">GPE</span>\n",
              "</mark>\n",
              ". It is also incorporated in Washington.[2] \n",
              "<mark class=\"entity\" style=\"background: #7aecec; padding: 0.45em 0.6em; margin: 0 0.25em; line-height: 1; border-radius: 0.35em;\">\n",
              "    Microsoft\n",
              "    <span style=\"font-size: 0.8em; font-weight: bold; line-height: 1; border-radius: 0.35em; vertical-align: middle; margin-left: 0.5rem\">ORG</span>\n",
              "</mark>\n",
              "'s best-known software products are the \n",
              "<mark class=\"entity\" style=\"background: #c887fb; padding: 0.45em 0.6em; margin: 0 0.25em; line-height: 1; border-radius: 0.35em;\">\n",
              "    Windows\n",
              "    <span style=\"font-size: 0.8em; font-weight: bold; line-height: 1; border-radius: 0.35em; vertical-align: middle; margin-left: 0.5rem\">NORP</span>\n",
              "</mark>\n",
              " line of operating systems, the \n",
              "<mark class=\"entity\" style=\"background: #7aecec; padding: 0.45em 0.6em; margin: 0 0.25em; line-height: 1; border-radius: 0.35em;\">\n",
              "    Microsoft\n",
              "    <span style=\"font-size: 0.8em; font-weight: bold; line-height: 1; border-radius: 0.35em; vertical-align: middle; margin-left: 0.5rem\">ORG</span>\n",
              "</mark>\n",
              " 365 suite of productivity applications, and the \n",
              "<mark class=\"entity\" style=\"background: #7aecec; padding: 0.45em 0.6em; margin: 0 0.25em; line-height: 1; border-radius: 0.35em;\">\n",
              "    Edge\n",
              "    <span style=\"font-size: 0.8em; font-weight: bold; line-height: 1; border-radius: 0.35em; vertical-align: middle; margin-left: 0.5rem\">ORG</span>\n",
              "</mark>\n",
              " web browser. Its flagship hardware products are the \n",
              "<mark class=\"entity\" style=\"background: #7aecec; padding: 0.45em 0.6em; margin: 0 0.25em; line-height: 1; border-radius: 0.35em;\">\n",
              "    Xbox\n",
              "    <span style=\"font-size: 0.8em; font-weight: bold; line-height: 1; border-radius: 0.35em; vertical-align: middle; margin-left: 0.5rem\">ORG</span>\n",
              "</mark>\n",
              " video game consoles and the \n",
              "<mark class=\"entity\" style=\"background: #7aecec; padding: 0.45em 0.6em; margin: 0 0.25em; line-height: 1; border-radius: 0.35em;\">\n",
              "    Microsoft Surface\n",
              "    <span style=\"font-size: 0.8em; font-weight: bold; line-height: 1; border-radius: 0.35em; vertical-align: middle; margin-left: 0.5rem\">ORG</span>\n",
              "</mark>\n",
              " lineup of touchscreen personal computers. \n",
              "<mark class=\"entity\" style=\"background: #7aecec; padding: 0.45em 0.6em; margin: 0 0.25em; line-height: 1; border-radius: 0.35em;\">\n",
              "    Microsoft\n",
              "    <span style=\"font-size: 0.8em; font-weight: bold; line-height: 1; border-radius: 0.35em; vertical-align: middle; margin-left: 0.5rem\">ORG</span>\n",
              "</mark>\n",
              " ranked No. \n",
              "<mark class=\"entity\" style=\"background: #e4e7d2; padding: 0.45em 0.6em; margin: 0 0.25em; line-height: 1; border-radius: 0.35em;\">\n",
              "    14\n",
              "    <span style=\"font-size: 0.8em; font-weight: bold; line-height: 1; border-radius: 0.35em; vertical-align: middle; margin-left: 0.5rem\">CARDINAL</span>\n",
              "</mark>\n",
              " in the \n",
              "<mark class=\"entity\" style=\"background: #bfe1d9; padding: 0.45em 0.6em; margin: 0 0.25em; line-height: 1; border-radius: 0.35em;\">\n",
              "    2022\n",
              "    <span style=\"font-size: 0.8em; font-weight: bold; line-height: 1; border-radius: 0.35em; vertical-align: middle; margin-left: 0.5rem\">DATE</span>\n",
              "</mark>\n",
              " \n",
              "<mark class=\"entity\" style=\"background: #ff8197; padding: 0.45em 0.6em; margin: 0 0.25em; line-height: 1; border-radius: 0.35em;\">\n",
              "    Fortune 500\n",
              "    <span style=\"font-size: 0.8em; font-weight: bold; line-height: 1; border-radius: 0.35em; vertical-align: middle; margin-left: 0.5rem\">LAW</span>\n",
              "</mark>\n",
              " rankings of the largest \n",
              "<mark class=\"entity\" style=\"background: #feca74; padding: 0.45em 0.6em; margin: 0 0.25em; line-height: 1; border-radius: 0.35em;\">\n",
              "    United States\n",
              "    <span style=\"font-size: 0.8em; font-weight: bold; line-height: 1; border-radius: 0.35em; vertical-align: middle; margin-left: 0.5rem\">GPE</span>\n",
              "</mark>\n",
              " corporations by total \n",
              "<mark class=\"entity\" style=\"background: #aa9cfc; padding: 0.45em 0.6em; margin: 0 0.25em; line-height: 1; border-radius: 0.35em;\">\n",
              "    revenue;[3]\n",
              "    <span style=\"font-size: 0.8em; font-weight: bold; line-height: 1; border-radius: 0.35em; vertical-align: middle; margin-left: 0.5rem\">PERSON</span>\n",
              "</mark>\n",
              " and it was the world's largest software maker by revenue in \n",
              "<mark class=\"entity\" style=\"background: #bfe1d9; padding: 0.45em 0.6em; margin: 0 0.25em; line-height: 1; border-radius: 0.35em;\">\n",
              "    2022\n",
              "    <span style=\"font-size: 0.8em; font-weight: bold; line-height: 1; border-radius: 0.35em; vertical-align: middle; margin-left: 0.5rem\">DATE</span>\n",
              "</mark>\n",
              " according to \n",
              "<mark class=\"entity\" style=\"background: #7aecec; padding: 0.45em 0.6em; margin: 0 0.25em; line-height: 1; border-radius: 0.35em;\">\n",
              "    Forbes Global 2000\n",
              "    <span style=\"font-size: 0.8em; font-weight: bold; line-height: 1; border-radius: 0.35em; vertical-align: middle; margin-left: 0.5rem\">ORG</span>\n",
              "</mark>\n",
              ". It is considered one of the Big Five \n",
              "<mark class=\"entity\" style=\"background: #c887fb; padding: 0.45em 0.6em; margin: 0 0.25em; line-height: 1; border-radius: 0.35em;\">\n",
              "    American\n",
              "    <span style=\"font-size: 0.8em; font-weight: bold; line-height: 1; border-radius: 0.35em; vertical-align: middle; margin-left: 0.5rem\">NORP</span>\n",
              "</mark>\n",
              " information technology companies, alongside \n",
              "<mark class=\"entity\" style=\"background: #feca74; padding: 0.45em 0.6em; margin: 0 0.25em; line-height: 1; border-radius: 0.35em;\">\n",
              "    Alphabet\n",
              "    <span style=\"font-size: 0.8em; font-weight: bold; line-height: 1; border-radius: 0.35em; vertical-align: middle; margin-left: 0.5rem\">GPE</span>\n",
              "</mark>\n",
              " (parent company of \n",
              "<mark class=\"entity\" style=\"background: #7aecec; padding: 0.45em 0.6em; margin: 0 0.25em; line-height: 1; border-radius: 0.35em;\">\n",
              "    Google\n",
              "    <span style=\"font-size: 0.8em; font-weight: bold; line-height: 1; border-radius: 0.35em; vertical-align: middle; margin-left: 0.5rem\">ORG</span>\n",
              "</mark>\n",
              "), \n",
              "<mark class=\"entity\" style=\"background: #7aecec; padding: 0.45em 0.6em; margin: 0 0.25em; line-height: 1; border-radius: 0.35em;\">\n",
              "    Amazon\n",
              "    <span style=\"font-size: 0.8em; font-weight: bold; line-height: 1; border-radius: 0.35em; vertical-align: middle; margin-left: 0.5rem\">ORG</span>\n",
              "</mark>\n",
              ", \n",
              "<mark class=\"entity\" style=\"background: #7aecec; padding: 0.45em 0.6em; margin: 0 0.25em; line-height: 1; border-radius: 0.35em;\">\n",
              "    Apple\n",
              "    <span style=\"font-size: 0.8em; font-weight: bold; line-height: 1; border-radius: 0.35em; vertical-align: middle; margin-left: 0.5rem\">ORG</span>\n",
              "</mark>\n",
              ", and \n",
              "<mark class=\"entity\" style=\"background: #7aecec; padding: 0.45em 0.6em; margin: 0 0.25em; line-height: 1; border-radius: 0.35em;\">\n",
              "    Meta\n",
              "    <span style=\"font-size: 0.8em; font-weight: bold; line-height: 1; border-radius: 0.35em; vertical-align: middle; margin-left: 0.5rem\">ORG</span>\n",
              "</mark>\n",
              " (parent company of Facebook).<br><br>\n",
              "<mark class=\"entity\" style=\"background: #7aecec; padding: 0.45em 0.6em; margin: 0 0.25em; line-height: 1; border-radius: 0.35em;\">\n",
              "    Microsoft\n",
              "    <span style=\"font-size: 0.8em; font-weight: bold; line-height: 1; border-radius: 0.35em; vertical-align: middle; margin-left: 0.5rem\">ORG</span>\n",
              "</mark>\n",
              " was founded by \n",
              "<mark class=\"entity\" style=\"background: #aa9cfc; padding: 0.45em 0.6em; margin: 0 0.25em; line-height: 1; border-radius: 0.35em;\">\n",
              "    Bill Gates\n",
              "    <span style=\"font-size: 0.8em; font-weight: bold; line-height: 1; border-radius: 0.35em; vertical-align: middle; margin-left: 0.5rem\">PERSON</span>\n",
              "</mark>\n",
              " and \n",
              "<mark class=\"entity\" style=\"background: #aa9cfc; padding: 0.45em 0.6em; margin: 0 0.25em; line-height: 1; border-radius: 0.35em;\">\n",
              "    Paul Allen\n",
              "    <span style=\"font-size: 0.8em; font-weight: bold; line-height: 1; border-radius: 0.35em; vertical-align: middle; margin-left: 0.5rem\">PERSON</span>\n",
              "</mark>\n",
              " on \n",
              "<mark class=\"entity\" style=\"background: #bfe1d9; padding: 0.45em 0.6em; margin: 0 0.25em; line-height: 1; border-radius: 0.35em;\">\n",
              "    April 4, 1975\n",
              "    <span style=\"font-size: 0.8em; font-weight: bold; line-height: 1; border-radius: 0.35em; vertical-align: middle; margin-left: 0.5rem\">DATE</span>\n",
              "</mark>\n",
              ", to develop and sell BASIC interpreters for the \n",
              "<mark class=\"entity\" style=\"background: #aa9cfc; padding: 0.45em 0.6em; margin: 0 0.25em; line-height: 1; border-radius: 0.35em;\">\n",
              "    Altair\n",
              "    <span style=\"font-size: 0.8em; font-weight: bold; line-height: 1; border-radius: 0.35em; vertical-align: middle; margin-left: 0.5rem\">PERSON</span>\n",
              "</mark>\n",
              " 8800. It rose to dominate the personal computer operating system market with \n",
              "<mark class=\"entity\" style=\"background: #7aecec; padding: 0.45em 0.6em; margin: 0 0.25em; line-height: 1; border-radius: 0.35em;\">\n",
              "    MS-DOS\n",
              "    <span style=\"font-size: 0.8em; font-weight: bold; line-height: 1; border-radius: 0.35em; vertical-align: middle; margin-left: 0.5rem\">ORG</span>\n",
              "</mark>\n",
              " in \n",
              "<mark class=\"entity\" style=\"background: #bfe1d9; padding: 0.45em 0.6em; margin: 0 0.25em; line-height: 1; border-radius: 0.35em;\">\n",
              "    the mid-1980s\n",
              "    <span style=\"font-size: 0.8em; font-weight: bold; line-height: 1; border-radius: 0.35em; vertical-align: middle; margin-left: 0.5rem\">DATE</span>\n",
              "</mark>\n",
              ", followed by \n",
              "<mark class=\"entity\" style=\"background: #7aecec; padding: 0.45em 0.6em; margin: 0 0.25em; line-height: 1; border-radius: 0.35em;\">\n",
              "    Windows\n",
              "    <span style=\"font-size: 0.8em; font-weight: bold; line-height: 1; border-radius: 0.35em; vertical-align: middle; margin-left: 0.5rem\">ORG</span>\n",
              "</mark>\n",
              ". The company's \n",
              "<mark class=\"entity\" style=\"background: #bfe1d9; padding: 0.45em 0.6em; margin: 0 0.25em; line-height: 1; border-radius: 0.35em;\">\n",
              "    1986\n",
              "    <span style=\"font-size: 0.8em; font-weight: bold; line-height: 1; border-radius: 0.35em; vertical-align: middle; margin-left: 0.5rem\">DATE</span>\n",
              "</mark>\n",
              " initial public offering (\n",
              "<mark class=\"entity\" style=\"background: #7aecec; padding: 0.45em 0.6em; margin: 0 0.25em; line-height: 1; border-radius: 0.35em;\">\n",
              "    IPO\n",
              "    <span style=\"font-size: 0.8em; font-weight: bold; line-height: 1; border-radius: 0.35em; vertical-align: middle; margin-left: 0.5rem\">ORG</span>\n",
              "</mark>\n",
              ") and subsequent rise in its share price created \n",
              "<mark class=\"entity\" style=\"background: #e4e7d2; padding: 0.45em 0.6em; margin: 0 0.25em; line-height: 1; border-radius: 0.35em;\">\n",
              "    three\n",
              "    <span style=\"font-size: 0.8em; font-weight: bold; line-height: 1; border-radius: 0.35em; vertical-align: middle; margin-left: 0.5rem\">CARDINAL</span>\n",
              "</mark>\n",
              " billionaires and \n",
              "<mark class=\"entity\" style=\"background: #e4e7d2; padding: 0.45em 0.6em; margin: 0 0.25em; line-height: 1; border-radius: 0.35em;\">\n",
              "    an estimated 12,000\n",
              "    <span style=\"font-size: 0.8em; font-weight: bold; line-height: 1; border-radius: 0.35em; vertical-align: middle; margin-left: 0.5rem\">CARDINAL</span>\n",
              "</mark>\n",
              " millionaires among \n",
              "<mark class=\"entity\" style=\"background: #7aecec; padding: 0.45em 0.6em; margin: 0 0.25em; line-height: 1; border-radius: 0.35em;\">\n",
              "    Microsoft\n",
              "    <span style=\"font-size: 0.8em; font-weight: bold; line-height: 1; border-radius: 0.35em; vertical-align: middle; margin-left: 0.5rem\">ORG</span>\n",
              "</mark>\n",
              " employees. Since \n",
              "<mark class=\"entity\" style=\"background: #bfe1d9; padding: 0.45em 0.6em; margin: 0 0.25em; line-height: 1; border-radius: 0.35em;\">\n",
              "    the 1990s\n",
              "    <span style=\"font-size: 0.8em; font-weight: bold; line-height: 1; border-radius: 0.35em; vertical-align: middle; margin-left: 0.5rem\">DATE</span>\n",
              "</mark>\n",
              ", it has increasingly diversified from the operating system market and has made several corporate acquisitions, the largest being the acquisition of \n",
              "<mark class=\"entity\" style=\"background: #aa9cfc; padding: 0.45em 0.6em; margin: 0 0.25em; line-height: 1; border-radius: 0.35em;\">\n",
              "    Activision Blizzard\n",
              "    <span style=\"font-size: 0.8em; font-weight: bold; line-height: 1; border-radius: 0.35em; vertical-align: middle; margin-left: 0.5rem\">PERSON</span>\n",
              "</mark>\n",
              " for \n",
              "<mark class=\"entity\" style=\"background: #e4e7d2; padding: 0.45em 0.6em; margin: 0 0.25em; line-height: 1; border-radius: 0.35em;\">\n",
              "    $68.7 billion\n",
              "    <span style=\"font-size: 0.8em; font-weight: bold; line-height: 1; border-radius: 0.35em; vertical-align: middle; margin-left: 0.5rem\">MONEY</span>\n",
              "</mark>\n",
              " in \n",
              "<mark class=\"entity\" style=\"background: #bfe1d9; padding: 0.45em 0.6em; margin: 0 0.25em; line-height: 1; border-radius: 0.35em;\">\n",
              "    October\n",
              "    <span style=\"font-size: 0.8em; font-weight: bold; line-height: 1; border-radius: 0.35em; vertical-align: middle; margin-left: 0.5rem\">DATE</span>\n",
              "</mark>\n",
              " 2023,[4] followed by its acquisition of \n",
              "<mark class=\"entity\" style=\"background: #feca74; padding: 0.45em 0.6em; margin: 0 0.25em; line-height: 1; border-radius: 0.35em;\">\n",
              "    LinkedIn\n",
              "    <span style=\"font-size: 0.8em; font-weight: bold; line-height: 1; border-radius: 0.35em; vertical-align: middle; margin-left: 0.5rem\">GPE</span>\n",
              "</mark>\n",
              " for \n",
              "<mark class=\"entity\" style=\"background: #e4e7d2; padding: 0.45em 0.6em; margin: 0 0.25em; line-height: 1; border-radius: 0.35em;\">\n",
              "    $26.2 billion\n",
              "    <span style=\"font-size: 0.8em; font-weight: bold; line-height: 1; border-radius: 0.35em; vertical-align: middle; margin-left: 0.5rem\">MONEY</span>\n",
              "</mark>\n",
              " in \n",
              "<mark class=\"entity\" style=\"background: #bfe1d9; padding: 0.45em 0.6em; margin: 0 0.25em; line-height: 1; border-radius: 0.35em;\">\n",
              "    December 2016,[5\n",
              "    <span style=\"font-size: 0.8em; font-weight: bold; line-height: 1; border-radius: 0.35em; vertical-align: middle; margin-left: 0.5rem\">DATE</span>\n",
              "</mark>\n",
              "] and its acquisition of \n",
              "<mark class=\"entity\" style=\"background: #7aecec; padding: 0.45em 0.6em; margin: 0 0.25em; line-height: 1; border-radius: 0.35em;\">\n",
              "    Skype Technologies\n",
              "    <span style=\"font-size: 0.8em; font-weight: bold; line-height: 1; border-radius: 0.35em; vertical-align: middle; margin-left: 0.5rem\">ORG</span>\n",
              "</mark>\n",
              " for \n",
              "<mark class=\"entity\" style=\"background: #e4e7d2; padding: 0.45em 0.6em; margin: 0 0.25em; line-height: 1; border-radius: 0.35em;\">\n",
              "    $8.5 billion\n",
              "    <span style=\"font-size: 0.8em; font-weight: bold; line-height: 1; border-radius: 0.35em; vertical-align: middle; margin-left: 0.5rem\">MONEY</span>\n",
              "</mark>\n",
              " in \n",
              "<mark class=\"entity\" style=\"background: #bfe1d9; padding: 0.45em 0.6em; margin: 0 0.25em; line-height: 1; border-radius: 0.35em;\">\n",
              "    May 2011.[6\n",
              "    <span style=\"font-size: 0.8em; font-weight: bold; line-height: 1; border-radius: 0.35em; vertical-align: middle; margin-left: 0.5rem\">DATE</span>\n",
              "</mark>\n",
              "]<br><br>As of \n",
              "<mark class=\"entity\" style=\"background: #bfe1d9; padding: 0.45em 0.6em; margin: 0 0.25em; line-height: 1; border-radius: 0.35em;\">\n",
              "    2015\n",
              "    <span style=\"font-size: 0.8em; font-weight: bold; line-height: 1; border-radius: 0.35em; vertical-align: middle; margin-left: 0.5rem\">DATE</span>\n",
              "</mark>\n",
              ", \n",
              "<mark class=\"entity\" style=\"background: #7aecec; padding: 0.45em 0.6em; margin: 0 0.25em; line-height: 1; border-radius: 0.35em;\">\n",
              "    Microsoft\n",
              "    <span style=\"font-size: 0.8em; font-weight: bold; line-height: 1; border-radius: 0.35em; vertical-align: middle; margin-left: 0.5rem\">ORG</span>\n",
              "</mark>\n",
              " is market-dominant in the \n",
              "<mark class=\"entity\" style=\"background: #7aecec; padding: 0.45em 0.6em; margin: 0 0.25em; line-height: 1; border-radius: 0.35em;\">\n",
              "    IBM\n",
              "    <span style=\"font-size: 0.8em; font-weight: bold; line-height: 1; border-radius: 0.35em; vertical-align: middle; margin-left: 0.5rem\">ORG</span>\n",
              "</mark>\n",
              " PC compatible operating system market and the office software suite market, although it has lost the majority of the overall operating system market to Android.[7] The company also produces a wide range of other consumer and enterprise software for desktops, laptops, tabs, gadgets, and servers, including Internet search (with \n",
              "<mark class=\"entity\" style=\"background: #7aecec; padding: 0.45em 0.6em; margin: 0 0.25em; line-height: 1; border-radius: 0.35em;\">\n",
              "    Bing\n",
              "    <span style=\"font-size: 0.8em; font-weight: bold; line-height: 1; border-radius: 0.35em; vertical-align: middle; margin-left: 0.5rem\">ORG</span>\n",
              "</mark>\n",
              "), the digital services market (through \n",
              "<mark class=\"entity\" style=\"background: #7aecec; padding: 0.45em 0.6em; margin: 0 0.25em; line-height: 1; border-radius: 0.35em;\">\n",
              "    MSN\n",
              "    <span style=\"font-size: 0.8em; font-weight: bold; line-height: 1; border-radius: 0.35em; vertical-align: middle; margin-left: 0.5rem\">ORG</span>\n",
              "</mark>\n",
              "), mixed reality (\n",
              "<mark class=\"entity\" style=\"background: #feca74; padding: 0.45em 0.6em; margin: 0 0.25em; line-height: 1; border-radius: 0.35em;\">\n",
              "    HoloLens\n",
              "    <span style=\"font-size: 0.8em; font-weight: bold; line-height: 1; border-radius: 0.35em; vertical-align: middle; margin-left: 0.5rem\">GPE</span>\n",
              "</mark>\n",
              "), cloud computing (Azure), and software development (\n",
              "<mark class=\"entity\" style=\"background: #aa9cfc; padding: 0.45em 0.6em; margin: 0 0.25em; line-height: 1; border-radius: 0.35em;\">\n",
              "    Visual Studio\n",
              "    <span style=\"font-size: 0.8em; font-weight: bold; line-height: 1; border-radius: 0.35em; vertical-align: middle; margin-left: 0.5rem\">PERSON</span>\n",
              "</mark>\n",
              ").<br><br>\n",
              "<mark class=\"entity\" style=\"background: #aa9cfc; padding: 0.45em 0.6em; margin: 0 0.25em; line-height: 1; border-radius: 0.35em;\">\n",
              "    Steve Ballmer\n",
              "    <span style=\"font-size: 0.8em; font-weight: bold; line-height: 1; border-radius: 0.35em; vertical-align: middle; margin-left: 0.5rem\">PERSON</span>\n",
              "</mark>\n",
              " replaced \n",
              "<mark class=\"entity\" style=\"background: #7aecec; padding: 0.45em 0.6em; margin: 0 0.25em; line-height: 1; border-radius: 0.35em;\">\n",
              "    Gates\n",
              "    <span style=\"font-size: 0.8em; font-weight: bold; line-height: 1; border-radius: 0.35em; vertical-align: middle; margin-left: 0.5rem\">ORG</span>\n",
              "</mark>\n",
              " as CEO in \n",
              "<mark class=\"entity\" style=\"background: #bfe1d9; padding: 0.45em 0.6em; margin: 0 0.25em; line-height: 1; border-radius: 0.35em;\">\n",
              "    2000\n",
              "    <span style=\"font-size: 0.8em; font-weight: bold; line-height: 1; border-radius: 0.35em; vertical-align: middle; margin-left: 0.5rem\">DATE</span>\n",
              "</mark>\n",
              " and later envisioned a &quot;devices and services&quot; strategy.[8] This unfolded with \n",
              "<mark class=\"entity\" style=\"background: #7aecec; padding: 0.45em 0.6em; margin: 0 0.25em; line-height: 1; border-radius: 0.35em;\">\n",
              "    Microsoft\n",
              "    <span style=\"font-size: 0.8em; font-weight: bold; line-height: 1; border-radius: 0.35em; vertical-align: middle; margin-left: 0.5rem\">ORG</span>\n",
              "</mark>\n",
              " acquiring \n",
              "<mark class=\"entity\" style=\"background: #7aecec; padding: 0.45em 0.6em; margin: 0 0.25em; line-height: 1; border-radius: 0.35em;\">\n",
              "    Danger Inc.\n",
              "    <span style=\"font-size: 0.8em; font-weight: bold; line-height: 1; border-radius: 0.35em; vertical-align: middle; margin-left: 0.5rem\">ORG</span>\n",
              "</mark>\n",
              " in \n",
              "<mark class=\"entity\" style=\"background: #e4e7d2; padding: 0.45em 0.6em; margin: 0 0.25em; line-height: 1; border-radius: 0.35em;\">\n",
              "    2008,[9\n",
              "    <span style=\"font-size: 0.8em; font-weight: bold; line-height: 1; border-radius: 0.35em; vertical-align: middle; margin-left: 0.5rem\">CARDINAL</span>\n",
              "</mark>\n",
              "] entering the personal computer production market for the \n",
              "<mark class=\"entity\" style=\"background: #e4e7d2; padding: 0.45em 0.6em; margin: 0 0.25em; line-height: 1; border-radius: 0.35em;\">\n",
              "    first\n",
              "    <span style=\"font-size: 0.8em; font-weight: bold; line-height: 1; border-radius: 0.35em; vertical-align: middle; margin-left: 0.5rem\">ORDINAL</span>\n",
              "</mark>\n",
              " time in \n",
              "<mark class=\"entity\" style=\"background: #bfe1d9; padding: 0.45em 0.6em; margin: 0 0.25em; line-height: 1; border-radius: 0.35em;\">\n",
              "    June 2012\n",
              "    <span style=\"font-size: 0.8em; font-weight: bold; line-height: 1; border-radius: 0.35em; vertical-align: middle; margin-left: 0.5rem\">DATE</span>\n",
              "</mark>\n",
              " with the launch of the Microsoft Surface line of tablet computers, and later forming \n",
              "<mark class=\"entity\" style=\"background: #7aecec; padding: 0.45em 0.6em; margin: 0 0.25em; line-height: 1; border-radius: 0.35em;\">\n",
              "    Microsoft Mobile\n",
              "    <span style=\"font-size: 0.8em; font-weight: bold; line-height: 1; border-radius: 0.35em; vertical-align: middle; margin-left: 0.5rem\">ORG</span>\n",
              "</mark>\n",
              " through the acquisition of \n",
              "<mark class=\"entity\" style=\"background: #7aecec; padding: 0.45em 0.6em; margin: 0 0.25em; line-height: 1; border-radius: 0.35em;\">\n",
              "    Nokia\n",
              "    <span style=\"font-size: 0.8em; font-weight: bold; line-height: 1; border-radius: 0.35em; vertical-align: middle; margin-left: 0.5rem\">ORG</span>\n",
              "</mark>\n",
              "'s devices and services division. Since \n",
              "<mark class=\"entity\" style=\"background: #aa9cfc; padding: 0.45em 0.6em; margin: 0 0.25em; line-height: 1; border-radius: 0.35em;\">\n",
              "    Satya Nadella\n",
              "    <span style=\"font-size: 0.8em; font-weight: bold; line-height: 1; border-radius: 0.35em; vertical-align: middle; margin-left: 0.5rem\">PERSON</span>\n",
              "</mark>\n",
              " took over as CEO in \n",
              "<mark class=\"entity\" style=\"background: #bfe1d9; padding: 0.45em 0.6em; margin: 0 0.25em; line-height: 1; border-radius: 0.35em;\">\n",
              "    2014\n",
              "    <span style=\"font-size: 0.8em; font-weight: bold; line-height: 1; border-radius: 0.35em; vertical-align: middle; margin-left: 0.5rem\">DATE</span>\n",
              "</mark>\n",
              ", the company has scaled back on hardware and instead focused on cloud computing, a move that helped the company's shares reach their highest value since \n",
              "<mark class=\"entity\" style=\"background: #bfe1d9; padding: 0.45em 0.6em; margin: 0 0.25em; line-height: 1; border-radius: 0.35em;\">\n",
              "    December 1999.[10][11\n",
              "    <span style=\"font-size: 0.8em; font-weight: bold; line-height: 1; border-radius: 0.35em; vertical-align: middle; margin-left: 0.5rem\">DATE</span>\n",
              "</mark>\n",
              "] Under \n",
              "<mark class=\"entity\" style=\"background: #aa9cfc; padding: 0.45em 0.6em; margin: 0 0.25em; line-height: 1; border-radius: 0.35em;\">\n",
              "    Nadella\n",
              "    <span style=\"font-size: 0.8em; font-weight: bold; line-height: 1; border-radius: 0.35em; vertical-align: middle; margin-left: 0.5rem\">PERSON</span>\n",
              "</mark>\n",
              "'s direction, the company has also heavily expanded its gaming business to support the \n",
              "<mark class=\"entity\" style=\"background: #bfeeb7; padding: 0.45em 0.6em; margin: 0 0.25em; line-height: 1; border-radius: 0.35em;\">\n",
              "    Xbox\n",
              "    <span style=\"font-size: 0.8em; font-weight: bold; line-height: 1; border-radius: 0.35em; vertical-align: middle; margin-left: 0.5rem\">PRODUCT</span>\n",
              "</mark>\n",
              " brand, establishing the \n",
              "<mark class=\"entity\" style=\"background: #7aecec; padding: 0.45em 0.6em; margin: 0 0.25em; line-height: 1; border-radius: 0.35em;\">\n",
              "    Microsoft\n",
              "    <span style=\"font-size: 0.8em; font-weight: bold; line-height: 1; border-radius: 0.35em; vertical-align: middle; margin-left: 0.5rem\">ORG</span>\n",
              "</mark>\n",
              " Gaming division in \n",
              "<mark class=\"entity\" style=\"background: #bfe1d9; padding: 0.45em 0.6em; margin: 0 0.25em; line-height: 1; border-radius: 0.35em;\">\n",
              "    2022\n",
              "    <span style=\"font-size: 0.8em; font-weight: bold; line-height: 1; border-radius: 0.35em; vertical-align: middle; margin-left: 0.5rem\">DATE</span>\n",
              "</mark>\n",
              ", dedicated to operating \n",
              "<mark class=\"entity\" style=\"background: #bfeeb7; padding: 0.45em 0.6em; margin: 0 0.25em; line-height: 1; border-radius: 0.35em;\">\n",
              "    Xbox\n",
              "    <span style=\"font-size: 0.8em; font-weight: bold; line-height: 1; border-radius: 0.35em; vertical-align: middle; margin-left: 0.5rem\">PRODUCT</span>\n",
              "</mark>\n",
              " in addition to its \n",
              "<mark class=\"entity\" style=\"background: #e4e7d2; padding: 0.45em 0.6em; margin: 0 0.25em; line-height: 1; border-radius: 0.35em;\">\n",
              "    three\n",
              "    <span style=\"font-size: 0.8em; font-weight: bold; line-height: 1; border-radius: 0.35em; vertical-align: middle; margin-left: 0.5rem\">CARDINAL</span>\n",
              "</mark>\n",
              " subsidiaries (publishers). \n",
              "<mark class=\"entity\" style=\"background: #7aecec; padding: 0.45em 0.6em; margin: 0 0.25em; line-height: 1; border-radius: 0.35em;\">\n",
              "    Microsoft\n",
              "    <span style=\"font-size: 0.8em; font-weight: bold; line-height: 1; border-radius: 0.35em; vertical-align: middle; margin-left: 0.5rem\">ORG</span>\n",
              "</mark>\n",
              " Gaming is the \n",
              "<mark class=\"entity\" style=\"background: #e4e7d2; padding: 0.45em 0.6em; margin: 0 0.25em; line-height: 1; border-radius: 0.35em;\">\n",
              "    third\n",
              "    <span style=\"font-size: 0.8em; font-weight: bold; line-height: 1; border-radius: 0.35em; vertical-align: middle; margin-left: 0.5rem\">ORDINAL</span>\n",
              "</mark>\n",
              "-largest gaming company in the world by revenue as of \n",
              "<mark class=\"entity\" style=\"background: #e4e7d2; padding: 0.45em 0.6em; margin: 0 0.25em; line-height: 1; border-radius: 0.35em;\">\n",
              "    2023.[12\n",
              "    <span style=\"font-size: 0.8em; font-weight: bold; line-height: 1; border-radius: 0.35em; vertical-align: middle; margin-left: 0.5rem\">CARDINAL</span>\n",
              "</mark>\n",
              "]<br><br>Earlier dethroned by \n",
              "<mark class=\"entity\" style=\"background: #7aecec; padding: 0.45em 0.6em; margin: 0 0.25em; line-height: 1; border-radius: 0.35em;\">\n",
              "    Apple\n",
              "    <span style=\"font-size: 0.8em; font-weight: bold; line-height: 1; border-radius: 0.35em; vertical-align: middle; margin-left: 0.5rem\">ORG</span>\n",
              "</mark>\n",
              " in \n",
              "<mark class=\"entity\" style=\"background: #bfe1d9; padding: 0.45em 0.6em; margin: 0 0.25em; line-height: 1; border-radius: 0.35em;\">\n",
              "    2010\n",
              "    <span style=\"font-size: 0.8em; font-weight: bold; line-height: 1; border-radius: 0.35em; vertical-align: middle; margin-left: 0.5rem\">DATE</span>\n",
              "</mark>\n",
              ", and in \n",
              "<mark class=\"entity\" style=\"background: #bfe1d9; padding: 0.45em 0.6em; margin: 0 0.25em; line-height: 1; border-radius: 0.35em;\">\n",
              "    2018\n",
              "    <span style=\"font-size: 0.8em; font-weight: bold; line-height: 1; border-radius: 0.35em; vertical-align: middle; margin-left: 0.5rem\">DATE</span>\n",
              "</mark>\n",
              ", \n",
              "<mark class=\"entity\" style=\"background: #7aecec; padding: 0.45em 0.6em; margin: 0 0.25em; line-height: 1; border-radius: 0.35em;\">\n",
              "    Microsoft\n",
              "    <span style=\"font-size: 0.8em; font-weight: bold; line-height: 1; border-radius: 0.35em; vertical-align: middle; margin-left: 0.5rem\">ORG</span>\n",
              "</mark>\n",
              " reclaimed its position as the most valuable publicly traded company in the world.[13] In \n",
              "<mark class=\"entity\" style=\"background: #bfe1d9; padding: 0.45em 0.6em; margin: 0 0.25em; line-height: 1; border-radius: 0.35em;\">\n",
              "    April 2019\n",
              "    <span style=\"font-size: 0.8em; font-weight: bold; line-height: 1; border-radius: 0.35em; vertical-align: middle; margin-left: 0.5rem\">DATE</span>\n",
              "</mark>\n",
              ", \n",
              "<mark class=\"entity\" style=\"background: #7aecec; padding: 0.45em 0.6em; margin: 0 0.25em; line-height: 1; border-radius: 0.35em;\">\n",
              "    Microsoft\n",
              "    <span style=\"font-size: 0.8em; font-weight: bold; line-height: 1; border-radius: 0.35em; vertical-align: middle; margin-left: 0.5rem\">ORG</span>\n",
              "</mark>\n",
              " reached a \n",
              "<mark class=\"entity\" style=\"background: #e4e7d2; padding: 0.45em 0.6em; margin: 0 0.25em; line-height: 1; border-radius: 0.35em;\">\n",
              "    trillion-dollar\n",
              "    <span style=\"font-size: 0.8em; font-weight: bold; line-height: 1; border-radius: 0.35em; vertical-align: middle; margin-left: 0.5rem\">MONEY</span>\n",
              "</mark>\n",
              " market cap, becoming the \n",
              "<mark class=\"entity\" style=\"background: #e4e7d2; padding: 0.45em 0.6em; margin: 0 0.25em; line-height: 1; border-radius: 0.35em;\">\n",
              "    third\n",
              "    <span style=\"font-size: 0.8em; font-weight: bold; line-height: 1; border-radius: 0.35em; vertical-align: middle; margin-left: 0.5rem\">ORDINAL</span>\n",
              "</mark>\n",
              " \n",
              "<mark class=\"entity\" style=\"background: #feca74; padding: 0.45em 0.6em; margin: 0 0.25em; line-height: 1; border-radius: 0.35em;\">\n",
              "    U.S.\n",
              "    <span style=\"font-size: 0.8em; font-weight: bold; line-height: 1; border-radius: 0.35em; vertical-align: middle; margin-left: 0.5rem\">GPE</span>\n",
              "</mark>\n",
              " public company to be valued at \n",
              "<mark class=\"entity\" style=\"background: #e4e7d2; padding: 0.45em 0.6em; margin: 0 0.25em; line-height: 1; border-radius: 0.35em;\">\n",
              "    over $1 trillion\n",
              "    <span style=\"font-size: 0.8em; font-weight: bold; line-height: 1; border-radius: 0.35em; vertical-align: middle; margin-left: 0.5rem\">MONEY</span>\n",
              "</mark>\n",
              " after \n",
              "<mark class=\"entity\" style=\"background: #7aecec; padding: 0.45em 0.6em; margin: 0 0.25em; line-height: 1; border-radius: 0.35em;\">\n",
              "    Apple\n",
              "    <span style=\"font-size: 0.8em; font-weight: bold; line-height: 1; border-radius: 0.35em; vertical-align: middle; margin-left: 0.5rem\">ORG</span>\n",
              "</mark>\n",
              " and \n",
              "<mark class=\"entity\" style=\"background: #7aecec; padding: 0.45em 0.6em; margin: 0 0.25em; line-height: 1; border-radius: 0.35em;\">\n",
              "    Amazon\n",
              "    <span style=\"font-size: 0.8em; font-weight: bold; line-height: 1; border-radius: 0.35em; vertical-align: middle; margin-left: 0.5rem\">ORG</span>\n",
              "</mark>\n",
              ", respectively. As of \n",
              "<mark class=\"entity\" style=\"background: #bfe1d9; padding: 0.45em 0.6em; margin: 0 0.25em; line-height: 1; border-radius: 0.35em;\">\n",
              "    2023\n",
              "    <span style=\"font-size: 0.8em; font-weight: bold; line-height: 1; border-radius: 0.35em; vertical-align: middle; margin-left: 0.5rem\">DATE</span>\n",
              "</mark>\n",
              ", \n",
              "<mark class=\"entity\" style=\"background: #7aecec; padding: 0.45em 0.6em; margin: 0 0.25em; line-height: 1; border-radius: 0.35em;\">\n",
              "    Microsoft\n",
              "    <span style=\"font-size: 0.8em; font-weight: bold; line-height: 1; border-radius: 0.35em; vertical-align: middle; margin-left: 0.5rem\">ORG</span>\n",
              "</mark>\n",
              " has the \n",
              "<mark class=\"entity\" style=\"background: #e4e7d2; padding: 0.45em 0.6em; margin: 0 0.25em; line-height: 1; border-radius: 0.35em;\">\n",
              "    third\n",
              "    <span style=\"font-size: 0.8em; font-weight: bold; line-height: 1; border-radius: 0.35em; vertical-align: middle; margin-left: 0.5rem\">ORDINAL</span>\n",
              "</mark>\n",
              "-highest global brand valuation.<br><br>\n",
              "<mark class=\"entity\" style=\"background: #7aecec; padding: 0.45em 0.6em; margin: 0 0.25em; line-height: 1; border-radius: 0.35em;\">\n",
              "    Microsoft\n",
              "    <span style=\"font-size: 0.8em; font-weight: bold; line-height: 1; border-radius: 0.35em; vertical-align: middle; margin-left: 0.5rem\">ORG</span>\n",
              "</mark>\n",
              " has been criticized for its monopolistic practices and the company's software has been criticized for problems with ease of use, robustness, and security. </div></span>"
            ]
          },
          "metadata": {}
        }
      ]
    },
    {
      "cell_type": "markdown",
      "source": [
        "# **Word 2 Vector Practical Implementation**"
      ],
      "metadata": {
        "id": "rlJXWHVehl22"
      }
    },
    {
      "cell_type": "code",
      "source": [
        "!pip install gensim"
      ],
      "metadata": {
        "colab": {
          "base_uri": "https://localhost:8080/"
        },
        "id": "wFKgtMJ01N7G",
        "outputId": "e728faaa-7ee0-4705-fccf-2493c8184b3d"
      },
      "execution_count": 520,
      "outputs": [
        {
          "output_type": "stream",
          "name": "stdout",
          "text": [
            "Requirement already satisfied: gensim in /usr/local/lib/python3.10/dist-packages (4.3.2)\n",
            "Requirement already satisfied: numpy>=1.18.5 in /usr/local/lib/python3.10/dist-packages (from gensim) (1.25.2)\n",
            "Requirement already satisfied: scipy>=1.7.0 in /usr/local/lib/python3.10/dist-packages (from gensim) (1.11.4)\n",
            "Requirement already satisfied: smart-open>=1.8.1 in /usr/local/lib/python3.10/dist-packages (from gensim) (6.4.0)\n"
          ]
        }
      ]
    },
    {
      "cell_type": "code",
      "source": [
        "import gensim"
      ],
      "metadata": {
        "id": "Fq86DssD4Z1l"
      },
      "execution_count": 521,
      "outputs": []
    },
    {
      "cell_type": "code",
      "source": [
        "from gensim.models import Word2Vec,KeyedVectors"
      ],
      "metadata": {
        "id": "MbiBbu0yh3XE"
      },
      "execution_count": 522,
      "outputs": []
    },
    {
      "cell_type": "code",
      "source": [
        "import gensim.downloader as api\n",
        "\n",
        "wv=api.load(\"word2vec-google-news-300\")\n",
        "\n",
        "vc_king=wv[\"king\"]"
      ],
      "metadata": {
        "colab": {
          "base_uri": "https://localhost:8080/"
        },
        "id": "02V84PKciDW_",
        "outputId": "eec5a48c-1dc1-4f35-9630-b184dceed4f5"
      },
      "execution_count": 523,
      "outputs": [
        {
          "output_type": "stream",
          "name": "stdout",
          "text": [
            "[==================================================] 100.0% 1662.8/1662.8MB downloaded\n"
          ]
        }
      ]
    },
    {
      "cell_type": "code",
      "source": [
        "vc_king"
      ],
      "metadata": {
        "colab": {
          "base_uri": "https://localhost:8080/"
        },
        "id": "hioGh_6wisGF",
        "outputId": "0aee359d-55e8-4c72-eed6-5c176468faf2"
      },
      "execution_count": 524,
      "outputs": [
        {
          "output_type": "execute_result",
          "data": {
            "text/plain": [
              "array([ 1.25976562e-01,  2.97851562e-02,  8.60595703e-03,  1.39648438e-01,\n",
              "       -2.56347656e-02, -3.61328125e-02,  1.11816406e-01, -1.98242188e-01,\n",
              "        5.12695312e-02,  3.63281250e-01, -2.42187500e-01, -3.02734375e-01,\n",
              "       -1.77734375e-01, -2.49023438e-02, -1.67968750e-01, -1.69921875e-01,\n",
              "        3.46679688e-02,  5.21850586e-03,  4.63867188e-02,  1.28906250e-01,\n",
              "        1.36718750e-01,  1.12792969e-01,  5.95703125e-02,  1.36718750e-01,\n",
              "        1.01074219e-01, -1.76757812e-01, -2.51953125e-01,  5.98144531e-02,\n",
              "        3.41796875e-01, -3.11279297e-02,  1.04492188e-01,  6.17675781e-02,\n",
              "        1.24511719e-01,  4.00390625e-01, -3.22265625e-01,  8.39843750e-02,\n",
              "        3.90625000e-02,  5.85937500e-03,  7.03125000e-02,  1.72851562e-01,\n",
              "        1.38671875e-01, -2.31445312e-01,  2.83203125e-01,  1.42578125e-01,\n",
              "        3.41796875e-01, -2.39257812e-02, -1.09863281e-01,  3.32031250e-02,\n",
              "       -5.46875000e-02,  1.53198242e-02, -1.62109375e-01,  1.58203125e-01,\n",
              "       -2.59765625e-01,  2.01416016e-02, -1.63085938e-01,  1.35803223e-03,\n",
              "       -1.44531250e-01, -5.68847656e-02,  4.29687500e-02, -2.46582031e-02,\n",
              "        1.85546875e-01,  4.47265625e-01,  9.58251953e-03,  1.31835938e-01,\n",
              "        9.86328125e-02, -1.85546875e-01, -1.00097656e-01, -1.33789062e-01,\n",
              "       -1.25000000e-01,  2.83203125e-01,  1.23046875e-01,  5.32226562e-02,\n",
              "       -1.77734375e-01,  8.59375000e-02, -2.18505859e-02,  2.05078125e-02,\n",
              "       -1.39648438e-01,  2.51464844e-02,  1.38671875e-01, -1.05468750e-01,\n",
              "        1.38671875e-01,  8.88671875e-02, -7.51953125e-02, -2.13623047e-02,\n",
              "        1.72851562e-01,  4.63867188e-02, -2.65625000e-01,  8.91113281e-03,\n",
              "        1.49414062e-01,  3.78417969e-02,  2.38281250e-01, -1.24511719e-01,\n",
              "       -2.17773438e-01, -1.81640625e-01,  2.97851562e-02,  5.71289062e-02,\n",
              "       -2.89306641e-02,  1.24511719e-02,  9.66796875e-02, -2.31445312e-01,\n",
              "        5.81054688e-02,  6.68945312e-02,  7.08007812e-02, -3.08593750e-01,\n",
              "       -2.14843750e-01,  1.45507812e-01, -4.27734375e-01, -9.39941406e-03,\n",
              "        1.54296875e-01, -7.66601562e-02,  2.89062500e-01,  2.77343750e-01,\n",
              "       -4.86373901e-04, -1.36718750e-01,  3.24218750e-01, -2.46093750e-01,\n",
              "       -3.03649902e-03, -2.11914062e-01,  1.25000000e-01,  2.69531250e-01,\n",
              "        2.04101562e-01,  8.25195312e-02, -2.01171875e-01, -1.60156250e-01,\n",
              "       -3.78417969e-02, -1.20117188e-01,  1.15234375e-01, -4.10156250e-02,\n",
              "       -3.95507812e-02, -8.98437500e-02,  6.34765625e-03,  2.03125000e-01,\n",
              "        1.86523438e-01,  2.73437500e-01,  6.29882812e-02,  1.41601562e-01,\n",
              "       -9.81445312e-02,  1.38671875e-01,  1.82617188e-01,  1.73828125e-01,\n",
              "        1.73828125e-01, -2.37304688e-01,  1.78710938e-01,  6.34765625e-02,\n",
              "        2.36328125e-01, -2.08984375e-01,  8.74023438e-02, -1.66015625e-01,\n",
              "       -7.91015625e-02,  2.43164062e-01, -8.88671875e-02,  1.26953125e-01,\n",
              "       -2.16796875e-01, -1.73828125e-01, -3.59375000e-01, -8.25195312e-02,\n",
              "       -6.49414062e-02,  5.07812500e-02,  1.35742188e-01, -7.47070312e-02,\n",
              "       -1.64062500e-01,  1.15356445e-02,  4.45312500e-01, -2.15820312e-01,\n",
              "       -1.11328125e-01, -1.92382812e-01,  1.70898438e-01, -1.25000000e-01,\n",
              "        2.65502930e-03,  1.92382812e-01, -1.74804688e-01,  1.39648438e-01,\n",
              "        2.92968750e-01,  1.13281250e-01,  5.95703125e-02, -6.39648438e-02,\n",
              "        9.96093750e-02, -2.72216797e-02,  1.96533203e-02,  4.27246094e-02,\n",
              "       -2.46093750e-01,  6.39648438e-02, -2.25585938e-01, -1.68945312e-01,\n",
              "        2.89916992e-03,  8.20312500e-02,  3.41796875e-01,  4.32128906e-02,\n",
              "        1.32812500e-01,  1.42578125e-01,  7.61718750e-02,  5.98144531e-02,\n",
              "       -1.19140625e-01,  2.74658203e-03, -6.29882812e-02, -2.72216797e-02,\n",
              "       -4.82177734e-03, -8.20312500e-02, -2.49023438e-02, -4.00390625e-01,\n",
              "       -1.06933594e-01,  4.24804688e-02,  7.76367188e-02, -1.16699219e-01,\n",
              "        7.37304688e-02, -9.22851562e-02,  1.07910156e-01,  1.58203125e-01,\n",
              "        4.24804688e-02,  1.26953125e-01,  3.61328125e-02,  2.67578125e-01,\n",
              "       -1.01074219e-01, -3.02734375e-01, -5.76171875e-02,  5.05371094e-02,\n",
              "        5.26428223e-04, -2.07031250e-01, -1.38671875e-01, -8.97216797e-03,\n",
              "       -2.78320312e-02, -1.41601562e-01,  2.07031250e-01, -1.58203125e-01,\n",
              "        1.27929688e-01,  1.49414062e-01, -2.24609375e-02, -8.44726562e-02,\n",
              "        1.22558594e-01,  2.15820312e-01, -2.13867188e-01, -3.12500000e-01,\n",
              "       -3.73046875e-01,  4.08935547e-03,  1.07421875e-01,  1.06933594e-01,\n",
              "        7.32421875e-02,  8.97216797e-03, -3.88183594e-02, -1.29882812e-01,\n",
              "        1.49414062e-01, -2.14843750e-01, -1.83868408e-03,  9.91210938e-02,\n",
              "        1.57226562e-01, -1.14257812e-01, -2.05078125e-01,  9.91210938e-02,\n",
              "        3.69140625e-01, -1.97265625e-01,  3.54003906e-02,  1.09375000e-01,\n",
              "        1.31835938e-01,  1.66992188e-01,  2.35351562e-01,  1.04980469e-01,\n",
              "       -4.96093750e-01, -1.64062500e-01, -1.56250000e-01, -5.22460938e-02,\n",
              "        1.03027344e-01,  2.43164062e-01, -1.88476562e-01,  5.07812500e-02,\n",
              "       -9.37500000e-02, -6.68945312e-02,  2.27050781e-02,  7.61718750e-02,\n",
              "        2.89062500e-01,  3.10546875e-01, -5.37109375e-02,  2.28515625e-01,\n",
              "        2.51464844e-02,  6.78710938e-02, -1.21093750e-01, -2.15820312e-01,\n",
              "       -2.73437500e-01, -3.07617188e-02, -3.37890625e-01,  1.53320312e-01,\n",
              "        2.33398438e-01, -2.08007812e-01,  3.73046875e-01,  8.20312500e-02,\n",
              "        2.51953125e-01, -7.61718750e-02, -4.66308594e-02, -2.23388672e-02,\n",
              "        2.99072266e-02, -5.93261719e-02, -4.66918945e-03, -2.44140625e-01,\n",
              "       -2.09960938e-01, -2.87109375e-01, -4.54101562e-02, -1.77734375e-01,\n",
              "       -2.79296875e-01, -8.59375000e-02,  9.13085938e-02,  2.51953125e-01],\n",
              "      dtype=float32)"
            ]
          },
          "metadata": {},
          "execution_count": 524
        }
      ]
    },
    {
      "cell_type": "code",
      "source": [
        "vc_king.shape"
      ],
      "metadata": {
        "colab": {
          "base_uri": "https://localhost:8080/"
        },
        "id": "q50xqVeujBOY",
        "outputId": "1ecf9333-23d4-43eb-a88d-27dd0eece68c"
      },
      "execution_count": 526,
      "outputs": [
        {
          "output_type": "execute_result",
          "data": {
            "text/plain": [
              "(300,)"
            ]
          },
          "metadata": {},
          "execution_count": 526
        }
      ]
    },
    {
      "cell_type": "code",
      "source": [
        "wv[\"cricket\"]"
      ],
      "metadata": {
        "colab": {
          "base_uri": "https://localhost:8080/"
        },
        "id": "wpxPrtf-jBLB",
        "outputId": "c06a8480-7d32-4947-dec2-428625b64e35"
      },
      "execution_count": 527,
      "outputs": [
        {
          "output_type": "execute_result",
          "data": {
            "text/plain": [
              "array([-3.67187500e-01, -1.21582031e-01,  2.85156250e-01,  8.15429688e-02,\n",
              "        3.19824219e-02, -3.19824219e-02,  1.34765625e-01, -2.73437500e-01,\n",
              "        9.46044922e-03, -1.07421875e-01,  2.48046875e-01, -6.05468750e-01,\n",
              "        5.02929688e-02,  2.98828125e-01,  9.57031250e-02,  1.39648438e-01,\n",
              "       -5.41992188e-02,  2.91015625e-01,  2.85156250e-01,  1.51367188e-01,\n",
              "       -2.89062500e-01, -3.46679688e-02,  1.81884766e-02, -3.92578125e-01,\n",
              "        2.46093750e-01,  2.51953125e-01, -9.86328125e-02,  3.22265625e-01,\n",
              "        4.49218750e-01, -1.36718750e-01, -2.34375000e-01,  4.12597656e-02,\n",
              "       -2.15820312e-01,  1.69921875e-01,  2.56347656e-02,  1.50146484e-02,\n",
              "       -3.75976562e-02,  6.95800781e-03,  4.00390625e-01,  2.09960938e-01,\n",
              "        1.17675781e-01, -4.19921875e-02,  2.34375000e-01,  2.03125000e-01,\n",
              "       -1.86523438e-01, -2.46093750e-01,  3.12500000e-01, -2.59765625e-01,\n",
              "       -1.06933594e-01,  1.04003906e-01, -1.79687500e-01,  5.71289062e-02,\n",
              "       -7.41577148e-03, -5.59082031e-02,  7.61718750e-02, -4.14062500e-01,\n",
              "       -3.65234375e-01, -3.35937500e-01, -1.54296875e-01, -2.39257812e-01,\n",
              "       -3.73046875e-01,  2.27355957e-03, -3.51562500e-01,  8.64257812e-02,\n",
              "        1.26953125e-01,  2.21679688e-01, -9.86328125e-02,  1.08886719e-01,\n",
              "        3.65234375e-01, -5.66406250e-02,  5.66406250e-02, -1.09375000e-01,\n",
              "       -1.66992188e-01, -4.54101562e-02, -2.00195312e-01, -1.22558594e-01,\n",
              "        1.31835938e-01, -1.31835938e-01,  1.03027344e-01, -3.41796875e-01,\n",
              "       -1.57226562e-01,  2.04101562e-01,  4.39453125e-02,  2.44140625e-01,\n",
              "       -3.19824219e-02,  3.20312500e-01, -4.41894531e-02,  1.08398438e-01,\n",
              "       -4.98046875e-02, -9.52148438e-03,  2.46093750e-01, -5.59082031e-02,\n",
              "        4.07714844e-02, -1.78222656e-02, -2.95410156e-02,  1.65039062e-01,\n",
              "        5.03906250e-01, -2.81250000e-01,  9.81445312e-02,  1.80664062e-02,\n",
              "       -1.83593750e-01,  2.53906250e-01,  2.25585938e-01,  1.63574219e-02,\n",
              "        1.81640625e-01,  1.38671875e-01,  3.33984375e-01,  1.39648438e-01,\n",
              "        1.45874023e-02, -2.89306641e-02, -8.39843750e-02,  1.50390625e-01,\n",
              "        1.67968750e-01,  2.28515625e-01,  3.59375000e-01,  1.22558594e-01,\n",
              "       -3.28125000e-01, -1.56250000e-01,  2.77343750e-01,  1.77001953e-02,\n",
              "       -1.46484375e-01, -4.51660156e-03, -4.46777344e-02,  1.75781250e-01,\n",
              "       -3.75000000e-01,  1.16699219e-01, -1.39648438e-01,  2.55859375e-01,\n",
              "       -1.96289062e-01, -2.57568359e-02, -5.41992188e-02, -2.51464844e-02,\n",
              "       -1.93359375e-01, -3.17382812e-02, -8.74023438e-02, -1.32812500e-01,\n",
              "       -2.12402344e-02,  4.33593750e-01, -5.20019531e-02,  3.46679688e-02,\n",
              "        8.00781250e-02,  3.41796875e-02,  1.99218750e-01, -2.39257812e-02,\n",
              "       -2.37304688e-01,  1.93359375e-01,  7.32421875e-02, -2.87109375e-01,\n",
              "        1.25000000e-01,  8.44726562e-02,  1.30859375e-01, -2.19726562e-01,\n",
              "       -1.61132812e-01, -2.63671875e-01, -5.46875000e-01, -2.96875000e-01,\n",
              "        3.44238281e-02, -2.87109375e-01, -1.93359375e-01, -1.61132812e-01,\n",
              "       -3.84765625e-01, -2.14843750e-01, -6.22558594e-03, -1.27929688e-01,\n",
              "       -1.00097656e-01, -6.21093750e-01,  3.78906250e-01, -4.58984375e-01,\n",
              "        1.44531250e-01, -9.13085938e-02, -3.08593750e-01,  2.23632812e-01,\n",
              "        7.86132812e-02, -2.16796875e-01,  8.78906250e-02, -1.66992188e-01,\n",
              "        1.14746094e-02, -2.53906250e-01, -6.25000000e-02,  6.04248047e-03,\n",
              "        1.56250000e-01,  4.37500000e-01, -2.23632812e-01, -2.32421875e-01,\n",
              "        2.75390625e-01,  2.39257812e-01,  4.49218750e-02, -7.51953125e-02,\n",
              "        5.74218750e-01, -2.61230469e-02, -1.21582031e-01,  2.44140625e-01,\n",
              "       -3.37890625e-01,  8.59375000e-02, -7.71484375e-02,  4.85839844e-02,\n",
              "        1.43554688e-01,  4.25781250e-01, -4.29687500e-02, -1.08398438e-01,\n",
              "        1.19628906e-01, -1.91406250e-01, -2.12890625e-01, -2.87109375e-01,\n",
              "       -1.14746094e-01, -2.04101562e-01, -2.06298828e-02, -2.53906250e-01,\n",
              "        8.25195312e-02, -3.97949219e-02, -1.57226562e-01,  1.34765625e-01,\n",
              "        2.08007812e-01, -1.78710938e-01, -2.00195312e-02, -8.34960938e-02,\n",
              "       -1.20605469e-01,  4.29687500e-02, -1.94335938e-01, -1.32812500e-01,\n",
              "       -2.17285156e-02, -2.35351562e-01, -3.63281250e-01,  1.51367188e-01,\n",
              "        9.32617188e-02,  1.63085938e-01,  1.02050781e-01, -4.27734375e-01,\n",
              "        2.83203125e-01,  2.74658203e-04, -3.20312500e-01,  1.68457031e-02,\n",
              "        4.06250000e-01, -5.24902344e-02,  7.91015625e-02, -1.41601562e-01,\n",
              "        5.27343750e-01, -1.26953125e-01,  4.74609375e-01, -6.64062500e-02,\n",
              "        3.41796875e-01, -1.78710938e-01,  3.69140625e-01, -2.05078125e-01,\n",
              "        5.82885742e-03, -1.84570312e-01, -8.88671875e-02, -1.81640625e-01,\n",
              "       -4.80957031e-02,  4.39453125e-01,  2.12890625e-01, -3.07617188e-02,\n",
              "        9.32617188e-02,  2.40234375e-01,  2.39257812e-01,  2.51953125e-01,\n",
              "       -1.98974609e-02,  1.24511719e-01, -4.73632812e-02, -2.13623047e-02,\n",
              "        3.12500000e-02,  3.05175781e-02,  2.79296875e-01,  9.08203125e-02,\n",
              "       -2.02148438e-01, -2.19726562e-02, -2.63671875e-01,  8.78906250e-02,\n",
              "       -1.07421875e-01, -2.49023438e-01, -1.22070312e-02,  1.73828125e-01,\n",
              "       -9.91210938e-02,  7.27539062e-02,  2.59765625e-01, -4.60937500e-01,\n",
              "        3.59375000e-01, -2.25585938e-01,  1.87988281e-02, -2.19726562e-01,\n",
              "       -2.08984375e-01, -1.51367188e-01,  8.64257812e-02,  1.11694336e-02,\n",
              "        6.93359375e-02, -2.99072266e-02,  1.43554688e-01,  1.89453125e-01,\n",
              "       -1.32812500e-01,  4.72656250e-01, -1.40625000e-01, -2.52685547e-02,\n",
              "        1.91406250e-01, -2.63671875e-01, -1.39648438e-01,  1.09375000e-01,\n",
              "        1.97753906e-02,  2.49023438e-01, -1.42578125e-01,  4.15039062e-02],\n",
              "      dtype=float32)"
            ]
          },
          "metadata": {},
          "execution_count": 527
        }
      ]
    },
    {
      "cell_type": "code",
      "source": [
        "wv.most_similar(\"cricket\")"
      ],
      "metadata": {
        "colab": {
          "base_uri": "https://localhost:8080/"
        },
        "id": "0370d4PZjBIN",
        "outputId": "6410b12f-2270-47c2-c223-063747fb668e"
      },
      "execution_count": 528,
      "outputs": [
        {
          "output_type": "execute_result",
          "data": {
            "text/plain": [
              "[('cricketing', 0.8372225761413574),\n",
              " ('cricketers', 0.8165745735168457),\n",
              " ('Test_cricket', 0.8094819188117981),\n",
              " ('Twenty##_cricket', 0.8068488240242004),\n",
              " ('Twenty##', 0.7624265551567078),\n",
              " ('Cricket', 0.75413978099823),\n",
              " ('cricketer', 0.7372578382492065),\n",
              " ('twenty##', 0.7316356897354126),\n",
              " ('T##_cricket', 0.7304614186286926),\n",
              " ('West_Indies_cricket', 0.6987985968589783)]"
            ]
          },
          "metadata": {},
          "execution_count": 528
        }
      ]
    },
    {
      "cell_type": "code",
      "source": [
        "wv.most_similar(\"happy\")"
      ],
      "metadata": {
        "colab": {
          "base_uri": "https://localhost:8080/"
        },
        "id": "1x7h_8LyjA8e",
        "outputId": "aafab5a5-18b8-4528-b2b3-4b98657eb543"
      },
      "execution_count": 529,
      "outputs": [
        {
          "output_type": "execute_result",
          "data": {
            "text/plain": [
              "[('glad', 0.7408890724182129),\n",
              " ('pleased', 0.6632170677185059),\n",
              " ('ecstatic', 0.6626912355422974),\n",
              " ('overjoyed', 0.6599286794662476),\n",
              " ('thrilled', 0.6514049172401428),\n",
              " ('satisfied', 0.6437949538230896),\n",
              " ('proud', 0.636042058467865),\n",
              " ('delighted', 0.627237856388092),\n",
              " ('disappointed', 0.6269949674606323),\n",
              " ('excited', 0.6247665286064148)]"
            ]
          },
          "metadata": {},
          "execution_count": 529
        }
      ]
    },
    {
      "cell_type": "code",
      "source": [
        "wv.similarity(\"hockey\",\"sports\")"
      ],
      "metadata": {
        "colab": {
          "base_uri": "https://localhost:8080/"
        },
        "id": "-qtRJbowj_cs",
        "outputId": "7400ce8c-b768-456d-e005-fb330d984ba9"
      },
      "execution_count": 530,
      "outputs": [
        {
          "output_type": "execute_result",
          "data": {
            "text/plain": [
              "0.53541523"
            ]
          },
          "metadata": {},
          "execution_count": 530
        }
      ]
    },
    {
      "cell_type": "code",
      "source": [
        "vec=wv[\"king\"]-wv[\"man\"]+wv[\"woman\"]"
      ],
      "metadata": {
        "id": "uSAQzFHGj_ZF"
      },
      "execution_count": 531,
      "outputs": []
    },
    {
      "cell_type": "code",
      "source": [
        "vec"
      ],
      "metadata": {
        "colab": {
          "base_uri": "https://localhost:8080/"
        },
        "id": "GUEPwzxgj_V6",
        "outputId": "0f368269-f6de-4959-881c-c6e69c3b942a"
      },
      "execution_count": 532,
      "outputs": [
        {
          "output_type": "execute_result",
          "data": {
            "text/plain": [
              "array([ 4.29687500e-02, -1.78222656e-01, -1.29089355e-01,  1.15234375e-01,\n",
              "        2.68554688e-03, -1.02294922e-01,  1.95800781e-01, -1.79504395e-01,\n",
              "        1.95312500e-02,  4.09919739e-01, -3.68164062e-01, -3.96484375e-01,\n",
              "       -1.56738281e-01,  1.46484375e-03, -9.30175781e-02, -1.16455078e-01,\n",
              "       -5.51757812e-02, -1.07574463e-01,  7.91015625e-02,  1.98974609e-01,\n",
              "        2.38525391e-01,  6.34002686e-02, -2.17285156e-02,  0.00000000e+00,\n",
              "        4.72412109e-02, -2.17773438e-01, -3.44726562e-01,  6.37207031e-02,\n",
              "        3.16406250e-01, -1.97631836e-01,  8.59375000e-02, -8.11767578e-02,\n",
              "       -3.71093750e-02,  3.15551758e-01, -3.41796875e-01, -4.68750000e-02,\n",
              "        9.76562500e-02,  8.39843750e-02, -9.71679688e-02,  5.17578125e-02,\n",
              "       -5.00488281e-02, -2.20947266e-01,  2.29492188e-01,  1.26403809e-01,\n",
              "        2.49023438e-01,  2.09960938e-02, -1.09863281e-01,  5.81054688e-02,\n",
              "       -3.35693359e-02,  1.29577637e-01,  2.41699219e-02,  3.48129272e-02,\n",
              "       -2.60009766e-01,  2.42309570e-01, -3.21777344e-01,  1.45416260e-02,\n",
              "       -1.59179688e-01, -8.37402344e-02,  1.65039062e-01,  1.58691406e-03,\n",
              "        3.09570312e-01,  3.16406250e-01,  7.38525391e-03,  2.41210938e-01,\n",
              "        4.90722656e-02, -9.86328125e-02,  2.90527344e-02,  1.49414062e-01,\n",
              "       -4.83398438e-02,  2.35595703e-01,  2.21191406e-01,  1.25488281e-01,\n",
              "       -1.38671875e-01,  1.54296875e-01,  7.18994141e-02,  1.29882812e-01,\n",
              "       -1.05712891e-01,  6.00585938e-02,  3.14697266e-01,  1.09619141e-01,\n",
              "        8.49609375e-02,  7.71484375e-02, -2.17285156e-02,  6.11572266e-02,\n",
              "       -1.89941406e-01,  2.07519531e-01, -1.63085938e-01,  1.13525391e-01,\n",
              "        2.01171875e-01,  6.06689453e-02,  1.27929688e-01, -3.11279297e-01,\n",
              "       -2.80151367e-01, -1.55883789e-01,  4.15039062e-02,  9.87854004e-02,\n",
              "        1.69555664e-01, -3.49121094e-02,  2.08496094e-01, -9.89990234e-02,\n",
              "        4.39453125e-03, -7.27539062e-02, -4.24804688e-02, -4.09179688e-01,\n",
              "       -2.76367188e-01,  1.64062500e-01, -5.57617188e-01, -2.02199936e-01,\n",
              "        2.12158203e-01, -9.81445312e-02,  2.30773926e-01,  2.75878906e-01,\n",
              "        1.68092728e-01, -4.50439453e-02,  1.71615601e-01, -3.77075195e-01,\n",
              "       -3.52478027e-03, -3.01513672e-01,  1.74224854e-01,  3.30078125e-01,\n",
              "        2.00683594e-01,  1.17736816e-01, -1.37695312e-01, -1.07421875e-01,\n",
              "        8.61816406e-02,  1.06445312e-01,  1.44531250e-01,  3.05175781e-03,\n",
              "        1.80664062e-02,  3.73535156e-02,  7.32421875e-03,  1.32812500e-01,\n",
              "        9.61914062e-02,  3.35998535e-01,  1.81152344e-01,  2.40905762e-01,\n",
              "       -8.49609375e-02, -1.10107422e-01,  2.11914062e-01,  5.85937500e-03,\n",
              "        1.62109375e-01, -4.15527344e-01,  1.39160156e-01,  1.01562500e-01,\n",
              "        1.44531250e-01, -1.09375000e-01,  4.88281250e-02,  6.15234375e-02,\n",
              "       -1.69921875e-01,  3.28369141e-02,  5.56640625e-02,  1.47460938e-01,\n",
              "       -2.24609375e-02, -2.73925781e-01, -2.81982422e-01, -1.39160156e-01,\n",
              "       -1.81884766e-01,  9.33532715e-02,  1.21093750e-01, -5.37109375e-03,\n",
              "       -1.87500000e-01,  3.05175781e-04,  5.52734375e-01, -9.71679688e-02,\n",
              "       -1.81640625e-01, -1.51855469e-01,  7.76367188e-02, -2.38281250e-01,\n",
              "       -2.63977051e-02,  2.25555420e-01, -3.02734375e-01,  1.34765625e-01,\n",
              "        3.23242188e-01,  1.25976562e-01,  3.51562500e-02, -2.04345703e-01,\n",
              "        2.96142578e-01,  1.03149414e-01, -4.76074219e-03,  1.69189453e-01,\n",
              "       -3.50585938e-01,  2.46887207e-02, -3.90502930e-01, -2.70507812e-01,\n",
              "        1.85241699e-02,  1.04492188e-01,  2.84179688e-01,  1.35009766e-01,\n",
              "       -5.95703125e-02,  1.88232422e-01,  8.88214111e-02,  3.24707031e-02,\n",
              "       -8.98437500e-02,  5.45043945e-02,  5.65185547e-02,  1.56860352e-01,\n",
              "       -9.70458984e-03, -7.08007812e-02,  5.71289062e-02, -3.08837891e-01,\n",
              "       -1.91894531e-01,  4.83398438e-02,  5.22460938e-02, -1.59667969e-01,\n",
              "       -4.49218750e-02, -7.37304688e-02,  5.51757812e-02,  2.12402344e-01,\n",
              "        2.05322266e-01, -2.73437500e-02,  7.86132812e-02,  3.19091797e-01,\n",
              "       -1.56982422e-01, -3.92822266e-01,  4.00390625e-02,  9.93652344e-02,\n",
              "       -1.97372437e-02, -8.25195312e-02,  2.53906250e-02,  3.10668945e-02,\n",
              "       -3.63769531e-02,  1.48925781e-02,  2.20703125e-01, -5.98144531e-02,\n",
              "        6.15234375e-02, -7.14111328e-02, -4.00390625e-02, -1.03515625e-01,\n",
              "        9.22851562e-02,  2.71789551e-01, -2.30224609e-01, -2.62695312e-01,\n",
              "       -5.61523438e-01,  1.38549805e-02,  1.09863281e-01,  7.22656250e-02,\n",
              "        4.58984375e-02, -3.31802368e-02, -8.03833008e-02, -6.10351562e-03,\n",
              "        2.09960938e-01, -3.86840820e-01,  1.44645691e-01,  8.05664062e-02,\n",
              "        2.96264648e-01, -1.17187500e-02, -2.34680176e-01,  1.32019043e-01,\n",
              "        2.53906250e-01, -2.46826172e-01,  1.03759766e-01,  1.14013672e-01,\n",
              "        1.71875000e-01, -5.61523438e-03,  2.05078125e-01,  6.34765625e-02,\n",
              "       -4.51293945e-01, -2.26562500e-01, -1.03027344e-01, -1.31469727e-01,\n",
              "        3.75976562e-02,  2.70996094e-01, -2.39257812e-01,  3.80859375e-02,\n",
              "       -3.90625000e-02, -9.42382812e-02,  8.30078125e-03,  7.03125000e-02,\n",
              "        2.75390625e-01,  3.31542969e-01, -1.07421875e-02,  3.72192383e-01,\n",
              "       -1.24511719e-01,  1.94335938e-01, -1.35620117e-01, -3.09570312e-01,\n",
              "       -2.36328125e-01, -1.26953125e-02, -2.76855469e-01,  1.57714844e-01,\n",
              "        3.07617188e-01, -2.32910156e-01,  3.25439453e-01,  1.36718750e-02,\n",
              "        1.99462891e-01, -2.61840820e-02, -8.08105469e-02, -7.50732422e-02,\n",
              "       -4.11109924e-02,  1.95556641e-01, -5.64270020e-02, -2.79296875e-01,\n",
              "       -2.75390625e-01, -4.04296875e-01, -1.75781250e-02, -5.85937500e-03,\n",
              "       -7.71484375e-02,  1.33789062e-01,  2.36816406e-01,  2.01538086e-01],\n",
              "      dtype=float32)"
            ]
          },
          "metadata": {},
          "execution_count": 532
        }
      ]
    },
    {
      "cell_type": "code",
      "source": [
        "wv.most_similar([vec])"
      ],
      "metadata": {
        "colab": {
          "base_uri": "https://localhost:8080/"
        },
        "id": "lm3BSnxhknfT",
        "outputId": "bfd67924-bdc3-4c26-8843-f5a75c8ac71a"
      },
      "execution_count": 533,
      "outputs": [
        {
          "output_type": "execute_result",
          "data": {
            "text/plain": [
              "[('king', 0.8449392318725586),\n",
              " ('queen', 0.7300517559051514),\n",
              " ('monarch', 0.645466148853302),\n",
              " ('princess', 0.6156251430511475),\n",
              " ('crown_prince', 0.5818676352500916),\n",
              " ('prince', 0.5777117609977722),\n",
              " ('kings', 0.5613663792610168),\n",
              " ('sultan', 0.5376775860786438),\n",
              " ('Queen_Consort', 0.5344247817993164),\n",
              " ('queens', 0.5289887189865112)]"
            ]
          },
          "metadata": {},
          "execution_count": 533
        }
      ]
    }
  ]
}